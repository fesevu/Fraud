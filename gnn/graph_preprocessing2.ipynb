{
 "cells": [
  {
   "cell_type": "markdown",
   "id": "1bed7e06",
   "metadata": {},
   "source": [
    "# 📓 Препроцессинг графа аккаунтов и транзакций\n",
    "Ниже ‒ **полностью локальный** pipeline в стиле Jupyter Notebook, который:\n",
    "\n",
    "1. Загружает `accounts.csv` и `transactions.csv`\n",
    "2. Строит ориентированный граф `NetworkX`\n",
    "3. Считает структурные и финансовые признаки узлов\n",
    "4. Конвертирует граф в объект `torch_geometric.data.Data`\n",
    "5. Делает маски `train / val / test`\n",
    "6. (Опционально) сериализует результат на диск\n",
    "\n",
    "Работает целиком без TigerGraph.\n"
   ]
  },
  {
   "cell_type": "markdown",
   "id": "788e4b6e",
   "metadata": {},
   "source": [
    "## 📦 Установка зависимостей"
   ]
  },
  {
   "cell_type": "code",
   "execution_count": null,
   "id": "a1c78e56",
   "metadata": {},
   "outputs": [],
   "source": [
    "!pip install torch==2.2.2 torch_geometric==2.5.3 networkx pandas numpy -q"
   ]
  },
  {
   "cell_type": "markdown",
   "id": "8e09fb75",
   "metadata": {},
   "source": [
    "## 🚀 Импорты"
   ]
  },
  {
   "cell_type": "code",
   "execution_count": null,
   "id": "8c5e0349",
   "metadata": {},
   "outputs": [],
   "source": [
    "from pathlib import Path\n",
    "import networkx as nx\n",
    "import pandas as pd\n",
    "import numpy as np\n",
    "import torch\n",
    "from torch_geometric.data import Data\n",
    "from torch_geometric.utils import from_networkx\n",
    "\n",
    "print(torch.__version__)"
   ]
  },
  {
   "cell_type": "markdown",
   "id": "ccdc8302",
   "metadata": {},
   "source": [
    "## 📂 Пути к данным"
   ]
  },
  {
   "cell_type": "code",
   "execution_count": null,
   "id": "6575c3e7",
   "metadata": {},
   "outputs": [],
   "source": [
    "ACCOUNTS_CSV = Path('accounts.csv')      # обновите при необходимости\n",
    "TXS_CSV      = Path('transactions.csv')   # обновите при необходимости\n",
    "\n",
    "assert ACCOUNTS_CSV.exists(), f'{ACCOUNTS_CSV} not found'\n",
    "assert TXS_CSV.exists(), f'{TXS_CSV} not found'"
   ]
  },
  {
   "cell_type": "markdown",
   "id": "e66d8a6a",
   "metadata": {},
   "source": [
    "## 📥 Загрузка CSV"
   ]
  },
  {
   "cell_type": "code",
   "execution_count": null,
   "id": "5b277d94",
   "metadata": {},
   "outputs": [],
   "source": [
    "acc_df = pd.read_csv(ACCOUNTS_CSV, header=None, names=['id', 'label'])\n",
    "tx_df  = pd.read_csv(TXS_CSV, header=None, names=['src', 'dst', 'amount', 'timestamp'])\n",
    "\n",
    "display(acc_df.head())\n",
    "display(tx_df.head())"
   ]
  },
  {
   "cell_type": "markdown",
   "id": "371b8f2a",
   "metadata": {},
   "source": [
    "## 🏗️ Сборка графа"
   ]
  },
  {
   "cell_type": "code",
   "execution_count": null,
   "id": "be9dd2ff",
   "metadata": {},
   "outputs": [],
   "source": [
    "G = nx.DiGraph()\n",
    "\n",
    "# add nodes\n",
    "for _, row in acc_df.iterrows():\n",
    "    G.add_node(row.id, label=int(bool(row.label)))\n",
    "\n",
    "# add edges\n",
    "for _, row in tx_df.iterrows():\n",
    "    G.add_edge(row.src, row.dst, amount=float(row.amount), ts=float(row.timestamp))\n",
    "\n",
    "print(f'Граф содержит {G.number_of_nodes():,} узлов и {G.number_of_edges():,} рёбер')"
   ]
  },
  {
   "cell_type": "markdown",
   "id": "965bad82",
   "metadata": {},
   "source": [
    "## 🧮 Фичи узлов"
   ]
  },
  {
   "cell_type": "code",
   "execution_count": null,
   "id": "b97d4768",
   "metadata": {},
   "outputs": [],
   "source": [
    "# Структурные признаки\n",
    "in_deg  = dict(G.in_degree())\n",
    "out_deg = dict(G.out_degree())\n",
    "\n",
    "# Финансовые суммы\n",
    "sent_sum = {n: 0.0 for n in G.nodes()}\n",
    "recv_sum = {n: 0.0 for n in G.nodes()}\n",
    "for u, v, d in G.edges(data=True):\n",
    "    amt = d['amount']\n",
    "    sent_sum[u] += amt\n",
    "    recv_sum[v] += amt\n",
    "\n",
    "# PageRank и кластерный коэффициент\n",
    "pr = nx.pagerank(G, alpha=0.85)\n",
    "clust = nx.clustering(G.to_undirected())\n",
    "\n",
    "# Записываем фичи в граф\n",
    "for n in G.nodes():\n",
    "    G.nodes[n].update({\n",
    "        'in_deg':      in_deg.get(n, 0),\n",
    "        'out_deg':     out_deg.get(n, 0),\n",
    "        'sent_sum':    sent_sum[n],\n",
    "        'recv_sum':    recv_sum[n],\n",
    "        'net_sum':     sent_sum[n] - recv_sum[n],\n",
    "        'pagerank':    pr[n],\n",
    "        'clustering':  clust[n],\n",
    "    })\n",
    "\n",
    "print('Пример фич узла:', list(G.nodes(data=True))[0])"
   ]
  },
  {
   "cell_type": "markdown",
   "id": "555b743c",
   "metadata": {},
   "source": [
    "## 🔄 Конвертация в `torch_geometric.data.Data`"
   ]
  },
  {
   "cell_type": "code",
   "execution_count": null,
   "id": "9eae8952",
   "metadata": {},
   "outputs": [],
   "source": [
    "num_attr_keys = ['in_deg','out_deg','sent_sum','recv_sum','net_sum','pagerank','clustering']\n",
    "\n",
    "for n in G.nodes():\n",
    "    G.nodes[n]['x'] = torch.tensor([float(G.nodes[n][k]) for k in num_attr_keys], dtype=torch.float)\n",
    "\n",
    "data = from_networkx(G, group_node_attrs=['x'])\n",
    "data.y = torch.tensor([G.nodes[n].get('label', -1) for n in G.nodes()], dtype=torch.long)\n",
    "\n",
    "print(data)"
   ]
  },
  {
   "cell_type": "markdown",
   "id": "c969c1a4",
   "metadata": {},
   "source": [
    "## ✂️ Train / Val / Test сплит"
   ]
  },
  {
   "cell_type": "code",
   "execution_count": null,
   "id": "28fd8d4c",
   "metadata": {},
   "outputs": [],
   "source": [
    "torch.manual_seed(42)\n",
    "N = data.num_nodes\n",
    "perm = torch.randperm(N)\n",
    "n_train = int(0.6 * N)\n",
    "n_val   = int(0.2 * N)\n",
    "\n",
    "data.train_mask = torch.zeros(N, dtype=torch.bool)\n",
    "data.val_mask   = torch.zeros(N, dtype=torch.bool)\n",
    "data.test_mask  = torch.zeros(N, dtype=torch.bool)\n",
    "\n",
    "data.train_mask[perm[:n_train]]           = True\n",
    "data.val_mask[perm[n_train:n_train+n_val]] = True\n",
    "data.test_mask[perm[n_train+n_val:]]      = True\n",
    "\n",
    "print(f'Train: {data.train_mask.sum().item()}, Val: {data.val_mask.sum().item()}, Test: {data.test_mask.sum().item()}')"
   ]
  },
  {
   "cell_type": "markdown",
   "id": "ff212247",
   "metadata": {},
   "source": [
    "## 💾 Сохранение PyG-объекта"
   ]
  },
  {
   "cell_type": "code",
   "execution_count": null,
   "id": "310b35ff",
   "metadata": {},
   "outputs": [],
   "source": [
    "OUT_PATH = Path('eth_graph.pt')\n",
    "torch.save(data, OUT_PATH)\n",
    "print(f'Сериализовано в {OUT_PATH.resolve()}')"
   ]
  },
  {
   "cell_type": "markdown",
   "id": "8489ae15",
   "metadata": {},
   "source": [
    "### 🎉 Готово! Далее можно переходить к построению и обучению GNN‑модели."
   ]
  },
  {
   "cell_type": "markdown",
   "id": "6f1b8c98",
   "metadata": {},
   "source": [
    "## 🧠 Определение GNN‑модели (GCN)"
   ]
  },
  {
   "cell_type": "code",
   "execution_count": null,
   "id": "ac285805",
   "metadata": {},
   "outputs": [],
   "source": [
    "from torch_geometric.nn import GCNConv\n",
    "import torch.nn.functional as F\n",
    "\n",
    "class GCN(torch.nn.Module):\n",
    "    def __init__(self, in_channels: int, hidden_channels: int, num_classes: int):\n",
    "        super().__init__()\n",
    "        self.conv1 = GCNConv(in_channels, hidden_channels)\n",
    "        self.conv2 = GCNConv(hidden_channels, num_classes)\n",
    "\n",
    "    def forward(self, x, edge_index):\n",
    "        x = self.conv1(x, edge_index)\n",
    "        x = F.relu(x)\n",
    "        x = self.conv2(x, edge_index)\n",
    "        return x\n",
    "\n",
    "print('GCN model ready')"
   ]
  },
  {
   "cell_type": "markdown",
   "id": "1aa0685f",
   "metadata": {},
   "source": [
    "## 🏃‍♂️ Обучение и валидация"
   ]
  },
  {
   "cell_type": "code",
   "execution_count": null,
   "id": "0c81be7c",
   "metadata": {},
   "outputs": [],
   "source": [
    "device = torch.device('cuda' if torch.cuda.is_available() else 'cpu')\n",
    "model = GCN(data.num_node_features, 64, int(data.y.max().item()) + 1).to(device)\n",
    "data = data.to(device)\n",
    "\n",
    "optimizer = torch.optim.Adam(model.parameters(), lr=0.01, weight_decay=5e-4)\n",
    "criterion = torch.nn.CrossEntropyLoss()\n",
    "\n",
    "def train():\n",
    "    model.train()\n",
    "    optimizer.zero_grad()\n",
    "    out = model(data.x, data.edge_index)\n",
    "    loss = criterion(out[data.train_mask], data.y[data.train_mask])\n",
    "    loss.backward()\n",
    "    optimizer.step()\n",
    "    return loss.item()\n",
    "\n",
    "@torch.no_grad()\n",
    "def accuracy(mask):\n",
    "    model.eval()\n",
    "    logits = model(data.x, data.edge_index)\n",
    "    preds = logits.argmax(dim=1)\n",
    "    correct = (preds[mask] == data.y[mask]).sum().item()\n",
    "    return correct / int(mask.sum())\n",
    "\n",
    "for epoch in range(1, 201):\n",
    "    loss = train()\n",
    "    if epoch % 10 == 0:\n",
    "        train_acc = accuracy(data.train_mask)\n",
    "        val_acc = accuracy(data.val_mask)\n",
    "        print(f'Epoch {epoch:03d} | Loss {loss:.4f} | Train Acc {train_acc:.3f} | Val Acc {val_acc:.3f}')\n",
    "\n",
    "test_acc = accuracy(data.test_mask)\n",
    "print(f'✅ Test Accuracy: {test_acc:.3f}')"
   ]
  },
  {
   "cell_type": "markdown",
   "id": "547a966e",
   "metadata": {},
   "source": [
    "## 💾 Сохранение обученной модели"
   ]
  },
  {
   "cell_type": "code",
   "execution_count": null,
   "id": "aac1b292",
   "metadata": {},
   "outputs": [],
   "source": [
    "MODEL_PATH = Path('gcn_model.pt')\n",
    "torch.save(model.state_dict(), MODEL_PATH)\n",
    "print(f'Модель сохранена в {MODEL_PATH.resolve()}')"
   ]
  }
 ],
 "metadata": {},
 "nbformat": 4,
 "nbformat_minor": 5
}
