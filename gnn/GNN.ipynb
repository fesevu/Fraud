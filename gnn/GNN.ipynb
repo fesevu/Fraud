{
 "cells": [
  {
   "cell_type": "code",
   "execution_count": 116,
   "id": "5f0977df",
   "metadata": {},
   "outputs": [
    {
     "name": "stderr",
     "output_type": "stream",
     "text": [
      "/opt/homebrew/Cellar/python@3.12/3.12.9/Frameworks/Python.framework/Versions/3.12/lib/python3.12/pty.py:95: DeprecationWarning: This process (pid=58194) is multi-threaded, use of forkpty() may lead to deadlocks in the child.\n",
      "  pid, fd = os.forkpty()\n"
     ]
    },
    {
     "name": "stdout",
     "output_type": "stream",
     "text": [
      "Requirement already satisfied: torch==2.6.0 in /Users/a1234/Fraud/.venv/lib/python3.12/site-packages (2.6.0)\n",
      "Requirement already satisfied: torchvision in /Users/a1234/Fraud/.venv/lib/python3.12/site-packages (0.21.0)\n",
      "Requirement already satisfied: torchaudio in /Users/a1234/Fraud/.venv/lib/python3.12/site-packages (2.6.0)\n",
      "Requirement already satisfied: filelock in /Users/a1234/Fraud/.venv/lib/python3.12/site-packages (from torch==2.6.0) (3.18.0)\n",
      "Requirement already satisfied: typing-extensions>=4.10.0 in /Users/a1234/Fraud/.venv/lib/python3.12/site-packages (from torch==2.6.0) (4.13.2)\n",
      "Requirement already satisfied: networkx in /Users/a1234/Fraud/.venv/lib/python3.12/site-packages (from torch==2.6.0) (3.4.2)\n",
      "Requirement already satisfied: jinja2 in /Users/a1234/Fraud/.venv/lib/python3.12/site-packages (from torch==2.6.0) (3.1.6)\n",
      "Requirement already satisfied: fsspec in /Users/a1234/Fraud/.venv/lib/python3.12/site-packages (from torch==2.6.0) (2025.3.2)\n",
      "Requirement already satisfied: setuptools in /Users/a1234/Fraud/.venv/lib/python3.12/site-packages (from torch==2.6.0) (80.3.1)\n",
      "Requirement already satisfied: sympy==1.13.1 in /Users/a1234/Fraud/.venv/lib/python3.12/site-packages (from torch==2.6.0) (1.13.1)\n",
      "Requirement already satisfied: mpmath<1.4,>=1.1.0 in /Users/a1234/Fraud/.venv/lib/python3.12/site-packages (from sympy==1.13.1->torch==2.6.0) (1.3.0)\n",
      "Requirement already satisfied: numpy in /Users/a1234/Fraud/.venv/lib/python3.12/site-packages (from torchvision) (2.2.5)\n",
      "Requirement already satisfied: pillow!=8.3.*,>=5.3.0 in /Users/a1234/Fraud/.venv/lib/python3.12/site-packages (from torchvision) (11.2.1)\n",
      "Requirement already satisfied: MarkupSafe>=2.0 in /Users/a1234/Fraud/.venv/lib/python3.12/site-packages (from jinja2->torch==2.6.0) (3.0.2)\n",
      "Note: you may need to restart the kernel to use updated packages.\n",
      "Requirement already satisfied: torch_geometric in /Users/a1234/Fraud/.venv/lib/python3.12/site-packages (2.6.1)\n",
      "Requirement already satisfied: aiohttp in /Users/a1234/Fraud/.venv/lib/python3.12/site-packages (from torch_geometric) (3.11.18)\n",
      "Requirement already satisfied: fsspec in /Users/a1234/Fraud/.venv/lib/python3.12/site-packages (from torch_geometric) (2025.3.2)\n",
      "Requirement already satisfied: jinja2 in /Users/a1234/Fraud/.venv/lib/python3.12/site-packages (from torch_geometric) (3.1.6)\n",
      "Requirement already satisfied: numpy in /Users/a1234/Fraud/.venv/lib/python3.12/site-packages (from torch_geometric) (2.2.5)\n",
      "Requirement already satisfied: psutil>=5.8.0 in /Users/a1234/Fraud/.venv/lib/python3.12/site-packages (from torch_geometric) (7.0.0)\n",
      "Requirement already satisfied: pyparsing in /Users/a1234/Fraud/.venv/lib/python3.12/site-packages (from torch_geometric) (3.2.3)\n",
      "Requirement already satisfied: requests in /Users/a1234/Fraud/.venv/lib/python3.12/site-packages (from torch_geometric) (2.32.3)\n",
      "Requirement already satisfied: tqdm in /Users/a1234/Fraud/.venv/lib/python3.12/site-packages (from torch_geometric) (4.67.1)\n",
      "Requirement already satisfied: aiohappyeyeballs>=2.3.0 in /Users/a1234/Fraud/.venv/lib/python3.12/site-packages (from aiohttp->torch_geometric) (2.6.1)\n",
      "Requirement already satisfied: aiosignal>=1.1.2 in /Users/a1234/Fraud/.venv/lib/python3.12/site-packages (from aiohttp->torch_geometric) (1.3.2)\n",
      "Requirement already satisfied: attrs>=17.3.0 in /Users/a1234/Fraud/.venv/lib/python3.12/site-packages (from aiohttp->torch_geometric) (25.3.0)\n",
      "Requirement already satisfied: frozenlist>=1.1.1 in /Users/a1234/Fraud/.venv/lib/python3.12/site-packages (from aiohttp->torch_geometric) (1.6.0)\n",
      "Requirement already satisfied: multidict<7.0,>=4.5 in /Users/a1234/Fraud/.venv/lib/python3.12/site-packages (from aiohttp->torch_geometric) (6.4.3)\n",
      "Requirement already satisfied: propcache>=0.2.0 in /Users/a1234/Fraud/.venv/lib/python3.12/site-packages (from aiohttp->torch_geometric) (0.3.1)\n",
      "Requirement already satisfied: yarl<2.0,>=1.17.0 in /Users/a1234/Fraud/.venv/lib/python3.12/site-packages (from aiohttp->torch_geometric) (1.20.0)\n",
      "Requirement already satisfied: idna>=2.0 in /Users/a1234/Fraud/.venv/lib/python3.12/site-packages (from yarl<2.0,>=1.17.0->aiohttp->torch_geometric) (3.10)\n",
      "Requirement already satisfied: MarkupSafe>=2.0 in /Users/a1234/Fraud/.venv/lib/python3.12/site-packages (from jinja2->torch_geometric) (3.0.2)\n",
      "Requirement already satisfied: charset-normalizer<4,>=2 in /Users/a1234/Fraud/.venv/lib/python3.12/site-packages (from requests->torch_geometric) (3.4.2)\n",
      "Requirement already satisfied: urllib3<3,>=1.21.1 in /Users/a1234/Fraud/.venv/lib/python3.12/site-packages (from requests->torch_geometric) (2.4.0)\n",
      "Requirement already satisfied: certifi>=2017.4.17 in /Users/a1234/Fraud/.venv/lib/python3.12/site-packages (from requests->torch_geometric) (2025.4.26)\n",
      "Note: you may need to restart the kernel to use updated packages.\n",
      "Looking in links: https://data.pyg.org/whl/torch-2.6.0+cpu.html\n",
      "Requirement already satisfied: pyg_lib in /Users/a1234/Fraud/.venv/lib/python3.12/site-packages (0.4.0+pt26)\n",
      "Requirement already satisfied: torch_scatter in /Users/a1234/Fraud/.venv/lib/python3.12/site-packages (2.1.2)\n",
      "Requirement already satisfied: torch_sparse in /Users/a1234/Fraud/.venv/lib/python3.12/site-packages (0.6.18)\n",
      "Requirement already satisfied: torch_cluster in /Users/a1234/Fraud/.venv/lib/python3.12/site-packages (1.6.3)\n",
      "Requirement already satisfied: torch_spline_conv in /Users/a1234/Fraud/.venv/lib/python3.12/site-packages (1.2.2)\n",
      "Requirement already satisfied: scipy in /Users/a1234/Fraud/.venv/lib/python3.12/site-packages (from torch_sparse) (1.15.3)\n",
      "Requirement already satisfied: numpy<2.5,>=1.23.5 in /Users/a1234/Fraud/.venv/lib/python3.12/site-packages (from scipy->torch_sparse) (2.2.5)\n",
      "Note: you may need to restart the kernel to use updated packages.\n",
      "Requirement already satisfied: pyTigerGraph[gds] in /Users/a1234/Fraud/.venv/lib/python3.12/site-packages (1.8.7)\n",
      "Requirement already satisfied: validators in /Users/a1234/Fraud/.venv/lib/python3.12/site-packages (from pyTigerGraph[gds]) (0.35.0)\n",
      "Requirement already satisfied: requests in /Users/a1234/Fraud/.venv/lib/python3.12/site-packages (from pyTigerGraph[gds]) (2.32.3)\n",
      "Requirement already satisfied: httpx in /Users/a1234/Fraud/.venv/lib/python3.12/site-packages (from pyTigerGraph[gds]) (0.28.1)\n",
      "Requirement already satisfied: pandas in /Users/a1234/Fraud/.venv/lib/python3.12/site-packages (from pyTigerGraph[gds]) (2.2.3)\n",
      "Collecting kafka-python (from pyTigerGraph[gds])\n",
      "  Downloading kafka_python-2.2.6-py2.py3-none-any.whl.metadata (10.0 kB)\n",
      "Requirement already satisfied: numpy in /Users/a1234/Fraud/.venv/lib/python3.12/site-packages (from pyTigerGraph[gds]) (2.2.5)\n",
      "Requirement already satisfied: tqdm in /Users/a1234/Fraud/.venv/lib/python3.12/site-packages (from pyTigerGraph[gds]) (4.67.1)\n",
      "Requirement already satisfied: anyio in /Users/a1234/Fraud/.venv/lib/python3.12/site-packages (from httpx->pyTigerGraph[gds]) (4.9.0)\n",
      "Requirement already satisfied: certifi in /Users/a1234/Fraud/.venv/lib/python3.12/site-packages (from httpx->pyTigerGraph[gds]) (2025.4.26)\n",
      "Requirement already satisfied: httpcore==1.* in /Users/a1234/Fraud/.venv/lib/python3.12/site-packages (from httpx->pyTigerGraph[gds]) (1.0.9)\n",
      "Requirement already satisfied: idna in /Users/a1234/Fraud/.venv/lib/python3.12/site-packages (from httpx->pyTigerGraph[gds]) (3.10)\n",
      "Requirement already satisfied: h11>=0.16 in /Users/a1234/Fraud/.venv/lib/python3.12/site-packages (from httpcore==1.*->httpx->pyTigerGraph[gds]) (0.16.0)\n",
      "Requirement already satisfied: sniffio>=1.1 in /Users/a1234/Fraud/.venv/lib/python3.12/site-packages (from anyio->httpx->pyTigerGraph[gds]) (1.3.1)\n",
      "Requirement already satisfied: typing_extensions>=4.5 in /Users/a1234/Fraud/.venv/lib/python3.12/site-packages (from anyio->httpx->pyTigerGraph[gds]) (4.13.2)\n",
      "Requirement already satisfied: python-dateutil>=2.8.2 in /Users/a1234/Fraud/.venv/lib/python3.12/site-packages (from pandas->pyTigerGraph[gds]) (2.9.0.post0)\n",
      "Requirement already satisfied: pytz>=2020.1 in /Users/a1234/Fraud/.venv/lib/python3.12/site-packages (from pandas->pyTigerGraph[gds]) (2025.2)\n",
      "Requirement already satisfied: tzdata>=2022.7 in /Users/a1234/Fraud/.venv/lib/python3.12/site-packages (from pandas->pyTigerGraph[gds]) (2025.2)\n",
      "Requirement already satisfied: six>=1.5 in /Users/a1234/Fraud/.venv/lib/python3.12/site-packages (from python-dateutil>=2.8.2->pandas->pyTigerGraph[gds]) (1.17.0)\n",
      "Requirement already satisfied: charset-normalizer<4,>=2 in /Users/a1234/Fraud/.venv/lib/python3.12/site-packages (from requests->pyTigerGraph[gds]) (3.4.2)\n",
      "Requirement already satisfied: urllib3<3,>=1.21.1 in /Users/a1234/Fraud/.venv/lib/python3.12/site-packages (from requests->pyTigerGraph[gds]) (2.4.0)\n",
      "Downloading kafka_python-2.2.6-py2.py3-none-any.whl (308 kB)\n",
      "Installing collected packages: kafka-python\n",
      "Successfully installed kafka-python-2.2.6\n",
      "Note: you may need to restart the kernel to use updated packages.\n",
      "Requirement already satisfied: xgboost in /Users/a1234/Fraud/.venv/lib/python3.12/site-packages (3.0.0)\n",
      "Requirement already satisfied: pandas in /Users/a1234/Fraud/.venv/lib/python3.12/site-packages (2.2.3)\n",
      "Requirement already satisfied: matplotlib in /Users/a1234/Fraud/.venv/lib/python3.12/site-packages (3.10.1)\n",
      "Requirement already satisfied: graphviz in /Users/a1234/Fraud/.venv/lib/python3.12/site-packages (0.20.3)\n",
      "Requirement already satisfied: scikit-learn in /Users/a1234/Fraud/.venv/lib/python3.12/site-packages (1.6.1)\n",
      "Requirement already satisfied: tqdm in /Users/a1234/Fraud/.venv/lib/python3.12/site-packages (4.67.1)\n",
      "Requirement already satisfied: numpy in /Users/a1234/Fraud/.venv/lib/python3.12/site-packages (2.2.5)\n",
      "Requirement already satisfied: scipy in /Users/a1234/Fraud/.venv/lib/python3.12/site-packages (from xgboost) (1.15.3)\n",
      "Requirement already satisfied: python-dateutil>=2.8.2 in /Users/a1234/Fraud/.venv/lib/python3.12/site-packages (from pandas) (2.9.0.post0)\n",
      "Requirement already satisfied: pytz>=2020.1 in /Users/a1234/Fraud/.venv/lib/python3.12/site-packages (from pandas) (2025.2)\n",
      "Requirement already satisfied: tzdata>=2022.7 in /Users/a1234/Fraud/.venv/lib/python3.12/site-packages (from pandas) (2025.2)\n",
      "Requirement already satisfied: contourpy>=1.0.1 in /Users/a1234/Fraud/.venv/lib/python3.12/site-packages (from matplotlib) (1.3.2)\n",
      "Requirement already satisfied: cycler>=0.10 in /Users/a1234/Fraud/.venv/lib/python3.12/site-packages (from matplotlib) (0.12.1)\n",
      "Requirement already satisfied: fonttools>=4.22.0 in /Users/a1234/Fraud/.venv/lib/python3.12/site-packages (from matplotlib) (4.57.0)\n",
      "Requirement already satisfied: kiwisolver>=1.3.1 in /Users/a1234/Fraud/.venv/lib/python3.12/site-packages (from matplotlib) (1.4.8)\n",
      "Requirement already satisfied: packaging>=20.0 in /Users/a1234/Fraud/.venv/lib/python3.12/site-packages (from matplotlib) (25.0)\n",
      "Requirement already satisfied: pillow>=8 in /Users/a1234/Fraud/.venv/lib/python3.12/site-packages (from matplotlib) (11.2.1)\n",
      "Requirement already satisfied: pyparsing>=2.3.1 in /Users/a1234/Fraud/.venv/lib/python3.12/site-packages (from matplotlib) (3.2.3)\n",
      "Requirement already satisfied: joblib>=1.2.0 in /Users/a1234/Fraud/.venv/lib/python3.12/site-packages (from scikit-learn) (1.5.0)\n",
      "Requirement already satisfied: threadpoolctl>=3.1.0 in /Users/a1234/Fraud/.venv/lib/python3.12/site-packages (from scikit-learn) (3.6.0)\n",
      "Requirement already satisfied: six>=1.5 in /Users/a1234/Fraud/.venv/lib/python3.12/site-packages (from python-dateutil>=2.8.2->pandas) (1.17.0)\n",
      "Note: you may need to restart the kernel to use updated packages.\n",
      "Requirement already satisfied: ipycytoscape in /Users/a1234/Fraud/.venv/lib/python3.12/site-packages (1.3.3)\n",
      "Requirement already satisfied: ipywidgets>=7.6.0 in /Users/a1234/Fraud/.venv/lib/python3.12/site-packages (from ipycytoscape) (8.1.7)\n",
      "Requirement already satisfied: spectate>=1.0.0 in /Users/a1234/Fraud/.venv/lib/python3.12/site-packages (from ipycytoscape) (1.0.1)\n",
      "Requirement already satisfied: comm>=0.1.3 in /Users/a1234/Fraud/.venv/lib/python3.12/site-packages (from ipywidgets>=7.6.0->ipycytoscape) (0.2.2)\n",
      "Requirement already satisfied: ipython>=6.1.0 in /Users/a1234/Fraud/.venv/lib/python3.12/site-packages (from ipywidgets>=7.6.0->ipycytoscape) (9.2.0)\n",
      "Requirement already satisfied: traitlets>=4.3.1 in /Users/a1234/Fraud/.venv/lib/python3.12/site-packages (from ipywidgets>=7.6.0->ipycytoscape) (5.14.3)\n",
      "Requirement already satisfied: widgetsnbextension~=4.0.14 in /Users/a1234/Fraud/.venv/lib/python3.12/site-packages (from ipywidgets>=7.6.0->ipycytoscape) (4.0.14)\n",
      "Requirement already satisfied: jupyterlab_widgets~=3.0.15 in /Users/a1234/Fraud/.venv/lib/python3.12/site-packages (from ipywidgets>=7.6.0->ipycytoscape) (3.0.15)\n",
      "Requirement already satisfied: decorator in /Users/a1234/Fraud/.venv/lib/python3.12/site-packages (from ipython>=6.1.0->ipywidgets>=7.6.0->ipycytoscape) (5.2.1)\n",
      "Requirement already satisfied: ipython-pygments-lexers in /Users/a1234/Fraud/.venv/lib/python3.12/site-packages (from ipython>=6.1.0->ipywidgets>=7.6.0->ipycytoscape) (1.1.1)\n",
      "Requirement already satisfied: jedi>=0.16 in /Users/a1234/Fraud/.venv/lib/python3.12/site-packages (from ipython>=6.1.0->ipywidgets>=7.6.0->ipycytoscape) (0.19.2)\n",
      "Requirement already satisfied: matplotlib-inline in /Users/a1234/Fraud/.venv/lib/python3.12/site-packages (from ipython>=6.1.0->ipywidgets>=7.6.0->ipycytoscape) (0.1.7)\n",
      "Requirement already satisfied: pexpect>4.3 in /Users/a1234/Fraud/.venv/lib/python3.12/site-packages (from ipython>=6.1.0->ipywidgets>=7.6.0->ipycytoscape) (4.9.0)\n",
      "Requirement already satisfied: prompt_toolkit<3.1.0,>=3.0.41 in /Users/a1234/Fraud/.venv/lib/python3.12/site-packages (from ipython>=6.1.0->ipywidgets>=7.6.0->ipycytoscape) (3.0.51)\n",
      "Requirement already satisfied: pygments>=2.4.0 in /Users/a1234/Fraud/.venv/lib/python3.12/site-packages (from ipython>=6.1.0->ipywidgets>=7.6.0->ipycytoscape) (2.19.1)\n",
      "Requirement already satisfied: stack_data in /Users/a1234/Fraud/.venv/lib/python3.12/site-packages (from ipython>=6.1.0->ipywidgets>=7.6.0->ipycytoscape) (0.6.3)\n",
      "Requirement already satisfied: wcwidth in /Users/a1234/Fraud/.venv/lib/python3.12/site-packages (from prompt_toolkit<3.1.0,>=3.0.41->ipython>=6.1.0->ipywidgets>=7.6.0->ipycytoscape) (0.2.13)\n",
      "Requirement already satisfied: parso<0.9.0,>=0.8.4 in /Users/a1234/Fraud/.venv/lib/python3.12/site-packages (from jedi>=0.16->ipython>=6.1.0->ipywidgets>=7.6.0->ipycytoscape) (0.8.4)\n",
      "Requirement already satisfied: ptyprocess>=0.5 in /Users/a1234/Fraud/.venv/lib/python3.12/site-packages (from pexpect>4.3->ipython>=6.1.0->ipywidgets>=7.6.0->ipycytoscape) (0.7.0)\n",
      "Requirement already satisfied: executing>=1.2.0 in /Users/a1234/Fraud/.venv/lib/python3.12/site-packages (from stack_data->ipython>=6.1.0->ipywidgets>=7.6.0->ipycytoscape) (2.2.0)\n",
      "Requirement already satisfied: asttokens>=2.1.0 in /Users/a1234/Fraud/.venv/lib/python3.12/site-packages (from stack_data->ipython>=6.1.0->ipywidgets>=7.6.0->ipycytoscape) (3.0.0)\n",
      "Requirement already satisfied: pure-eval in /Users/a1234/Fraud/.venv/lib/python3.12/site-packages (from stack_data->ipython>=6.1.0->ipywidgets>=7.6.0->ipycytoscape) (0.2.3)\n",
      "Note: you may need to restart the kernel to use updated packages.\n"
     ]
    }
   ],
   "source": [
    "# 2.1 PyTorch (CPU) – подмените индекс, если нужна CUDA\n",
    "%pip install torch==2.6.0 torchvision torchaudio\n",
    "\n",
    "# 2.2 PyG: с 2.3+ внешних библиотек почти нет, ставим одной строкой\n",
    "%pip install torch_geometric \n",
    "%pip install pyg_lib torch_scatter torch_sparse torch_cluster torch_spline_conv -f https://data.pyg.org/whl/torch-2.6.0+cpu.html\n",
    "\n",
    "# 2.3 pyTigerGraph (понадобится torch заранее)\n",
    "%pip install 'pyTigerGraph[gds]'\n",
    "\n",
    "# 2.4 остальное\n",
    "%pip install xgboost pandas matplotlib graphviz scikit-learn tqdm numpy\n",
    "%pip install ipycytoscape\n",
    "\n",
    "# 2.5 если drawSchema выдаёт ошибку “Graphviz executable not found”:\n",
    "#   Ubuntu: sudo apt-get install graphviz\n",
    "#   macOS:  brew install graphviz"
   ]
  },
  {
   "cell_type": "markdown",
   "id": "4cbb8325-7d5b-4e6d-aaf9-040961c7fa4b",
   "metadata": {
    "tags": []
   },
   "source": [
    "# Detecting Fraudulent Accounts on the Ethereum Blockchain\n",
    "### A Comprehensive Tutorial Using Graph Features and Machine Learning"
   ]
  },
  {
   "cell_type": "markdown",
   "id": "2cdc9404-be58-401a-be8a-3dca48822d65",
   "metadata": {},
   "source": [
    "## Overview:\n",
    "In this tutorial, we delve into the exciting world of fraud detection on the Ethereum platform, focusing on transactions between accounts. Leveraging powerful tools like the `featurizer` in [pyTigerGraph](https://docs.tigergraph.com/pytigergraph/current/intro/), we engineer essential graph features from the transaction graph. To facilitate data retrieval, we employ the data loaders in pyTigerGraph, extracting valuable information from the TigerGraph database.\n",
    "\n",
    "Our approach further incorporates [xgboost](https://xgboost.readthedocs.io/en/stable/), a gradient boost tree model, and [PyTorch Geometric](https://pytorch-geometric.readthedocs.io/en/latest/), enabling us to build powerful GNN (Graph Neural Network) models.\n",
    "\n",
    "The dataset under study comprises transactions on the Ethereum platform, forming a transaction graph for Ether, the second-largest cryptocurrency. Wallets (i.e., accounts) on the platform serve as vertices in the graph, while edges represent transactions between these accounts. With 32,168 vertices and 84,088 edges, the dataset is derived from the publicly available Ethereum dataset from [XBlock](https://xblock.pro/ethereum#/dataset/13).\n",
    "\n",
    "In this tutorial, we will explore various implementations of XGBoost and Graph Neural Networks (GNN) to achieve specific results. The covered topics include:\n",
    "\n",
    "1. XGBoost without Graph Features\n",
    "2. XGBoost with Graph Features\n",
    "3. XGBoost with Graph Features and FastRP embeddings\n",
    "4. GNN with Graph Features and GraphSAGE\n",
    "\n",
    "By following the step-by-step instructions provided for each method, we aim to obtain the desired outcomes:\n",
    "\n",
    "| Model Type                                        | Accuracy        | Precision | Recall | Accuracy Improvement from Baseline |\n",
    "|---------------------------------------------------|-----------------|-----------|--------|------------------------------------|\n",
    "| XGBoost without Graph Features                    | 0.7737 (77.37%) | 0.1310    | 0.9865 | -                                  |\n",
    "| XGBoost with Graph Features                       | 0.9145 (91.45%) | 0.2846    | 0.9776 | + 14.08%                            |\n",
    "| XGBoost with Graph Features and FastRP embeddings | 0.9426 (94.26%) | 0.3737    | 0.9821 | + 2.81%                           |\n",
    "| GNN with Graph Features and GraphSAGE             | 0.9658 (96.58%) | 0.5035    | 0.6457 | + 2.32%                           |\n",
    "\n",
    "Join us on this captivating journey as we explore the intricacies of detecting fraudulent accounts on the Ethereum blockchain using cutting-edge graph features and machine learning techniques."
   ]
  },
  {
   "cell_type": "markdown",
   "id": "ba321ab4-50db-4e5d-a177-44714142b6f5",
   "metadata": {},
   "source": [
    "## Database Preparation\n",
    "### Establishing a Connection to the TigerGraph Database\n",
    "To interact with the TigerGraph database, we will utilize the `TigerGraphConnection` class, which serves as the gateway for communication. This class encapsulates all the essential information required to establish and maintain a connection with the database. For more in-depth information on its functionalities, you can refer to the official [documentation](https://docs.tigergraph.com/pytigergraph/current/intro/).\n",
    "\n",
    "To connect to your specific database, kindly make the necessary modifications in the `config.json` file that accompanies this notebook. In particular, ensure you set the value of `getToken` appropriately, depending on whether token authentication is enabled for your database. Note that token authentication is always enabled for tgcloud databases.\n",
    "\n",
    "Let's proceed with the code implementation:"
   ]
  },
  {
   "cell_type": "code",
   "execution_count": 91,
   "id": "21d25e93-beaa-4b28-aa49-1e96f3f9a667",
   "metadata": {},
   "outputs": [],
   "source": [
    "from pyTigerGraph import TigerGraphConnection\n",
    "import json\n",
    "\n",
    "# Read in DB configs\n",
    "with open('../config.json', \"r\") as config_file:\n",
    "    config = json.load(config_file)\n",
    "    \n",
    "conn = TigerGraphConnection(\n",
    "    host=config[\"host\"],\n",
    "    username=config[\"username\"],\n",
    "    password=config[\"password\"]\n",
    ")"
   ]
  },
  {
   "cell_type": "markdown",
   "id": "cf098c3a",
   "metadata": {},
   "source": [
    "The provided Python code establishes a connection to the TigerGraph database. It reads the necessary configuration details from the `config.json` file and uses them to initialize the `TigerGraphConnection`. Once the connection is successfully established, we will be ready to perform various database tasks and interact with the data seamlessly."
   ]
  },
  {
   "cell_type": "markdown",
   "id": "d84e1c1d",
   "metadata": {},
   "source": [
    "### Download Ethereum dataset and ingest it to the database.\n",
    "To enrich our analysis, we begin by downloading the Ethereum dataset, a crucial step in our project. Leveraging the `pyTigerGraph` library, we make use of the `Datasets` module to access the Ethereum dataset seamlessly. By instantiating the `Datasets` class with the parameter \"Ethereum,\" we ensure that we obtain the appropriate dataset for our study. Subsequently, we proceed to ingest this dataset into the TigerGraph database through the `conn.ingestDataset()` function. To ensure a secure and authenticated ingestion process, we pass the required token using `getToken=config[\"getToken\"]`. This essential operation forms the foundation for our subsequent analysis, enabling us to explore the Ethereum transaction graph and derive valuable insights for our fraud detection project."
   ]
  },
  {
   "cell_type": "code",
   "execution_count": 92,
   "id": "abb4d783",
   "metadata": {},
   "outputs": [
    {
     "name": "stdout",
     "output_type": "stream",
     "text": [
      "A folder with name Ethereum already exists in ./tmp. Skip downloading.\n",
      "---- Checking database ----\n",
      "A graph with name Ethereum already exists in the database. Skip ingestion.\n",
      "Graph name is set to Ethereum for this connection.\n"
     ]
    }
   ],
   "source": [
    "from pyTigerGraph.datasets import Datasets\n",
    "dataset = Datasets(\"Ethereum\")\n",
    "conn.ingestDataset(dataset, getToken=config[\"getToken\"])"
   ]
  },
  {
   "cell_type": "markdown",
   "id": "925034ad-9181-45d6-a7fd-4c5b04fbe633",
   "metadata": {},
   "source": [
    "### Visualize schema\n",
    "The next step in our project involves visualizing the schema of the TigerGraph database. To achieve this, we leverage the `pyTigerGraph` library's powerful visualization capabilities. By utilizing the `drawSchema` function from the `visualization` module, we obtain a clear and comprehensive representation of the database schema."
   ]
  },
  {
   "cell_type": "code",
   "execution_count": 93,
   "id": "35b90386-358d-44e2-988f-9b78d0fd9bbe",
   "metadata": {},
   "outputs": [
    {
     "data": {
      "application/vnd.jupyter.widget-view+json": {
       "model_id": "844c1379bdab4ec79830e217593e2a38",
       "version_major": 2,
       "version_minor": 0
      },
      "text/plain": [
       "CytoscapeWidget(cytoscape_layout={'name': 'circle', 'animate': True, 'padding': 1}, cytoscape_style=[{'selecto…"
      ]
     },
     "execution_count": 93,
     "metadata": {},
     "output_type": "execute_result"
    }
   ],
   "source": [
    "from pyTigerGraph.visualization import drawSchema\n",
    "drawSchema(conn.getSchema(force=True))"
   ]
  },
  {
   "cell_type": "markdown",
   "id": "af206419-7b1b-4ca6-bb16-b5fbe8d589a1",
   "metadata": {},
   "source": [
    "## Graph Feature Engineering\n",
    "\n",
    "pyTigerGraph's featurizer empowers us with over 30 graph algorithms for essential feature calculations. Combining built-in **pagerank** and **FastRP** algorithms with **custom queries**, we derive valuable insights from the Ethereum transaction graph, laying the groundwork for our fraud detection analysis."
   ]
  },
  {
   "cell_type": "markdown",
   "id": "c69ad849-cb1c-47fc-a9fe-51590a006c45",
   "metadata": {},
   "source": [
    "### Initializing Featurizer Class\n",
    "The Python code `f = conn.gds.featurizer()` creates an instance of the `Featurizer` class from the `gds` module in the `pyTigerGraph` library. This line of code initializes a variable `f` that represents the featurizer object, allowing you to access and utilize the various graph algorithms and features provided by the `Featurizer` class.\n",
    "\n",
    "With this instance, you gain the ability to apply a wide range of graph algorithms and feature calculations to the data within the TigerGraph database. These features can be used for further analysis, machine learning, or any other tasks that require insightful graph feature engineering."
   ]
  },
  {
   "cell_type": "code",
   "execution_count": 94,
   "id": "f5d8a995-6d20-4bdc-a985-b68730abc2d7",
   "metadata": {},
   "outputs": [
    {
     "name": "stdout",
     "output_type": "stream",
     "text": [
      "Cannot read manifest file. Trying master branch.\n"
     ]
    }
   ],
   "source": [
    "f = conn.gds.featurizer()"
   ]
  },
  {
   "cell_type": "markdown",
   "id": "bed10d38-a617-419d-994f-6d98c7d43258",
   "metadata": {},
   "source": [
    "### PageRank\n",
    "The algorithm used in this code is [PageRank](https://docs.tigergraph.com/graph-ml/current/centrality-algorithms/pagerank), a classic graph algorithm that plays a crucial role in network analysis. In this particular implementation, `PageRank` is employed to rank and identify the most influential vertices (accounts) within the transaction graph (edges) of the Ethereum dataset. The algorithm takes parameters, such as the vertex type `(\"Account\")`, edge type `(\"Transaction\"`), and the desired result attribute `(\"pagerank\")`, which indicates the specific attribute representing the `PageRank` score for each account. Additionally, the parameter `\"top_k\"` is set to 5, meaning the algorithm will return the top 5 accounts with the highest `PageRank` scores.\n",
    "\n",
    "Upon executing the algorithm with these parameters, the results are stored in the variable `\"results.\"` The code then uses the pandas library to normalize the results and create a tabular representation, allowing for easy analysis and interpretation of the top scores (highest PageRank) and their corresponding accounts. The output provides valuable insights into the most influential accounts in the Ethereum transaction graph, which can be instrumental in various analyses, including fraud detection and network analysis."
   ]
  },
  {
   "cell_type": "code",
   "execution_count": 95,
   "id": "b2fc73a9-fc10-494f-9c75-59b0dcc80474",
   "metadata": {},
   "outputs": [
    {
     "data": {
      "text/html": [
       "<div>\n",
       "<style scoped>\n",
       "    .dataframe tbody tr th:only-of-type {\n",
       "        vertical-align: middle;\n",
       "    }\n",
       "\n",
       "    .dataframe tbody tr th {\n",
       "        vertical-align: top;\n",
       "    }\n",
       "\n",
       "    .dataframe thead th {\n",
       "        text-align: right;\n",
       "    }\n",
       "</style>\n",
       "<table border=\"1\" class=\"dataframe\">\n",
       "  <thead>\n",
       "    <tr style=\"text-align: right;\">\n",
       "      <th></th>\n",
       "      <th>Vertex_ID</th>\n",
       "      <th>score</th>\n",
       "    </tr>\n",
       "  </thead>\n",
       "  <tbody>\n",
       "    <tr>\n",
       "      <th>0</th>\n",
       "      <td>0x903bb9cd3a276d8f18fa6efed49b9bc52ccf06e5</td>\n",
       "      <td>741.6479</td>\n",
       "    </tr>\n",
       "    <tr>\n",
       "      <th>1</th>\n",
       "      <td>0x47779ea9849c7eec04197b21f9554931b8fcd5f4</td>\n",
       "      <td>607.4092</td>\n",
       "    </tr>\n",
       "    <tr>\n",
       "      <th>2</th>\n",
       "      <td>0xbfa82fbe0e66d8e2b7dcc16328db9ecd70533d13</td>\n",
       "      <td>212.1223</td>\n",
       "    </tr>\n",
       "    <tr>\n",
       "      <th>3</th>\n",
       "      <td>0x3cbd2e6143f057bd49ffb4c7058217a5900c35d3</td>\n",
       "      <td>179.5789</td>\n",
       "    </tr>\n",
       "    <tr>\n",
       "      <th>4</th>\n",
       "      <td>0x5df65e16d6ec1a8090ffa11c8185ad372a8786cd</td>\n",
       "      <td>173.8101</td>\n",
       "    </tr>\n",
       "  </tbody>\n",
       "</table>\n",
       "</div>"
      ],
      "text/plain": [
       "                                    Vertex_ID     score\n",
       "0  0x903bb9cd3a276d8f18fa6efed49b9bc52ccf06e5  741.6479\n",
       "1  0x47779ea9849c7eec04197b21f9554931b8fcd5f4  607.4092\n",
       "2  0xbfa82fbe0e66d8e2b7dcc16328db9ecd70533d13  212.1223\n",
       "3  0x3cbd2e6143f057bd49ffb4c7058217a5900c35d3  179.5789\n",
       "4  0x5df65e16d6ec1a8090ffa11c8185ad372a8786cd  173.8101"
      ]
     },
     "execution_count": 95,
     "metadata": {},
     "output_type": "execute_result"
    }
   ],
   "source": [
    "import pandas as pd\n",
    "\n",
    "tg_pagerank_params = {\n",
    "  \"v_type\": \"Account\",\n",
    "  \"e_type\": \"Transaction\",\n",
    "  \"result_attribute\": \"pagerank\",\n",
    "  \"top_k\":5  \n",
    "}\n",
    "results = f.runAlgorithm(\"tg_pagerank\", tg_pagerank_params)\n",
    "\n",
    "pd.json_normalize(results[0]['@@top_scores_heap'])"
   ]
  },
  {
   "cell_type": "markdown",
   "id": "bb54f582",
   "metadata": {},
   "source": [
    "### Betweeness Centraility\n",
    "Next, lets utilize the algorithim [Betweenness Centrality](https://docs.tigergraph.com/graph-ml/current/centrality-algorithms/betweenness-centrality), a fundamental measure in graph theory that quantifies the importance of a vertex (account) within a network. Specifically, it calculates the number of shortest paths that pass through a given vertex, representing its influence in controlling the flow of information or transactions in the graph. \n",
    "\n",
    "In this implementation, `Betweenness Centrality` is applied to the Ethereum dataset's transaction graph to identify the most critical accounts that act as essential intermediaries in the flow of transactions. The algorithm's parameters are specified, including the vertex type set `(\"Account\")`, the edge type set `(\"Transaction\")`, and the reverse edge type `(\"reverse_Transaction\")`, which allows for bi-directional traversal. The `\"result_attribute\"` is set to \"betweenness,\" signifying that the algorithm will compute the betweenness centrality score for each account. Additionally, `\"top_k\"` is set to 5, indicating that the algorithm will return the top 5 accounts with the highest betweenness centrality scores. The results are stored in the variable \"results\" and are further presented in tabular format using pandas for easy analysis and interpretation, "
   ]
  },
  {
   "cell_type": "code",
   "execution_count": 96,
   "id": "134ef93b-0b21-42e3-b995-2c93415c4a52",
   "metadata": {},
   "outputs": [
    {
     "data": {
      "text/html": [
       "<div>\n",
       "<style scoped>\n",
       "    .dataframe tbody tr th:only-of-type {\n",
       "        vertical-align: middle;\n",
       "    }\n",
       "\n",
       "    .dataframe tbody tr th {\n",
       "        vertical-align: top;\n",
       "    }\n",
       "\n",
       "    .dataframe thead th {\n",
       "        text-align: right;\n",
       "    }\n",
       "</style>\n",
       "<table border=\"1\" class=\"dataframe\">\n",
       "  <thead>\n",
       "    <tr style=\"text-align: right;\">\n",
       "      <th></th>\n",
       "      <th>Vertex_ID</th>\n",
       "      <th>score</th>\n",
       "    </tr>\n",
       "  </thead>\n",
       "  <tbody>\n",
       "    <tr>\n",
       "      <th>0</th>\n",
       "      <td>0x3cbd2e6143f057bd49ffb4c7058217a5900c35d3</td>\n",
       "      <td>890313.50</td>\n",
       "    </tr>\n",
       "    <tr>\n",
       "      <th>1</th>\n",
       "      <td>0x9ef89d10d8c77755bfe263903966eebb73f721e8</td>\n",
       "      <td>234670.00</td>\n",
       "    </tr>\n",
       "    <tr>\n",
       "      <th>2</th>\n",
       "      <td>0x89474953d6bc8275b88e331fdf1a92d552563712</td>\n",
       "      <td>210692.50</td>\n",
       "    </tr>\n",
       "    <tr>\n",
       "      <th>3</th>\n",
       "      <td>0xa0bf76c8de60a1089fbb8567b2beeca6ec01ca32</td>\n",
       "      <td>138818.40</td>\n",
       "    </tr>\n",
       "    <tr>\n",
       "      <th>4</th>\n",
       "      <td>0x4121cc82607ebab3f334e067f37fe2709c403bf6</td>\n",
       "      <td>91240.84</td>\n",
       "    </tr>\n",
       "  </tbody>\n",
       "</table>\n",
       "</div>"
      ],
      "text/plain": [
       "                                    Vertex_ID      score\n",
       "0  0x3cbd2e6143f057bd49ffb4c7058217a5900c35d3  890313.50\n",
       "1  0x9ef89d10d8c77755bfe263903966eebb73f721e8  234670.00\n",
       "2  0x89474953d6bc8275b88e331fdf1a92d552563712  210692.50\n",
       "3  0xa0bf76c8de60a1089fbb8567b2beeca6ec01ca32  138818.40\n",
       "4  0x4121cc82607ebab3f334e067f37fe2709c403bf6   91240.84"
      ]
     },
     "execution_count": 96,
     "metadata": {},
     "output_type": "execute_result"
    }
   ],
   "source": [
    "import pandas as pd\n",
    "\n",
    "tg_pagerank_params = {\n",
    "  \"v_type_set\": [\"Account\"],\n",
    "  \"e_type_set\": [\"Transaction\"],\n",
    "  \"reverse_e_type\": \"reverse_Transaction\",\n",
    "  \"result_attribute\": \"betweenness\",\n",
    "  \"top_k\":5  \n",
    "}\n",
    "results = f.runAlgorithm(\"tg_betweenness_cent\", tg_pagerank_params)\n",
    "\n",
    "pd.json_normalize(results[0]['top_scores'])"
   ]
  },
  {
   "cell_type": "markdown",
   "id": "5c1d5a6a-8f08-48f9-9502-673b26fccc5e",
   "metadata": {},
   "source": [
    "### Weakly Connected Components\n",
    "Next, lets utilize the algorithim [Weakly Connected Components](https://docs.tigergraph.com/graph-ml/current/community-algorithms/connected-components), a fundamental algorithm in graph theory that determins communities of vertices (accounts) within a network. \n",
    "\n",
    "A connected component is the maximal set of connected vertices inside a graph, plus their connecting edges. Inside a connected component, you can reach each vertex from each other vertex.\n",
    "\n",
    "Graph theory distinguishes between strong and weak connections:\n",
    "\n",
    "* A subgraph is strongly connected if it is directed and if every vertex is reachable from every other following the edge directions.\n",
    "\n",
    "* A subgraph is weakly connected if it is undirected or if the only connections that exist for some vertex pairs go against the edge directions.\n",
    "\n",
    "\n",
    "\n",
    "In this implementation, `Weakly Connected Components` is applied to the Ethereum dataset's transaction graph to identify the most critical accounts that act as essential intermediaries in the flow of transactions. The algorithm's parameters are specified, including the vertex type set `(\"Account\")`, the edge type set `(\"Transaction\")`, and the reverse edge type `(\"reverse_Transaction\")`, which allows for bi-directional traversal. The `\"result_attribute\"` is set to \"wcc_id\", which will store the results as an attribute on each Account vertex.\n",
    "\n",
    "We will then use the `component_size` query to compute the feature we will use - the size of the connected component that each Account belongs to."
   ]
  },
  {
   "cell_type": "code",
   "execution_count": 97,
   "id": "8e30d1f4-4c83-4d72-b8c4-5954f2078c96",
   "metadata": {},
   "outputs": [],
   "source": [
    "tg_wcc_params = {\n",
    "    \"v_type_set\": [\"Account\"],\n",
    "    \"e_type_set\": [\"Transaction\", \"reverse_Transaction\"],\n",
    "    \"result_attribute\": \"wcc_id\"\n",
    "}\n",
    "\n",
    "results = f.runAlgorithm(\"tg_wcc\", params=tg_wcc_params)"
   ]
  },
  {
   "cell_type": "code",
   "execution_count": 98,
   "id": "15a2af71-a535-4b19-bc7d-597a8ad888dc",
   "metadata": {},
   "outputs": [
    {
     "data": {
      "text/plain": [
       "[]"
      ]
     },
     "execution_count": 98,
     "metadata": {},
     "output_type": "execute_result"
    }
   ],
   "source": [
    "f.installAlgorithm(\"component_size\", query_path=\"./gsql/component_size.gsql\")\n",
    "f.runAlgorithm(\"component_size\", params={\"result_attr\": \"wcc_size\"}, custom_query=True, schema_name=[\"Account\"], feat_type=\"INT\", feat_name=\"wcc_size\")"
   ]
  },
  {
   "cell_type": "markdown",
   "id": "5fb9766e-3304-4d85-b8fa-a9a5327309ce",
   "metadata": {},
   "source": [
    "### Degree Features\n",
    "\n",
    "The following code demonstrates the computation of Degree Features within the graph structure. Firstly, it installs the \"degrees\" algorithm using `f.installAlgorithm(\"degrees\", query_path=\"./gsql/degrees.gsql\")`, which prepares the algorithm for execution. Next, it runs the \"degrees\" algorithm through `f.runAlgorithm(\"degrees\", custom_query=True)`, triggering the computation process."
   ]
  },
  {
   "cell_type": "code",
   "execution_count": 99,
   "id": "8faf664a-2d7a-4246-b67e-aaf9ff213727",
   "metadata": {},
   "outputs": [
    {
     "data": {
      "text/plain": [
       "[{'Status': 'Degrees computed Successfully'}]"
      ]
     },
     "execution_count": 99,
     "metadata": {},
     "output_type": "execute_result"
    }
   ],
   "source": [
    "f.installAlgorithm(\"degrees\", query_path=\"./gsql/degrees.gsql\")\n",
    "f.runAlgorithm(\"degrees\", custom_query=True)"
   ]
  },
  {
   "cell_type": "markdown",
   "id": "a6874f56",
   "metadata": {},
   "source": [
    "#### Additional information about degrees.gsql\n",
    "The algorithm's core logic is described within the custom GSQL query titled \"degrees.\" This query calculates both the in-degree and out-degree of each vertex (account) in the graph. The algorithm utilizes the `SumAccum` function to accumulate the in-degree and out-degree values for each vertex. The query traverses the graph, identifying all the incoming and outgoing edges for each vertex, and increments the corresponding degree counters accordingly.\n",
    "\n",
    "Upon calculating the degree values, the algorithm sets the attributes \"in_degree\" and \"out_degree\" for each vertex, capturing the calculated values. Finally, the algorithm prints a success message, indicating the successful computation of the Degree Features.\n",
    "\n",
    "In summary, the code `degrees.gsql` prepares, executes, and computes Degree Features within the graph, effectively capturing the in-degree and out-degree values for each vertex, providing valuable insights into the connections and influence of each account in the Ethereum transaction graph."
   ]
  },
  {
   "cell_type": "markdown",
   "id": "661ee45d-9ac8-47c5-89da-011da456ec58",
   "metadata": {},
   "source": [
    "### Amount Features\n",
    "\n",
    "The provided code pertains to the computation of Amounts Features within the graph. Firstly, it installs the \"amounts\" algorithm using `f.installAlgorithm(\"amounts\", query_path=\"./gsql/amounts.gsql\")`, ensuring the algorithm is prepared for execution. Subsequently, the \"amounts\" algorithm is run through `f.runAlgorithm(\"amounts\", custom_query=True)`, initiating the process of calculating Amounts Features."
   ]
  },
  {
   "cell_type": "code",
   "execution_count": 100,
   "id": "f0cb6260-6b61-46fe-85de-86e6597fc35f",
   "metadata": {},
   "outputs": [
    {
     "data": {
      "text/plain": [
       "[{'Status': 'Amounts computed successfully'}]"
      ]
     },
     "execution_count": 100,
     "metadata": {},
     "output_type": "execute_result"
    }
   ],
   "source": [
    "f.installAlgorithm(\"amounts\", query_path=\"./gsql/amounts.gsql\")\n",
    "f.runAlgorithm(\"amounts\", custom_query=True)"
   ]
  },
  {
   "cell_type": "markdown",
   "id": "c9a64c53",
   "metadata": {},
   "source": [
    "#### Additional Information about amount.gsql\n",
    "The algorithm's core logic is defined within the custom GSQL query titled \"amounts.gsql.\" This query performs calculations related to sending and receiving amounts for each vertex (account) in the graph. Four accumulators are employed, namely `@send_min`, `@send_amount`, `@recv_min`, and `@recv_amount`, to store the minimum and sum of amounts sent and received.\n",
    "\n",
    "The query traverses the graph and identifies all transactions between accounts, considering both outgoing and incoming edges. It accumulates the amounts of transactions, updating the corresponding accumulators for each vertex.\n",
    "\n",
    "Upon computing the amounts, the algorithm sets the attributes \"recv_min,\" \"recv_amount,\" \"send_min,\" and \"send_amount\" for each vertex, capturing the calculated values. Additionally, it handles the special case where a vertex has no incoming or outgoing edges (i.e., in_degree or out_degree equals zero), setting the corresponding \"recv_min\" or \"send_min\" to zero in such cases.\n",
    "\n",
    "Finally, the algorithm prints a success message, confirming the successful computation of the Amounts Features.\n",
    "\n",
    "In summary, the `amounts.gsql` code prepares, executes, and computes Amounts Features within the graph, calculating the minimum and sum of amounts sent and received for each account in the Ethereum transaction graph. This process allows for a detailed understanding of the transaction patterns and amounts associated with each vertex, contributing to further analysis and insights in various applications, including fraud detection and network analysis."
   ]
  },
  {
   "cell_type": "markdown",
   "id": "8e972b4f",
   "metadata": {},
   "source": [
    "### FastRP Embeddings"
   ]
  },
  {
   "cell_type": "code",
   "execution_count": 101,
   "id": "12299281-6a94-48f7-a33d-67f88d16c83b",
   "metadata": {},
   "outputs": [
    {
     "data": {
      "text/plain": [
       "[{'@@embedding_dim_map': {'default': {'min_dim': 0,\n",
       "    'max_dim': 128,\n",
       "    'weight': 1}}}]"
      ]
     },
     "execution_count": 101,
     "metadata": {},
     "output_type": "execute_result"
    }
   ],
   "source": [
    "params={\"v_type_set\": [\"Account\"],\n",
    "        \"e_type_set\": [\"Transaction\", \"reverse_Transaction\"],\n",
    "        \"output_v_type_set\": [\"Account\"],\n",
    "        \"iteration_weights\": \"1,2,4\",\n",
    "        \"beta\": -0.1,\n",
    "        \"embedding_dimension\": 128,\n",
    "        \"embedding_dim_map\": [],\n",
    "        \"default_length\": 128,\n",
    "        \"sampling_constant\": 3,\n",
    "        \"random_seed\": 42,\n",
    "        \"component_attribute\": \"\",\n",
    "        \"result_attribute\": \"embedding\",\n",
    "        \"choose_k\": 0}\n",
    "\n",
    "f.runAlgorithm(\"tg_fastRP\", params=params)"
   ]
  },
  {
   "cell_type": "markdown",
   "id": "41029516-5e7b-41cf-925c-a1034319c118",
   "metadata": {},
   "source": [
    "### Check Labels\n",
    "Next, lets check and analyze the labels of accounts in a database. Firstwe will use the connection object named \"conn\" to interact with the database. The code first queries the database to count the number of accounts labeled as frauds (with \"is_fraud = 1\") and the number of accounts labeled as non-frauds (with \"is_fraud = 0\"). It then calculates the percentage of fraud and non-fraud accounts out of the total number of accounts and prints the results. The output displays the count and percentage of both fraud accounts and normal accounts in the database, providing valuable insights into the distribution of labeled accounts."
   ]
  },
  {
   "cell_type": "code",
   "execution_count": 102,
   "id": "f95353ec-a52b-43f1-b916-4750f544429a",
   "metadata": {},
   "outputs": [
    {
     "name": "stdout",
     "output_type": "stream",
     "text": [
      "Fraud accounts: 1165 (3.62%%)\n",
      "Normal accounts: 31003 (96.38%%)\n"
     ]
    }
   ],
   "source": [
    "frauds = conn.getVertexCount(\"Account\", \"is_fraud = 1\") \n",
    "nonfrauds = conn.getVertexCount(\"Account\", \"is_fraud = 0\") \n",
    "print(\"Fraud accounts: {} ({:.2f}%%)\".format(frauds, frauds/(frauds+nonfrauds)*100))\n",
    "print(\"Normal accounts: {} ({:.2f}%%)\".format(nonfrauds, nonfrauds/(frauds+nonfrauds)*100))"
   ]
  },
  {
   "cell_type": "markdown",
   "id": "22727e65-2956-4df8-afcc-b4f221121a01",
   "metadata": {},
   "source": [
    "## Graph Neural Network\n",
    "\n",
    "Moving on let's define the hyperparameters for a Graph Neural Network (GNN) model and its corresponding training environment. The hyperparameters include a batch size of 1024, the number of neighbors to consider (num_neighbors) during message passing, the number of hops (num_hops) for message propagation in the graph, a hidden dimension of 256 for the GNN layers, two GNN layers (num_layers), and a dropout rate of 0.25 for regularization. These hyperparameters play a crucial role in shaping the GNN's architecture and controlling its training process. Properly tuning these hyperparameters can significantly impact the model's performance on graph-related tasks, such as node classification or link prediction."
   ]
  },
  {
   "cell_type": "code",
   "execution_count": 103,
   "id": "690b9e45-726a-4d20-b79b-a84961145d50",
   "metadata": {},
   "outputs": [],
   "source": [
    "hp = {\n",
    "    \"batch_size\": 1024, \n",
    "    \"num_neighbors\": 200, \n",
    "    \"num_hops\": 2, \n",
    "    \"hidden_dim\": 256, \n",
    "    \"num_layers\": 2, \n",
    "    \"dropout\": 0.25\n",
    "}"
   ]
  },
  {
   "cell_type": "markdown",
   "id": "e5193703-e0e1-421d-bb2b-4d79f5eaee07",
   "metadata": {},
   "source": [
    "### Create Neighbor Loaders\n",
    "\n",
    "Next, let's create the Neighbor Loaders used for training and validation in the context of a Graph Neural Network (GNN) model. The neighbor loaders are an essential component in graph-based machine learning tasks as they handle the efficient retrieval of neighboring node information for each target node during training and validation. The `conn.gds.neighborLoader` function is used to create these loaders, specifying various parameters. The \"v_in_feats\" parameter lists the input features of the target nodes, such as in-degree, out-degree, send_amount, send_min, recv_amount, recv_min, pagerank, and betweenness. The \"v_out_labels\" parameter designates the output labels for the target nodes, specifically \"is_fraud\" in this case. The \"v_extra_feats\" parameter includes additional features related to the target nodes, namely \"is_training\" and \"is_validation\" labels. The \"output_format\" is set to \"PyG\" to align the data format with the popular PyTorch Geometric (PyG) library. Other parameters, such as batch size, number of neighbors, number of hops, filtering, shuffling, and timeout, are specified to control the data loading process. By creating these Neighbor Loaders, the GNN model can efficiently access and utilize neighboring node information during its training and validation phases, significantly enhancing its performance in graph-related tasks."
   ]
  },
  {
   "cell_type": "code",
   "execution_count": 123,
   "id": "17c31955-8824-40a1-9c62-966d99fe60e6",
   "metadata": {},
   "outputs": [
    {
     "ename": "TigerGraphException",
     "evalue": "(\"Access Denied because the input token = '' is empty or too short\", 'REST-10016')",
     "output_type": "error",
     "traceback": [
      "\u001b[31m---------------------------------------------------------------------------\u001b[39m",
      "\u001b[31mTigerGraphException\u001b[39m                       Traceback (most recent call last)",
      "\u001b[36mFile \u001b[39m\u001b[32m~/Fraud/.venv/lib/python3.12/site-packages/pyTigerGraph/pyTigerGraphBase.py:326\u001b[39m, in \u001b[36mpyTigerGraphBase._req\u001b[39m\u001b[34m(self, method, url, authMode, headers, data, resKey, skipCheck, params, strictJson, jsonData, jsonResponse)\u001b[39m\n\u001b[32m    325\u001b[39m \u001b[38;5;28;01mtry\u001b[39;00m:\n\u001b[32m--> \u001b[39m\u001b[32m326\u001b[39m     \u001b[38;5;28;43mself\u001b[39;49m\u001b[43m.\u001b[49m\u001b[43m_error_check\u001b[49m\u001b[43m(\u001b[49m\u001b[43mjson\u001b[49m\u001b[43m.\u001b[49m\u001b[43mloads\u001b[49m\u001b[43m(\u001b[49m\u001b[43mres\u001b[49m\u001b[43m.\u001b[49m\u001b[43mtext\u001b[49m\u001b[43m)\u001b[49m\u001b[43m)\u001b[49m\n\u001b[32m    327\u001b[39m \u001b[38;5;28;01mexcept\u001b[39;00m json.decoder.JSONDecodeError:\n\u001b[32m    328\u001b[39m     \u001b[38;5;66;03m# could not parse the res text (probably returned an html response)\u001b[39;00m\n",
      "\u001b[36mFile \u001b[39m\u001b[32m~/Fraud/.venv/lib/python3.12/site-packages/pyTigerGraph/common/base.py:273\u001b[39m, in \u001b[36mPyTigerGraphCore._error_check\u001b[39m\u001b[34m(self, res)\u001b[39m\n\u001b[32m    271\u001b[39m \u001b[38;5;28;01mif\u001b[39;00m \u001b[33m\"\u001b[39m\u001b[33merror\u001b[39m\u001b[33m\"\u001b[39m \u001b[38;5;129;01min\u001b[39;00m res \u001b[38;5;129;01mand\u001b[39;00m res[\u001b[33m\"\u001b[39m\u001b[33merror\u001b[39m\u001b[33m\"\u001b[39m] \u001b[38;5;129;01mand\u001b[39;00m res[\u001b[33m\"\u001b[39m\u001b[33merror\u001b[39m\u001b[33m\"\u001b[39m] != \u001b[33m\"\u001b[39m\u001b[33mfalse\u001b[39m\u001b[33m\"\u001b[39m:\n\u001b[32m    272\u001b[39m     \u001b[38;5;66;03m# Endpoint might return string \"false\" rather than Boolean false\u001b[39;00m\n\u001b[32m--> \u001b[39m\u001b[32m273\u001b[39m     \u001b[38;5;28;01mraise\u001b[39;00m TigerGraphException(\n\u001b[32m    274\u001b[39m         res[\u001b[33m\"\u001b[39m\u001b[33mmessage\u001b[39m\u001b[33m\"\u001b[39m], (res[\u001b[33m\"\u001b[39m\u001b[33mcode\u001b[39m\u001b[33m\"\u001b[39m] \u001b[38;5;28;01mif\u001b[39;00m \u001b[33m\"\u001b[39m\u001b[33mcode\u001b[39m\u001b[33m\"\u001b[39m \u001b[38;5;129;01min\u001b[39;00m res \u001b[38;5;28;01melse\u001b[39;00m \u001b[38;5;28;01mNone\u001b[39;00m)\n\u001b[32m    275\u001b[39m     )\n\u001b[32m    276\u001b[39m \u001b[38;5;28;01mreturn\u001b[39;00m \u001b[38;5;28;01mFalse\u001b[39;00m\n",
      "\u001b[31mTigerGraphException\u001b[39m: (\"Access Denied because the input token = '' is empty or too short\", 'REST-10016')",
      "\nDuring handling of the above exception, another exception occurred:\n",
      "\u001b[31mTigerGraphException\u001b[39m                       Traceback (most recent call last)",
      "\u001b[36mCell\u001b[39m\u001b[36m \u001b[39m\u001b[32mIn[123]\u001b[39m\u001b[32m, line 11\u001b[39m\n\u001b[32m      2\u001b[39m     config = json.load(config_file)\n\u001b[32m      4\u001b[39m conn = TigerGraphConnection(\n\u001b[32m      5\u001b[39m     host=config[\u001b[33m\"\u001b[39m\u001b[33mhost\u001b[39m\u001b[33m\"\u001b[39m],\n\u001b[32m      6\u001b[39m     username=config[\u001b[33m\"\u001b[39m\u001b[33musername\u001b[39m\u001b[33m\"\u001b[39m],\n\u001b[32m      7\u001b[39m     password=config[\u001b[33m\"\u001b[39m\u001b[33mpassword\u001b[39m\u001b[33m\"\u001b[39m],\n\u001b[32m      8\u001b[39m     graphname=\u001b[33m\"\u001b[39m\u001b[33mEthereum\u001b[39m\u001b[33m\"\u001b[39m\n\u001b[32m      9\u001b[39m )\n\u001b[32m---> \u001b[39m\u001b[32m11\u001b[39m train_loader, valid_loader = \u001b[43mconn\u001b[49m\u001b[43m.\u001b[49m\u001b[43mgds\u001b[49m\u001b[43m.\u001b[49m\u001b[43mneighborLoader\u001b[49m\u001b[43m(\u001b[49m\n\u001b[32m     12\u001b[39m \u001b[43m    \u001b[49m\u001b[43mv_in_feats\u001b[49m\u001b[43m=\u001b[49m\u001b[43m[\u001b[49m\u001b[33;43m\"\u001b[39;49m\u001b[33;43min_degree\u001b[39;49m\u001b[33;43m\"\u001b[39;49m\u001b[43m,\u001b[49m\u001b[33;43m\"\u001b[39;49m\u001b[33;43mout_degree\u001b[39;49m\u001b[33;43m\"\u001b[39;49m\u001b[43m,\u001b[49m\u001b[33;43m\"\u001b[39;49m\u001b[33;43msend_amount\u001b[39;49m\u001b[33;43m\"\u001b[39;49m\u001b[43m,\u001b[49m\u001b[33;43m\"\u001b[39;49m\u001b[33;43msend_min\u001b[39;49m\u001b[33;43m\"\u001b[39;49m\u001b[43m,\u001b[49m\u001b[33;43m\"\u001b[39;49m\u001b[33;43mrecv_amount\u001b[39;49m\u001b[33;43m\"\u001b[39;49m\u001b[43m,\u001b[49m\u001b[33;43m\"\u001b[39;49m\u001b[33;43mrecv_min\u001b[39;49m\u001b[33;43m\"\u001b[39;49m\u001b[43m,\u001b[49m\u001b[33;43m\"\u001b[39;49m\u001b[33;43mpagerank\u001b[39;49m\u001b[33;43m\"\u001b[39;49m\u001b[43m,\u001b[49m\u001b[33;43m\"\u001b[39;49m\u001b[33;43mbetweenness\u001b[39;49m\u001b[33;43m\"\u001b[39;49m\u001b[43m]\u001b[49m\u001b[43m,\u001b[49m\n\u001b[32m     13\u001b[39m \u001b[43m    \u001b[49m\u001b[43mv_out_labels\u001b[49m\u001b[43m=\u001b[49m\u001b[43m[\u001b[49m\u001b[33;43m\"\u001b[39;49m\u001b[33;43mis_fraud\u001b[39;49m\u001b[33;43m\"\u001b[39;49m\u001b[43m]\u001b[49m\u001b[43m,\u001b[49m\n\u001b[32m     14\u001b[39m \u001b[43m    \u001b[49m\u001b[43mv_extra_feats\u001b[49m\u001b[43m=\u001b[49m\u001b[43m[\u001b[49m\u001b[33;43m\"\u001b[39;49m\u001b[33;43mis_training\u001b[39;49m\u001b[33;43m\"\u001b[39;49m\u001b[43m,\u001b[49m\u001b[43m \u001b[49m\u001b[33;43m\"\u001b[39;49m\u001b[33;43mis_validation\u001b[39;49m\u001b[33;43m\"\u001b[39;49m\u001b[43m]\u001b[49m\u001b[43m,\u001b[49m\n\u001b[32m     15\u001b[39m \u001b[43m    \u001b[49m\u001b[43moutput_format\u001b[49m\u001b[43m=\u001b[49m\u001b[33;43m\"\u001b[39;49m\u001b[33;43mPyG\u001b[39;49m\u001b[33;43m\"\u001b[39;49m\u001b[43m,\u001b[49m\n\u001b[32m     16\u001b[39m \u001b[43m    \u001b[49m\u001b[43mbatch_size\u001b[49m\u001b[43m=\u001b[49m\u001b[43mhp\u001b[49m\u001b[43m[\u001b[49m\u001b[33;43m\"\u001b[39;49m\u001b[33;43mbatch_size\u001b[39;49m\u001b[33;43m\"\u001b[39;49m\u001b[43m]\u001b[49m\u001b[43m,\u001b[49m\n\u001b[32m     17\u001b[39m \u001b[43m    \u001b[49m\u001b[43mnum_neighbors\u001b[49m\u001b[43m=\u001b[49m\u001b[43mhp\u001b[49m\u001b[43m[\u001b[49m\u001b[33;43m\"\u001b[39;49m\u001b[33;43mnum_neighbors\u001b[39;49m\u001b[33;43m\"\u001b[39;49m\u001b[43m]\u001b[49m\u001b[43m,\u001b[49m\n\u001b[32m     18\u001b[39m \u001b[43m    \u001b[49m\u001b[43mnum_hops\u001b[49m\u001b[43m=\u001b[49m\u001b[43mhp\u001b[49m\u001b[43m[\u001b[49m\u001b[33;43m\"\u001b[39;49m\u001b[33;43mnum_hops\u001b[39;49m\u001b[33;43m\"\u001b[39;49m\u001b[43m]\u001b[49m\u001b[43m,\u001b[49m\n\u001b[32m     19\u001b[39m \u001b[43m    \u001b[49m\u001b[43mfilter_by\u001b[49m\u001b[43m \u001b[49m\u001b[43m=\u001b[49m\u001b[43m \u001b[49m\u001b[43m[\u001b[49m\u001b[33;43m\"\u001b[39;49m\u001b[33;43mis_training\u001b[39;49m\u001b[33;43m\"\u001b[39;49m\u001b[43m,\u001b[49m\u001b[43m \u001b[49m\u001b[33;43m\"\u001b[39;49m\u001b[33;43mis_validation\u001b[39;49m\u001b[33;43m\"\u001b[39;49m\u001b[43m]\u001b[49m\u001b[43m,\u001b[49m\n\u001b[32m     20\u001b[39m \u001b[43m    \u001b[49m\u001b[43mshuffle\u001b[49m\u001b[43m=\u001b[49m\u001b[38;5;28;43;01mTrue\u001b[39;49;00m\u001b[43m,\u001b[49m\n\u001b[32m     21\u001b[39m \u001b[43m    \u001b[49m\u001b[43mtimeout\u001b[49m\u001b[43m=\u001b[49m\u001b[32;43m600000\u001b[39;49m\n\u001b[32m     22\u001b[39m \u001b[43m)\u001b[49m\n",
      "\u001b[36mFile \u001b[39m\u001b[32m~/Fraud/.venv/lib/python3.12/site-packages/pyTigerGraph/gds/gds.py:387\u001b[39m, in \u001b[36mGDS.neighborLoader\u001b[39m\u001b[34m(self, v_in_feats, v_out_labels, v_extra_feats, v_seed_types, e_in_feats, e_out_labels, e_extra_feats, batch_size, num_batches, num_neighbors, num_hops, shuffle, filter_by, output_format, add_self_loop, loader_id, buffer_size, reverse_edge, delimiter, timeout, callback_fn, reinstall_query, distributed_query)\u001b[39m\n\u001b[32m    385\u001b[39m     \u001b[38;5;28;01mif\u001b[39;00m \u001b[38;5;28mself\u001b[39m.kafkaConfig:\n\u001b[32m    386\u001b[39m         params.update(\u001b[38;5;28mself\u001b[39m.kafkaConfig)\n\u001b[32m--> \u001b[39m\u001b[32m387\u001b[39m     loaders.append(\u001b[43mNeighborLoader\u001b[49m\u001b[43m(\u001b[49m\u001b[43m*\u001b[49m\u001b[43m*\u001b[49m\u001b[43mparams\u001b[49m\u001b[43m)\u001b[49m)\n\u001b[32m    388\u001b[39m \u001b[38;5;28;01mif\u001b[39;00m reinstall_query:\n\u001b[32m    389\u001b[39m     loaders[\u001b[32m0\u001b[39m].reinstall_query()\n",
      "\u001b[36mFile \u001b[39m\u001b[32m~/Fraud/.venv/lib/python3.12/site-packages/pyTigerGraph/gds/dataloaders.py:1559\u001b[39m, in \u001b[36mNeighborLoader.__init__\u001b[39m\u001b[34m(self, graph, v_in_feats, v_out_labels, v_extra_feats, v_seed_types, e_in_feats, e_out_labels, e_extra_feats, batch_size, num_batches, num_neighbors, num_hops, shuffle, filter_by, output_format, add_self_loop, loader_id, buffer_size, reverse_edge, delimiter, timeout, distributed_query, kafka_address, kafka_max_msg_size, kafka_num_partitions, kafka_replica_factor, kafka_retention_ms, kafka_auto_del_topic, kafka_address_consumer, kafka_address_producer, kafka_security_protocol, kafka_sasl_mechanism, kafka_sasl_plain_username, kafka_sasl_plain_password, kafka_sasl_kerberos_service_name, kafka_sasl_kerberos_keytab, kafka_sasl_kerberos_principal, kafka_sasl_kerberos_domain_name, kafka_ssl_check_hostname, kafka_producer_ca_location, kafka_producer_certificate_location, kafka_producer_key_location, kafka_producer_key_password, kafka_consumer_ca_location, kafka_consumer_certificate_location, kafka_consumer_key_location, kafka_consumer_key_password, kafka_skip_produce, kafka_auto_offset_reset, kafka_del_topic_per_epoch, kafka_add_topic_per_epoch, callback_fn, kafka_group_id, kafka_topic)\u001b[39m\n\u001b[32m   1500\u001b[39m \u001b[38;5;28;01mdef\u001b[39;00m\u001b[38;5;250m \u001b[39m\u001b[34m__init__\u001b[39m(\n\u001b[32m   1501\u001b[39m     \u001b[38;5;28mself\u001b[39m,\n\u001b[32m   1502\u001b[39m     graph: \u001b[33m\"\u001b[39m\u001b[33mTigerGraphConnection\u001b[39m\u001b[33m\"\u001b[39m,\n\u001b[32m   (...)\u001b[39m\u001b[32m   1555\u001b[39m     kafka_topic: \u001b[38;5;28mstr\u001b[39m = \u001b[38;5;28;01mNone\u001b[39;00m\n\u001b[32m   1556\u001b[39m ) -> \u001b[38;5;28;01mNone\u001b[39;00m:\n\u001b[32m   1557\u001b[39m \u001b[38;5;250m    \u001b[39m\u001b[33;03m\"\"\"NO DOC\"\"\"\u001b[39;00m\n\u001b[32m-> \u001b[39m\u001b[32m1559\u001b[39m     \u001b[38;5;28;43msuper\u001b[39;49m\u001b[43m(\u001b[49m\u001b[43m)\u001b[49m\u001b[43m.\u001b[49m\u001b[34;43m__init__\u001b[39;49m\u001b[43m(\u001b[49m\n\u001b[32m   1560\u001b[39m \u001b[43m        \u001b[49m\u001b[43mgraph\u001b[49m\u001b[43m,\u001b[49m\n\u001b[32m   1561\u001b[39m \u001b[43m        \u001b[49m\u001b[43mloader_id\u001b[49m\u001b[43m,\u001b[49m\n\u001b[32m   1562\u001b[39m \u001b[43m        \u001b[49m\u001b[43mnum_batches\u001b[49m\u001b[43m,\u001b[49m\n\u001b[32m   1563\u001b[39m \u001b[43m        \u001b[49m\u001b[43mbuffer_size\u001b[49m\u001b[43m,\u001b[49m\n\u001b[32m   1564\u001b[39m \u001b[43m        \u001b[49m\u001b[43moutput_format\u001b[49m\u001b[43m,\u001b[49m\n\u001b[32m   1565\u001b[39m \u001b[43m        \u001b[49m\u001b[43mreverse_edge\u001b[49m\u001b[43m,\u001b[49m\n\u001b[32m   1566\u001b[39m \u001b[43m        \u001b[49m\u001b[43mdelimiter\u001b[49m\u001b[43m,\u001b[49m\n\u001b[32m   1567\u001b[39m \u001b[43m        \u001b[49m\u001b[43mtimeout\u001b[49m\u001b[43m,\u001b[49m\n\u001b[32m   1568\u001b[39m \u001b[43m        \u001b[49m\u001b[43mdistributed_query\u001b[49m\u001b[43m,\u001b[49m\n\u001b[32m   1569\u001b[39m \u001b[43m        \u001b[49m\u001b[43mkafka_address\u001b[49m\u001b[43m,\u001b[49m\n\u001b[32m   1570\u001b[39m \u001b[43m        \u001b[49m\u001b[43mkafka_max_msg_size\u001b[49m\u001b[43m,\u001b[49m\n\u001b[32m   1571\u001b[39m \u001b[43m        \u001b[49m\u001b[43mkafka_num_partitions\u001b[49m\u001b[43m,\u001b[49m\n\u001b[32m   1572\u001b[39m \u001b[43m        \u001b[49m\u001b[43mkafka_replica_factor\u001b[49m\u001b[43m,\u001b[49m\n\u001b[32m   1573\u001b[39m \u001b[43m        \u001b[49m\u001b[43mkafka_retention_ms\u001b[49m\u001b[43m,\u001b[49m\n\u001b[32m   1574\u001b[39m \u001b[43m        \u001b[49m\u001b[43mkafka_auto_del_topic\u001b[49m\u001b[43m,\u001b[49m\n\u001b[32m   1575\u001b[39m \u001b[43m        \u001b[49m\u001b[43mkafka_address_consumer\u001b[49m\u001b[43m,\u001b[49m\n\u001b[32m   1576\u001b[39m \u001b[43m        \u001b[49m\u001b[43mkafka_address_producer\u001b[49m\u001b[43m,\u001b[49m\n\u001b[32m   1577\u001b[39m \u001b[43m        \u001b[49m\u001b[43mkafka_security_protocol\u001b[49m\u001b[43m,\u001b[49m\n\u001b[32m   1578\u001b[39m \u001b[43m        \u001b[49m\u001b[43mkafka_sasl_mechanism\u001b[49m\u001b[43m,\u001b[49m\n\u001b[32m   1579\u001b[39m \u001b[43m        \u001b[49m\u001b[43mkafka_sasl_plain_username\u001b[49m\u001b[43m,\u001b[49m\n\u001b[32m   1580\u001b[39m \u001b[43m        \u001b[49m\u001b[43mkafka_sasl_plain_password\u001b[49m\u001b[43m,\u001b[49m\n\u001b[32m   1581\u001b[39m \u001b[43m        \u001b[49m\u001b[43mkafka_sasl_kerberos_service_name\u001b[49m\u001b[43m,\u001b[49m\n\u001b[32m   1582\u001b[39m \u001b[43m        \u001b[49m\u001b[43mkafka_sasl_kerberos_keytab\u001b[49m\u001b[43m,\u001b[49m\n\u001b[32m   1583\u001b[39m \u001b[43m        \u001b[49m\u001b[43mkafka_sasl_kerberos_principal\u001b[49m\u001b[43m,\u001b[49m\n\u001b[32m   1584\u001b[39m \u001b[43m        \u001b[49m\u001b[43mkafka_sasl_kerberos_domain_name\u001b[49m\u001b[43m,\u001b[49m\n\u001b[32m   1585\u001b[39m \u001b[43m        \u001b[49m\u001b[43mkafka_ssl_check_hostname\u001b[49m\u001b[43m,\u001b[49m\n\u001b[32m   1586\u001b[39m \u001b[43m        \u001b[49m\u001b[43mkafka_producer_ca_location\u001b[49m\u001b[43m,\u001b[49m\n\u001b[32m   1587\u001b[39m \u001b[43m        \u001b[49m\u001b[43mkafka_producer_certificate_location\u001b[49m\u001b[43m,\u001b[49m\n\u001b[32m   1588\u001b[39m \u001b[43m        \u001b[49m\u001b[43mkafka_producer_key_location\u001b[49m\u001b[43m,\u001b[49m\n\u001b[32m   1589\u001b[39m \u001b[43m        \u001b[49m\u001b[43mkafka_producer_key_password\u001b[49m\u001b[43m,\u001b[49m\n\u001b[32m   1590\u001b[39m \u001b[43m        \u001b[49m\u001b[43mkafka_consumer_ca_location\u001b[49m\u001b[43m,\u001b[49m\n\u001b[32m   1591\u001b[39m \u001b[43m        \u001b[49m\u001b[43mkafka_consumer_certificate_location\u001b[49m\u001b[43m,\u001b[49m\n\u001b[32m   1592\u001b[39m \u001b[43m        \u001b[49m\u001b[43mkafka_consumer_key_location\u001b[49m\u001b[43m,\u001b[49m\n\u001b[32m   1593\u001b[39m \u001b[43m        \u001b[49m\u001b[43mkafka_consumer_key_password\u001b[49m\u001b[43m,\u001b[49m\n\u001b[32m   1594\u001b[39m \u001b[43m        \u001b[49m\u001b[43mkafka_skip_produce\u001b[49m\u001b[43m,\u001b[49m\n\u001b[32m   1595\u001b[39m \u001b[43m        \u001b[49m\u001b[43mkafka_auto_offset_reset\u001b[49m\u001b[43m,\u001b[49m\n\u001b[32m   1596\u001b[39m \u001b[43m        \u001b[49m\u001b[43mkafka_del_topic_per_epoch\u001b[49m\u001b[43m,\u001b[49m\n\u001b[32m   1597\u001b[39m \u001b[43m        \u001b[49m\u001b[43mkafka_add_topic_per_epoch\u001b[49m\u001b[43m,\u001b[49m\n\u001b[32m   1598\u001b[39m \u001b[43m        \u001b[49m\u001b[43mcallback_fn\u001b[49m\u001b[43m,\u001b[49m\n\u001b[32m   1599\u001b[39m \u001b[43m        \u001b[49m\u001b[43mkafka_group_id\u001b[49m\u001b[43m,\u001b[49m\n\u001b[32m   1600\u001b[39m \u001b[43m        \u001b[49m\u001b[43mkafka_topic\u001b[49m\n\u001b[32m   1601\u001b[39m \u001b[43m    \u001b[49m\u001b[43m)\u001b[49m\n\u001b[32m   1602\u001b[39m     \u001b[38;5;66;03m# Resolve attributes\u001b[39;00m\n\u001b[32m   1603\u001b[39m     is_hetero = \u001b[38;5;28many\u001b[39m(\u001b[38;5;28mmap\u001b[39m(\u001b[38;5;28;01mlambda\u001b[39;00m x: \u001b[38;5;28misinstance\u001b[39m(x, \u001b[38;5;28mdict\u001b[39m), \n\u001b[32m   1604\u001b[39m                     (v_in_feats, v_out_labels, v_extra_feats,\n\u001b[32m   1605\u001b[39m                      e_in_feats, e_out_labels, e_extra_feats)))\n",
      "\u001b[36mFile \u001b[39m\u001b[32m~/Fraud/.venv/lib/python3.12/site-packages/pyTigerGraph/gds/dataloaders.py:218\u001b[39m, in \u001b[36mBaseLoader.__init__\u001b[39m\u001b[34m(self, graph, loader_id, num_batches, buffer_size, output_format, reverse_edge, delimiter, timeout, distributed_query, kafka_address, Kafka_max_msg_size, kafka_num_partitions, kafka_replica_factor, kafka_retention_ms, kafka_auto_del_topic, kafka_consumer_address, kafka_producer_address, kafka_security_protocol, kafka_sasl_mechanism, kafka_sasl_plain_username, kafka_sasl_plain_password, kafka_sasl_kerberos_service_name, kafka_sasl_kerberos_keytab, kafka_sasl_kerberos_principal, kafka_sasl_kerberos_domain_name, kafka_ssl_check_hostname, kafka_producer_ca_location, kafka_producer_certificate_location, kafka_producer_key_location, kafka_producer_key_password, kafka_consumer_ca_location, kafka_consumer_certificate_location, kafka_consumer_key_location, kafka_consumer_key_password, kafka_skip_produce, kafka_auto_offset_reset, kafka_del_topic_per_epoch, kafka_add_topic_per_epoch, callback_fn, kafka_group_id, kafka_topic)\u001b[39m\n\u001b[32m    216\u001b[39m \u001b[38;5;28mself\u001b[39m.reverse_edge = reverse_edge\n\u001b[32m    217\u001b[39m \u001b[38;5;28mself\u001b[39m._graph = graph\n\u001b[32m--> \u001b[39m\u001b[32m218\u001b[39m \u001b[38;5;28mself\u001b[39m._v_schema, \u001b[38;5;28mself\u001b[39m._e_schema = \u001b[38;5;28;43mself\u001b[39;49m\u001b[43m.\u001b[49m\u001b[43m_get_schema\u001b[49m\u001b[43m(\u001b[49m\u001b[43m)\u001b[49m\n\u001b[32m    219\u001b[39m \u001b[38;5;66;03m# Initialize basic params\u001b[39;00m\n\u001b[32m    220\u001b[39m \u001b[38;5;28;01mif\u001b[39;00m loader_id:\n",
      "\u001b[36mFile \u001b[39m\u001b[32m~/Fraud/.venv/lib/python3.12/site-packages/pyTigerGraph/gds/dataloaders.py:350\u001b[39m, in \u001b[36mBaseLoader._get_schema\u001b[39m\u001b[34m(self)\u001b[39m\n\u001b[32m    348\u001b[39m v_schema = {}\n\u001b[32m    349\u001b[39m e_schema = {}\n\u001b[32m--> \u001b[39m\u001b[32m350\u001b[39m schema = \u001b[38;5;28;43mself\u001b[39;49m\u001b[43m.\u001b[49m\u001b[43m_graph\u001b[49m\u001b[43m.\u001b[49m\u001b[43mgetSchema\u001b[49m\u001b[43m(\u001b[49m\u001b[43mforce\u001b[49m\u001b[43m=\u001b[49m\u001b[38;5;28;43;01mTrue\u001b[39;49;00m\u001b[43m)\u001b[49m\n\u001b[32m    351\u001b[39m \u001b[38;5;66;03m# Get vertex schema\u001b[39;00m\n\u001b[32m    352\u001b[39m \u001b[38;5;28;01mfor\u001b[39;00m vtype \u001b[38;5;129;01min\u001b[39;00m schema[\u001b[33m\"\u001b[39m\u001b[33mVertexTypes\u001b[39m\u001b[33m\"\u001b[39m]:\n",
      "\u001b[36mFile \u001b[39m\u001b[32m~/Fraud/.venv/lib/python3.12/site-packages/pyTigerGraph/pyTigerGraphSchema.py:72\u001b[39m, in \u001b[36mpyTigerGraphSchema.getSchema\u001b[39m\u001b[34m(self, udts, force)\u001b[39m\n\u001b[32m     69\u001b[39m     logger.debug(\u001b[33m\"\u001b[39m\u001b[33mparams: \u001b[39m\u001b[33m\"\u001b[39m + \u001b[38;5;28mself\u001b[39m._locals(\u001b[38;5;28mlocals\u001b[39m()))\n\u001b[32m     71\u001b[39m \u001b[38;5;28;01mif\u001b[39;00m \u001b[38;5;129;01mnot\u001b[39;00m \u001b[38;5;28mself\u001b[39m.schema \u001b[38;5;129;01mor\u001b[39;00m force:\n\u001b[32m---> \u001b[39m\u001b[32m72\u001b[39m     \u001b[38;5;28;01mif\u001b[39;00m \u001b[38;5;28;43mself\u001b[39;49m\u001b[43m.\u001b[49m\u001b[43m_version_greater_than_4_0\u001b[49m\u001b[43m(\u001b[49m\u001b[43m)\u001b[49m:\n\u001b[32m     73\u001b[39m         \u001b[38;5;28mself\u001b[39m.schema = \u001b[38;5;28mself\u001b[39m._get(\u001b[38;5;28mself\u001b[39m.gsUrl + \u001b[33m\"\u001b[39m\u001b[33m/gsql/v1/schema/graphs/\u001b[39m\u001b[33m\"\u001b[39m + \u001b[38;5;28mself\u001b[39m.graphname,\n\u001b[32m     74\u001b[39m                                 authMode=\u001b[33m\"\u001b[39m\u001b[33mpwd\u001b[39m\u001b[33m\"\u001b[39m)\n\u001b[32m     75\u001b[39m     \u001b[38;5;28;01melse\u001b[39;00m:\n",
      "\u001b[36mFile \u001b[39m\u001b[32m~/Fraud/.venv/lib/python3.12/site-packages/pyTigerGraph/pyTigerGraphBase.py:568\u001b[39m, in \u001b[36mpyTigerGraphBase._version_greater_than_4_0\u001b[39m\u001b[34m(self)\u001b[39m\n\u001b[32m    562\u001b[39m \u001b[38;5;28;01mdef\u001b[39;00m\u001b[38;5;250m \u001b[39m\u001b[34m_version_greater_than_4_0\u001b[39m(\u001b[38;5;28mself\u001b[39m) -> \u001b[38;5;28mbool\u001b[39m:\n\u001b[32m    563\u001b[39m \u001b[38;5;250m    \u001b[39m\u001b[33;03m\"\"\"Gets if the TigerGraph database version is greater than 4.0 using gerVer().\u001b[39;00m\n\u001b[32m    564\u001b[39m \n\u001b[32m    565\u001b[39m \u001b[33;03m    Returns:\u001b[39;00m\n\u001b[32m    566\u001b[39m \u001b[33;03m        Boolean of whether databse version is greater than 4.0.\u001b[39;00m\n\u001b[32m    567\u001b[39m \u001b[33;03m    \"\"\"\u001b[39;00m\n\u001b[32m--> \u001b[39m\u001b[32m568\u001b[39m     version = \u001b[38;5;28;43mself\u001b[39;49m\u001b[43m.\u001b[49m\u001b[43mgetVer\u001b[49m\u001b[43m(\u001b[49m\u001b[43m)\u001b[49m.split(\u001b[33m'\u001b[39m\u001b[33m.\u001b[39m\u001b[33m'\u001b[39m)\n\u001b[32m    569\u001b[39m     \u001b[38;5;28;01mif\u001b[39;00m version[\u001b[32m0\u001b[39m] >= \u001b[33m\"\u001b[39m\u001b[33m4\u001b[39m\u001b[33m\"\u001b[39m \u001b[38;5;129;01mand\u001b[39;00m version[\u001b[32m1\u001b[39m] > \u001b[33m\"\u001b[39m\u001b[33m0\u001b[39m\u001b[33m\"\u001b[39m:\n\u001b[32m    570\u001b[39m         \u001b[38;5;28;01mreturn\u001b[39;00m \u001b[38;5;28;01mTrue\u001b[39;00m\n",
      "\u001b[36mFile \u001b[39m\u001b[32m~/Fraud/.venv/lib/python3.12/site-packages/pyTigerGraph/pyTigerGraphBase.py:539\u001b[39m, in \u001b[36mpyTigerGraphBase.getVer\u001b[39m\u001b[34m(self, component, full)\u001b[39m\n\u001b[32m    537\u001b[39m \u001b[38;5;28;01mif\u001b[39;00m logger.level == logging.DEBUG:\n\u001b[32m    538\u001b[39m     logger.debug(\u001b[33m\"\u001b[39m\u001b[33mparams: \u001b[39m\u001b[33m\"\u001b[39m + \u001b[38;5;28mself\u001b[39m._locals(\u001b[38;5;28mlocals\u001b[39m()))\n\u001b[32m--> \u001b[39m\u001b[32m539\u001b[39m version = \u001b[38;5;28;43mself\u001b[39;49m\u001b[43m.\u001b[49m\u001b[43mgetVersion\u001b[49m\u001b[43m(\u001b[49m\u001b[43m)\u001b[49m\n\u001b[32m    540\u001b[39m ret = \u001b[38;5;28mself\u001b[39m._parse_get_ver(version, component, full)\n\u001b[32m    542\u001b[39m \u001b[38;5;28;01mif\u001b[39;00m logger.level == logging.DEBUG:\n",
      "\u001b[36mFile \u001b[39m\u001b[32m~/Fraud/.venv/lib/python3.12/site-packages/pyTigerGraph/pyTigerGraphBase.py:510\u001b[39m, in \u001b[36mpyTigerGraphBase.getVersion\u001b[39m\u001b[34m(self, raw)\u001b[39m\n\u001b[32m    508\u001b[39m \u001b[38;5;28;01mif\u001b[39;00m logger.level == logging.DEBUG:\n\u001b[32m    509\u001b[39m     logger.debug(\u001b[33m\"\u001b[39m\u001b[33mparams: \u001b[39m\u001b[33m\"\u001b[39m + \u001b[38;5;28mself\u001b[39m._locals(\u001b[38;5;28mlocals\u001b[39m()))\n\u001b[32m--> \u001b[39m\u001b[32m510\u001b[39m response = \u001b[38;5;28;43mself\u001b[39;49m\u001b[43m.\u001b[49m\u001b[43m_get\u001b[49m\u001b[43m(\u001b[49m\u001b[38;5;28;43mself\u001b[39;49m\u001b[43m.\u001b[49m\u001b[43mrestppUrl\u001b[49m\u001b[43m+\u001b[49m\u001b[33;43m\"\u001b[39;49m\u001b[33;43m/version\u001b[39;49m\u001b[33;43m\"\u001b[39;49m\u001b[43m,\u001b[49m\n\u001b[32m    511\u001b[39m \u001b[43m                     \u001b[49m\u001b[43mstrictJson\u001b[49m\u001b[43m=\u001b[49m\u001b[38;5;28;43;01mFalse\u001b[39;49;00m\u001b[43m,\u001b[49m\u001b[43m \u001b[49m\u001b[43mresKey\u001b[49m\u001b[43m=\u001b[49m\u001b[33;43m\"\u001b[39;49m\u001b[33;43mmessage\u001b[39;49m\u001b[33;43m\"\u001b[39;49m\u001b[43m)\u001b[49m\n\u001b[32m    512\u001b[39m components = \u001b[38;5;28mself\u001b[39m._parse_get_version(response, raw)\n\u001b[32m    514\u001b[39m \u001b[38;5;28;01mif\u001b[39;00m logger.level == logging.DEBUG:\n",
      "\u001b[36mFile \u001b[39m\u001b[32m~/Fraud/.venv/lib/python3.12/site-packages/pyTigerGraph/pyTigerGraphBase.py:394\u001b[39m, in \u001b[36mpyTigerGraphBase._get\u001b[39m\u001b[34m(self, url, authMode, headers, resKey, skipCheck, params, strictJson)\u001b[39m\n\u001b[32m    391\u001b[39m \u001b[38;5;28;01mif\u001b[39;00m logger.level == logging.DEBUG:\n\u001b[32m    392\u001b[39m     logger.debug(\u001b[33m\"\u001b[39m\u001b[33mparams: \u001b[39m\u001b[33m\"\u001b[39m + \u001b[38;5;28mself\u001b[39m._locals(\u001b[38;5;28mlocals\u001b[39m()))\n\u001b[32m--> \u001b[39m\u001b[32m394\u001b[39m res = \u001b[38;5;28;43mself\u001b[39;49m\u001b[43m.\u001b[49m\u001b[43m_req\u001b[49m\u001b[43m(\u001b[49m\u001b[33;43m\"\u001b[39;49m\u001b[33;43mGET\u001b[39;49m\u001b[33;43m\"\u001b[39;49m\u001b[43m,\u001b[49m\u001b[43m \u001b[49m\u001b[43murl\u001b[49m\u001b[43m,\u001b[49m\u001b[43m \u001b[49m\u001b[43mauthMode\u001b[49m\u001b[43m,\u001b[49m\u001b[43m \u001b[49m\u001b[43mheaders\u001b[49m\u001b[43m,\u001b[49m\u001b[43m \u001b[49m\u001b[38;5;28;43;01mNone\u001b[39;49;00m\u001b[43m,\u001b[49m\n\u001b[32m    395\u001b[39m \u001b[43m                \u001b[49m\u001b[43mresKey\u001b[49m\u001b[43m,\u001b[49m\u001b[43m \u001b[49m\u001b[43mskipCheck\u001b[49m\u001b[43m,\u001b[49m\u001b[43m \u001b[49m\u001b[43mparams\u001b[49m\u001b[43m,\u001b[49m\u001b[43m \u001b[49m\u001b[43mstrictJson\u001b[49m\u001b[43m)\u001b[49m\n\u001b[32m    397\u001b[39m \u001b[38;5;28;01mif\u001b[39;00m logger.level == logging.DEBUG:\n\u001b[32m    398\u001b[39m     logger.debug(\u001b[33m\"\u001b[39m\u001b[33mreturn: \u001b[39m\u001b[33m\"\u001b[39m + \u001b[38;5;28mstr\u001b[39m(res))\n",
      "\u001b[36mFile \u001b[39m\u001b[32m~/Fraud/.venv/lib/python3.12/site-packages/pyTigerGraph/pyTigerGraphBase.py:356\u001b[39m, in \u001b[36mpyTigerGraphBase._req\u001b[39m\u001b[34m(self, method, url, authMode, headers, data, resKey, skipCheck, params, strictJson, jsonData, jsonResponse)\u001b[39m\n\u001b[32m    354\u001b[39m \u001b[38;5;28;01mif\u001b[39;00m \u001b[38;5;129;01mnot\u001b[39;00m skipCheck \u001b[38;5;129;01mand\u001b[39;00m \u001b[38;5;129;01mnot\u001b[39;00m (\u001b[32m200\u001b[39m <= res.status_code < \u001b[32m300\u001b[39m) \u001b[38;5;129;01mand\u001b[39;00m res.status_code != \u001b[32m404\u001b[39m:\n\u001b[32m    355\u001b[39m     \u001b[38;5;28;01mtry\u001b[39;00m:\n\u001b[32m--> \u001b[39m\u001b[32m356\u001b[39m         \u001b[38;5;28;43mself\u001b[39;49m\u001b[43m.\u001b[49m\u001b[43m_error_check\u001b[49m\u001b[43m(\u001b[49m\u001b[43mjson\u001b[49m\u001b[43m.\u001b[49m\u001b[43mloads\u001b[49m\u001b[43m(\u001b[49m\u001b[43mres\u001b[49m\u001b[43m.\u001b[49m\u001b[43mtext\u001b[49m\u001b[43m)\u001b[49m\u001b[43m)\u001b[49m\n\u001b[32m    357\u001b[39m     \u001b[38;5;28;01mexcept\u001b[39;00m json.decoder.JSONDecodeError:\n\u001b[32m    358\u001b[39m         \u001b[38;5;66;03m# could not parse the res text (probably returned an html response)\u001b[39;00m\n\u001b[32m    359\u001b[39m         \u001b[38;5;28;01mpass\u001b[39;00m\n",
      "\u001b[36mFile \u001b[39m\u001b[32m~/Fraud/.venv/lib/python3.12/site-packages/pyTigerGraph/common/base.py:273\u001b[39m, in \u001b[36mPyTigerGraphCore._error_check\u001b[39m\u001b[34m(self, res)\u001b[39m\n\u001b[32m    258\u001b[39m \u001b[38;5;250m\u001b[39m\u001b[33;03m\"\"\"Checks if the JSON document returned by an endpoint has contains `error: true`. If so,\u001b[39;00m\n\u001b[32m    259\u001b[39m \u001b[33;03m    it raises an exception.\u001b[39;00m\n\u001b[32m    260\u001b[39m \n\u001b[32m   (...)\u001b[39m\u001b[32m    269\u001b[39m \u001b[33;03m    TigerGraphException: if request returned with error, indicated in the returned JSON.\u001b[39;00m\n\u001b[32m    270\u001b[39m \u001b[33;03m\"\"\"\u001b[39;00m\n\u001b[32m    271\u001b[39m \u001b[38;5;28;01mif\u001b[39;00m \u001b[33m\"\u001b[39m\u001b[33merror\u001b[39m\u001b[33m\"\u001b[39m \u001b[38;5;129;01min\u001b[39;00m res \u001b[38;5;129;01mand\u001b[39;00m res[\u001b[33m\"\u001b[39m\u001b[33merror\u001b[39m\u001b[33m\"\u001b[39m] \u001b[38;5;129;01mand\u001b[39;00m res[\u001b[33m\"\u001b[39m\u001b[33merror\u001b[39m\u001b[33m\"\u001b[39m] != \u001b[33m\"\u001b[39m\u001b[33mfalse\u001b[39m\u001b[33m\"\u001b[39m:\n\u001b[32m    272\u001b[39m     \u001b[38;5;66;03m# Endpoint might return string \"false\" rather than Boolean false\u001b[39;00m\n\u001b[32m--> \u001b[39m\u001b[32m273\u001b[39m     \u001b[38;5;28;01mraise\u001b[39;00m TigerGraphException(\n\u001b[32m    274\u001b[39m         res[\u001b[33m\"\u001b[39m\u001b[33mmessage\u001b[39m\u001b[33m\"\u001b[39m], (res[\u001b[33m\"\u001b[39m\u001b[33mcode\u001b[39m\u001b[33m\"\u001b[39m] \u001b[38;5;28;01mif\u001b[39;00m \u001b[33m\"\u001b[39m\u001b[33mcode\u001b[39m\u001b[33m\"\u001b[39m \u001b[38;5;129;01min\u001b[39;00m res \u001b[38;5;28;01melse\u001b[39;00m \u001b[38;5;28;01mNone\u001b[39;00m)\n\u001b[32m    275\u001b[39m     )\n\u001b[32m    276\u001b[39m \u001b[38;5;28;01mreturn\u001b[39;00m \u001b[38;5;28;01mFalse\u001b[39;00m\n",
      "\u001b[31mTigerGraphException\u001b[39m: (\"Access Denied because the input token = '' is empty or too short\", 'REST-10016')"
     ]
    }
   ],
   "source": [
    "with open('../config.json', \"r\") as config_file:\n",
    "    config = json.load(config_file)\n",
    "    \n",
    "conn = TigerGraphConnection(\n",
    "    host=config[\"host\"],\n",
    "    username=config[\"username\"],\n",
    "    password=config[\"password\"],\n",
    "    graphname=\"Ethereum\"\n",
    ")\n",
    "\n",
    "train_loader, valid_loader = conn.gds.neighborLoader(\n",
    "    v_in_feats=[\"in_degree\",\"out_degree\",\"send_amount\",\"send_min\",\"recv_amount\",\"recv_min\",\"pagerank\",\"betweenness\"],\n",
    "    v_out_labels=[\"is_fraud\"],\n",
    "    v_extra_feats=[\"is_training\", \"is_validation\"],\n",
    "    output_format=\"PyG\",\n",
    "    batch_size=hp[\"batch_size\"],\n",
    "    num_neighbors=hp[\"num_neighbors\"],\n",
    "    num_hops=hp[\"num_hops\"],\n",
    "    filter_by = [\"is_training\", \"is_validation\"],\n",
    "    shuffle=True,\n",
    "    timeout=600000\n",
    ")"
   ]
  },
  {
   "cell_type": "markdown",
   "id": "6c5e0368-0902-4d95-b60c-1a217b9fd0bc",
   "metadata": {},
   "source": [
    "### Create Graph Attention Network\n",
    "\n",
    "Next, a Graph Attention Network (GAN) is created for vertex classification using the GraphSAGE model. The GAN is designed to perform vertex classification, where each vertex in the graph is assigned to one of two classes. The code imports the required GraphSAGE module from the pyTigerGraph library and initializes the GAN with specific hyperparameters. The \"num_layers\" parameter controls the number of layers in the GAN, while the \"out_dim\" parameter sets the output dimension of the GAN's classification layer, which is two in this case, representing the two classes. The \"hidden_dim\" parameter determines the dimension of the hidden layers in the model. The \"dropout\" parameter introduces dropout regularization to prevent overfitting during training. Additionally, the \"class_weights\" parameter is used to address class imbalance, setting a higher weight for the minority class (class 1) with a weight ratio of 1:15. By creating this Graph Attention Network, the model can effectively learn to classify vertices in the graph, particularly in tasks with imbalanced class distributions."
   ]
  },
  {
   "cell_type": "code",
   "execution_count": null,
   "id": "4f6d90e9-9c40-4758-b19d-dd883817d7da",
   "metadata": {},
   "outputs": [],
   "source": [
    "from pyTigerGraph.gds.models.GraphSAGE import GraphSAGEForVertexClassification\n",
    "import torch\n",
    "\n",
    "gs = GraphSAGEForVertexClassification(num_layers = hp[\"num_layers\"],\n",
    "                                      out_dim = 2,\n",
    "                                      hidden_dim = hp[\"hidden_dim\"],\n",
    "                                      dropout = hp[\"dropout\"],\n",
    "                                      class_weights = torch.FloatTensor([1, 15]))"
   ]
  },
  {
   "cell_type": "markdown",
   "id": "f6a76a1a-719d-49ef-bb08-5f2b3052142b",
   "metadata": {},
   "source": [
    "### Train Model\n",
    "Now we will train the previously defined Graph Attention Network (GAN) using the \"gs.fit\" method. The GAN is being trained on the provided \"train_loader\" and validated using the \"valid_loader\" for a total of 10 epochs. This process involves optimizing the model's parameters and learning the best representation to classify vertices in the graph accurately."
   ]
  },
  {
   "cell_type": "code",
   "execution_count": null,
   "id": "fea32d40-93a7-418f-ab53-966197106f3c",
   "metadata": {},
   "outputs": [
    {
     "name": "stderr",
     "output_type": "stream",
     "text": [
      "Epochs:   0%|          | 0/10 [00:00<?, ?it/s]\n",
      "Training Batches:   0%|          | 0/26 [00:00<?, ?it/s]\u001b[A\n",
      "Training Batches:   4%|▍         | 1/26 [00:02<01:01,  2.45s/it]\u001b[A\n",
      "Training Batches:   8%|▊         | 2/26 [00:02<00:28,  1.17s/it]\u001b[A\n",
      "Training Batches:  12%|█▏        | 3/26 [00:02<00:17,  1.34it/s]\u001b[A\n",
      "Training Batches:  15%|█▌        | 4/26 [00:03<00:11,  1.95it/s]\u001b[A\n",
      "Training Batches:  19%|█▉        | 5/26 [00:03<00:07,  2.63it/s]\u001b[A\n",
      "Training Batches:  23%|██▎       | 6/26 [00:03<00:06,  3.17it/s]\u001b[A\n",
      "Training Batches:  27%|██▋       | 7/26 [00:03<00:04,  3.86it/s]\u001b[A\n",
      "Training Batches:  31%|███       | 8/26 [00:03<00:03,  4.52it/s]\u001b[A\n",
      "Training Batches:  35%|███▍      | 9/26 [00:03<00:03,  5.09it/s]\u001b[A\n",
      "Training Batches:  38%|███▊      | 10/26 [00:04<00:02,  5.54it/s]\u001b[A\n",
      "Training Batches:  42%|████▏     | 11/26 [00:04<00:02,  5.09it/s]\u001b[A\n",
      "Training Batches:  46%|████▌     | 12/26 [00:04<00:02,  5.54it/s]\u001b[A\n",
      "Training Batches:  50%|█████     | 13/26 [00:04<00:02,  5.96it/s]\u001b[A\n",
      "Training Batches:  54%|█████▍    | 14/26 [00:04<00:01,  6.27it/s]\u001b[A\n",
      "Training Batches:  58%|█████▊    | 15/26 [00:04<00:01,  6.61it/s]\u001b[A\n",
      "Training Batches:  62%|██████▏   | 16/26 [00:04<00:01,  6.75it/s]\u001b[A\n",
      "Training Batches:  65%|██████▌   | 17/26 [00:05<00:01,  6.59it/s]\u001b[A\n",
      "Training Batches:  69%|██████▉   | 18/26 [00:05<00:01,  6.64it/s]\u001b[A\n",
      "Training Batches:  73%|███████▎  | 19/26 [00:05<00:01,  6.19it/s]\u001b[A\n",
      "Training Batches:  77%|███████▋  | 20/26 [00:05<00:00,  6.42it/s]\u001b[A\n",
      "Training Batches: 100%|██████████| 26/26 [00:05<00:00,  4.50it/s]\u001b[A\n",
      "\n",
      "Eval Batches:   0%|          | 0/7 [00:00<?, ?it/s]\u001b[A\n",
      "Eval Batches:  14%|█▍        | 1/7 [00:00<00:05,  1.12it/s]\u001b[A\n",
      "Eval Batches:  29%|██▊       | 2/7 [00:01<00:02,  2.20it/s]\u001b[A\n",
      "Eval Batches:  43%|████▎     | 3/7 [00:01<00:01,  3.28it/s]\u001b[A\n",
      "Eval Batches:  57%|█████▋    | 4/7 [00:01<00:00,  3.63it/s]\u001b[A\n",
      "Eval Batches: 100%|██████████| 7/7 [00:01<00:00,  4.50it/s]\u001b[A\n",
      "\n",
      "Training Batches:   0%|          | 0/26 [00:00<?, ?it/s]\u001b[A\n",
      "Training Batches:   4%|▍         | 1/26 [00:02<00:58,  2.34s/it]\u001b[A\n",
      "Training Batches:   8%|▊         | 2/26 [00:02<00:25,  1.05s/it]\u001b[A\n",
      "Training Batches:  12%|█▏        | 3/26 [00:02<00:15,  1.47it/s]\u001b[A\n",
      "Training Batches:  15%|█▌        | 4/26 [00:02<00:10,  2.14it/s]\u001b[A\n",
      "Training Batches:  19%|█▉        | 5/26 [00:03<00:08,  2.58it/s]\u001b[A\n",
      "Training Batches:  23%|██▎       | 6/26 [00:03<00:06,  3.32it/s]\u001b[A\n",
      "Training Batches:  27%|██▋       | 7/26 [00:03<00:05,  3.69it/s]\u001b[A\n",
      "Training Batches:  31%|███       | 8/26 [00:03<00:04,  3.85it/s]\u001b[A\n",
      "Training Batches:  35%|███▍      | 9/26 [00:03<00:03,  4.35it/s]\u001b[A\n",
      "Training Batches:  38%|███▊      | 10/26 [00:04<00:03,  4.94it/s]\u001b[A\n",
      "Training Batches:  42%|████▏     | 11/26 [00:04<00:02,  5.33it/s]\u001b[A\n",
      "Training Batches:  46%|████▌     | 12/26 [00:04<00:02,  5.84it/s]\u001b[A\n",
      "Training Batches:  50%|█████     | 13/26 [00:04<00:02,  6.08it/s]\u001b[A\n",
      "Training Batches:  54%|█████▍    | 14/26 [00:04<00:01,  6.43it/s]\u001b[A\n",
      "Training Batches:  58%|█████▊    | 15/26 [00:04<00:01,  6.60it/s]\u001b[A\n",
      "Training Batches:  62%|██████▏   | 16/26 [00:04<00:01,  6.72it/s]\u001b[A\n",
      "Training Batches:  65%|██████▌   | 17/26 [00:04<00:01,  6.86it/s]\u001b[A\n",
      "Training Batches:  69%|██████▉   | 18/26 [00:05<00:01,  6.86it/s]\u001b[A\n",
      "Training Batches:  73%|███████▎  | 19/26 [00:05<00:01,  6.89it/s]\u001b[A\n",
      "Training Batches:  77%|███████▋  | 20/26 [00:05<00:00,  6.99it/s]\u001b[A\n",
      "Training Batches: 100%|██████████| 26/26 [00:05<00:00,  4.65it/s]\u001b[A\n",
      "\n",
      "Eval Batches:   0%|          | 0/7 [00:00<?, ?it/s]\u001b[A\n",
      "Eval Batches:  14%|█▍        | 1/7 [00:00<00:05,  1.10it/s]\u001b[A\n",
      "Eval Batches:  29%|██▊       | 2/7 [00:01<00:02,  2.12it/s]\u001b[A\n",
      "Eval Batches:  43%|████▎     | 3/7 [00:01<00:01,  3.22it/s]\u001b[A\n",
      "Eval Batches:  57%|█████▋    | 4/7 [00:01<00:00,  4.24it/s]\u001b[A\n",
      "Eval Batches: 100%|██████████| 7/7 [00:01<00:00,  4.72it/s]\u001b[A\n",
      "\n",
      "Training Batches:   0%|          | 0/26 [00:00<?, ?it/s]\u001b[A\n",
      "Training Batches:   4%|▍         | 1/26 [00:02<00:57,  2.30s/it]\u001b[A\n",
      "Training Batches:   8%|▊         | 2/26 [00:02<00:24,  1.03s/it]\u001b[A\n",
      "Training Batches:  12%|█▏        | 3/26 [00:02<00:15,  1.48it/s]\u001b[A\n",
      "Training Batches:  15%|█▌        | 4/26 [00:02<00:11,  1.98it/s]\u001b[A\n",
      "Training Batches:  19%|█▉        | 5/26 [00:03<00:08,  2.55it/s]\u001b[A\n",
      "Training Batches:  23%|██▎       | 6/26 [00:03<00:06,  2.95it/s]\u001b[A\n",
      "Training Batches:  27%|██▋       | 7/26 [00:03<00:05,  3.65it/s]\u001b[A\n",
      "Training Batches:  31%|███       | 8/26 [00:03<00:04,  4.28it/s]\u001b[A\n",
      "Training Batches:  35%|███▍      | 9/26 [00:03<00:03,  4.94it/s]\u001b[A\n",
      "Training Batches:  38%|███▊      | 10/26 [00:03<00:02,  5.41it/s]\u001b[A\n",
      "Training Batches:  42%|████▏     | 11/26 [00:04<00:02,  5.79it/s]\u001b[A\n",
      "Training Batches:  46%|████▌     | 12/26 [00:04<00:02,  5.76it/s]\u001b[A\n",
      "Training Batches:  50%|█████     | 13/26 [00:04<00:02,  6.12it/s]\u001b[A\n",
      "Training Batches:  54%|█████▍    | 14/26 [00:04<00:01,  6.40it/s]\u001b[A\n",
      "Training Batches:  58%|█████▊    | 15/26 [00:04<00:01,  6.47it/s]\u001b[A\n",
      "Training Batches:  62%|██████▏   | 16/26 [00:04<00:01,  6.61it/s]\u001b[A\n",
      "Training Batches:  65%|██████▌   | 17/26 [00:04<00:01,  6.50it/s]\u001b[A\n",
      "Training Batches:  69%|██████▉   | 18/26 [00:05<00:01,  6.55it/s]\u001b[A\n",
      "Training Batches:  73%|███████▎  | 19/26 [00:05<00:01,  6.82it/s]\u001b[A\n",
      "Training Batches:  77%|███████▋  | 20/26 [00:05<00:00,  6.92it/s]\u001b[A\n",
      "Training Batches: 100%|██████████| 26/26 [00:05<00:00,  4.65it/s]\u001b[A\n",
      "\n",
      "Eval Batches:   0%|          | 0/7 [00:00<?, ?it/s]\u001b[A\n",
      "Eval Batches:  14%|█▍        | 1/7 [00:00<00:05,  1.08it/s]\u001b[A\n",
      "Eval Batches:  29%|██▊       | 2/7 [00:01<00:02,  2.09it/s]\u001b[A\n",
      "Eval Batches:  43%|████▎     | 3/7 [00:01<00:01,  3.11it/s]\u001b[A\n",
      "Eval Batches:  57%|█████▋    | 4/7 [00:01<00:00,  4.07it/s]\u001b[A\n",
      "Eval Batches: 100%|██████████| 7/7 [00:01<00:00,  4.61it/s]\u001b[A\n",
      "\n",
      "Training Batches:   0%|          | 0/26 [00:00<?, ?it/s]\u001b[A\n",
      "Training Batches:   4%|▍         | 1/26 [00:02<00:58,  2.33s/it]\u001b[A\n",
      "Training Batches:   8%|▊         | 2/26 [00:02<00:26,  1.12s/it]\u001b[A\n",
      "Training Batches:  12%|█▏        | 3/26 [00:02<00:17,  1.30it/s]\u001b[A\n",
      "Training Batches:  15%|█▌        | 4/26 [00:03<00:11,  1.85it/s]\u001b[A\n",
      "Training Batches:  19%|█▉        | 5/26 [00:03<00:08,  2.52it/s]\u001b[A\n",
      "Training Batches:  23%|██▎       | 6/26 [00:03<00:06,  3.22it/s]\u001b[A\n",
      "Training Batches:  27%|██▋       | 7/26 [00:03<00:04,  3.95it/s]\u001b[A\n",
      "Training Batches:  31%|███       | 8/26 [00:03<00:03,  4.53it/s]\u001b[A\n",
      "Training Batches:  35%|███▍      | 9/26 [00:03<00:03,  5.05it/s]\u001b[A\n",
      "Training Batches:  38%|███▊      | 10/26 [00:04<00:02,  5.55it/s]\u001b[A\n",
      "Training Batches:  42%|████▏     | 11/26 [00:04<00:02,  6.07it/s]\u001b[A\n",
      "Training Batches:  50%|█████     | 13/26 [00:04<00:01,  7.83it/s]\u001b[A\n",
      "Training Batches:  54%|█████▍    | 14/26 [00:04<00:01,  6.37it/s]\u001b[A\n",
      "Training Batches:  58%|█████▊    | 15/26 [00:04<00:01,  6.61it/s]\u001b[A\n",
      "Training Batches:  62%|██████▏   | 16/26 [00:04<00:01,  6.75it/s]\u001b[A\n",
      "Training Batches:  65%|██████▌   | 17/26 [00:05<00:01,  5.70it/s]\u001b[A\n",
      "Training Batches:  69%|██████▉   | 18/26 [00:05<00:01,  6.15it/s]\u001b[A\n",
      "Training Batches:  73%|███████▎  | 19/26 [00:05<00:01,  6.49it/s]\u001b[A\n",
      "Training Batches:  77%|███████▋  | 20/26 [00:05<00:00,  6.70it/s]\u001b[A\n",
      "Training Batches: 100%|██████████| 26/26 [00:05<00:00,  4.60it/s]\u001b[A\n",
      "\n",
      "Eval Batches:   0%|          | 0/7 [00:00<?, ?it/s]\u001b[A\n",
      "Eval Batches:  14%|█▍        | 1/7 [00:00<00:05,  1.16it/s]\u001b[A\n",
      "Eval Batches:  29%|██▊       | 2/7 [00:01<00:02,  2.28it/s]\u001b[A\n",
      "Eval Batches:  57%|█████▋    | 4/7 [00:01<00:00,  4.19it/s]\u001b[A\n",
      "Eval Batches: 100%|██████████| 7/7 [00:01<00:00,  4.85it/s]\u001b[A\n",
      "\n",
      "Training Batches:   0%|          | 0/26 [00:00<?, ?it/s]\u001b[A\n",
      "Training Batches:   4%|▍         | 1/26 [00:02<00:55,  2.23s/it]\u001b[A\n",
      "Training Batches:   8%|▊         | 2/26 [00:02<00:25,  1.07s/it]\u001b[A\n",
      "Training Batches:  12%|█▏        | 3/26 [00:02<00:17,  1.34it/s]\u001b[A\n",
      "Training Batches:  15%|█▌        | 4/26 [00:03<00:12,  1.80it/s]\u001b[A\n",
      "Training Batches:  19%|█▉        | 5/26 [00:03<00:08,  2.46it/s]\u001b[A\n",
      "Training Batches:  23%|██▎       | 6/26 [00:03<00:06,  3.01it/s]\u001b[A\n",
      "Training Batches:  27%|██▋       | 7/26 [00:03<00:05,  3.71it/s]\u001b[A\n",
      "Training Batches:  31%|███       | 8/26 [00:03<00:04,  4.41it/s]\u001b[A\n",
      "Training Batches:  35%|███▍      | 9/26 [00:03<00:03,  4.95it/s]\u001b[A\n",
      "Training Batches:  38%|███▊      | 10/26 [00:04<00:02,  5.50it/s]\u001b[A\n",
      "Training Batches:  42%|████▏     | 11/26 [00:04<00:02,  5.99it/s]\u001b[A\n",
      "Training Batches:  46%|████▌     | 12/26 [00:04<00:02,  6.33it/s]\u001b[A\n",
      "Training Batches:  50%|█████     | 13/26 [00:04<00:02,  6.25it/s]\u001b[A\n",
      "Training Batches:  54%|█████▍    | 14/26 [00:04<00:01,  6.46it/s]\u001b[A\n",
      "Training Batches:  58%|█████▊    | 15/26 [00:04<00:01,  6.57it/s]\u001b[A\n",
      "Training Batches:  62%|██████▏   | 16/26 [00:04<00:01,  6.80it/s]\u001b[A\n",
      "Training Batches:  65%|██████▌   | 17/26 [00:05<00:01,  5.64it/s]\u001b[A\n",
      "Training Batches:  69%|██████▉   | 18/26 [00:05<00:01,  6.14it/s]\u001b[A\n",
      "Training Batches:  73%|███████▎  | 19/26 [00:05<00:01,  6.45it/s]\u001b[A\n",
      "Training Batches:  77%|███████▋  | 20/26 [00:05<00:00,  6.66it/s]\u001b[A\n",
      "Training Batches: 100%|██████████| 26/26 [00:05<00:00,  4.58it/s]\u001b[A\n",
      "\n",
      "Eval Batches:   0%|          | 0/7 [00:00<?, ?it/s]\u001b[A\n",
      "Eval Batches:  14%|█▍        | 1/7 [00:00<00:04,  1.22it/s]\u001b[A\n",
      "Eval Batches:  29%|██▊       | 2/7 [00:00<00:02,  2.28it/s]\u001b[A\n",
      "Eval Batches:  43%|████▎     | 3/7 [00:01<00:01,  3.36it/s]\u001b[A\n",
      "Eval Batches:  57%|█████▋    | 4/7 [00:01<00:00,  4.33it/s]\u001b[A\n",
      "Eval Batches: 100%|██████████| 7/7 [00:01<00:00,  4.94it/s]\u001b[A\n",
      "\n",
      "Training Batches:   0%|          | 0/26 [00:00<?, ?it/s]\u001b[A\n",
      "Training Batches:   4%|▍         | 1/26 [00:02<00:58,  2.34s/it]\u001b[A\n",
      "Training Batches:   8%|▊         | 2/26 [00:02<00:27,  1.16s/it]\u001b[A\n",
      "Training Batches:  12%|█▏        | 3/26 [00:02<00:17,  1.34it/s]\u001b[A\n",
      "Training Batches:  15%|█▌        | 4/26 [00:03<00:12,  1.82it/s]\u001b[A\n",
      "Training Batches:  19%|█▉        | 5/26 [00:03<00:08,  2.49it/s]\u001b[A\n",
      "Training Batches:  23%|██▎       | 6/26 [00:03<00:06,  3.01it/s]\u001b[A\n",
      "Training Batches:  27%|██▋       | 7/26 [00:03<00:05,  3.62it/s]\u001b[A\n",
      "Training Batches:  31%|███       | 8/26 [00:03<00:04,  4.31it/s]\u001b[A\n",
      "Training Batches:  35%|███▍      | 9/26 [00:03<00:03,  4.95it/s]\u001b[A\n",
      "Training Batches:  38%|███▊      | 10/26 [00:04<00:02,  5.42it/s]\u001b[A\n",
      "Training Batches:  42%|████▏     | 11/26 [00:04<00:02,  5.87it/s]\u001b[A\n",
      "Training Batches:  46%|████▌     | 12/26 [00:04<00:02,  6.29it/s]\u001b[A\n",
      "Training Batches:  50%|█████     | 13/26 [00:04<00:01,  6.64it/s]\u001b[A\n",
      "Training Batches:  54%|█████▍    | 14/26 [00:04<00:02,  5.58it/s]\u001b[A\n",
      "Training Batches:  58%|█████▊    | 15/26 [00:04<00:01,  5.98it/s]\u001b[A\n",
      "Training Batches:  62%|██████▏   | 16/26 [00:05<00:01,  6.32it/s]\u001b[A\n",
      "Training Batches:  65%|██████▌   | 17/26 [00:05<00:01,  6.79it/s]\u001b[A\n",
      "Training Batches:  69%|██████▉   | 18/26 [00:05<00:01,  6.81it/s]\u001b[A\n",
      "Training Batches:  73%|███████▎  | 19/26 [00:05<00:01,  6.78it/s]\u001b[A\n",
      "Training Batches:  77%|███████▋  | 20/26 [00:05<00:00,  6.97it/s]\u001b[A\n",
      "Training Batches: 100%|██████████| 26/26 [00:05<00:00,  4.54it/s]\u001b[A\n",
      "\n",
      "Eval Batches:   0%|          | 0/7 [00:00<?, ?it/s]\u001b[A\n",
      "Eval Batches:  14%|█▍        | 1/7 [00:00<00:05,  1.11it/s]\u001b[A\n",
      "Eval Batches:  29%|██▊       | 2/7 [00:01<00:02,  2.25it/s]\u001b[A\n",
      "Eval Batches:  43%|████▎     | 3/7 [00:01<00:01,  3.36it/s]\u001b[A\n",
      "Eval Batches:  57%|█████▋    | 4/7 [00:01<00:00,  4.14it/s]\u001b[A\n",
      "Eval Batches: 100%|██████████| 7/7 [00:01<00:00,  4.76it/s]\u001b[A\n",
      "\n",
      "Training Batches:   0%|          | 0/26 [00:00<?, ?it/s]\u001b[A\n",
      "Training Batches:   4%|▍         | 1/26 [00:02<01:01,  2.45s/it]\u001b[A\n",
      "Training Batches:   8%|▊         | 2/26 [00:02<00:27,  1.16s/it]\u001b[A\n",
      "Training Batches:  12%|█▏        | 3/26 [00:02<00:15,  1.45it/s]\u001b[A\n",
      "Training Batches:  15%|█▌        | 4/26 [00:03<00:10,  2.10it/s]\u001b[A\n",
      "Training Batches:  19%|█▉        | 5/26 [00:03<00:08,  2.57it/s]\u001b[A\n",
      "Training Batches:  23%|██▎       | 6/26 [00:03<00:06,  3.07it/s]\u001b[A\n",
      "Training Batches:  27%|██▋       | 7/26 [00:03<00:05,  3.79it/s]\u001b[A\n",
      "Training Batches:  31%|███       | 8/26 [00:03<00:03,  4.56it/s]\u001b[A\n",
      "Training Batches:  35%|███▍      | 9/26 [00:03<00:03,  5.18it/s]\u001b[A\n",
      "Training Batches:  38%|███▊      | 10/26 [00:03<00:02,  5.58it/s]\u001b[A\n",
      "Training Batches:  42%|████▏     | 11/26 [00:04<00:02,  5.96it/s]\u001b[A\n",
      "Training Batches:  46%|████▌     | 12/26 [00:04<00:02,  5.35it/s]\u001b[A\n",
      "Training Batches:  50%|█████     | 13/26 [00:04<00:02,  5.88it/s]\u001b[A\n",
      "Training Batches:  54%|█████▍    | 14/26 [00:04<00:01,  6.04it/s]\u001b[A\n",
      "Training Batches:  58%|█████▊    | 15/26 [00:04<00:01,  6.38it/s]\u001b[A\n",
      "Training Batches:  62%|██████▏   | 16/26 [00:04<00:01,  6.76it/s]\u001b[A\n",
      "Training Batches:  65%|██████▌   | 17/26 [00:05<00:01,  6.55it/s]\u001b[A\n",
      "Training Batches:  69%|██████▉   | 18/26 [00:05<00:01,  6.55it/s]\u001b[A\n",
      "Training Batches:  73%|███████▎  | 19/26 [00:05<00:01,  6.66it/s]\u001b[A\n",
      "Training Batches:  77%|███████▋  | 20/26 [00:05<00:00,  6.84it/s]\u001b[A\n",
      "Training Batches: 100%|██████████| 26/26 [00:05<00:00,  4.61it/s]\u001b[A\n",
      "\n",
      "Eval Batches:   0%|          | 0/7 [00:00<?, ?it/s]\u001b[A\n",
      "Eval Batches:  14%|█▍        | 1/7 [00:00<00:05,  1.18it/s]\u001b[A\n",
      "Eval Batches:  29%|██▊       | 2/7 [00:01<00:02,  2.25it/s]\u001b[A\n",
      "Eval Batches:  57%|█████▋    | 4/7 [00:01<00:00,  3.74it/s]\u001b[A\n",
      "Eval Batches: 100%|██████████| 7/7 [00:01<00:00,  4.60it/s]\u001b[A\n",
      "\n",
      "Training Batches:   0%|          | 0/26 [00:00<?, ?it/s]\u001b[A\n",
      "Training Batches:   4%|▍         | 1/26 [00:02<00:55,  2.23s/it]\u001b[A\n",
      "Training Batches:   8%|▊         | 2/26 [00:02<00:25,  1.08s/it]\u001b[A\n",
      "Training Batches:  12%|█▏        | 3/26 [00:02<00:16,  1.42it/s]\u001b[A\n",
      "Training Batches:  15%|█▌        | 4/26 [00:03<00:11,  1.89it/s]\u001b[A\n",
      "Training Batches:  19%|█▉        | 5/26 [00:03<00:08,  2.47it/s]\u001b[A\n",
      "Training Batches:  23%|██▎       | 6/26 [00:03<00:06,  3.19it/s]\u001b[A\n",
      "Training Batches:  27%|██▋       | 7/26 [00:03<00:04,  3.86it/s]\u001b[A\n",
      "Training Batches:  31%|███       | 8/26 [00:03<00:03,  4.54it/s]\u001b[A\n",
      "Training Batches:  35%|███▍      | 9/26 [00:03<00:03,  4.40it/s]\u001b[A\n",
      "Training Batches:  38%|███▊      | 10/26 [00:04<00:03,  5.04it/s]\u001b[A\n",
      "Training Batches:  42%|████▏     | 11/26 [00:04<00:02,  5.52it/s]\u001b[A\n",
      "Training Batches:  46%|████▌     | 12/26 [00:04<00:02,  5.92it/s]\u001b[A\n",
      "Training Batches:  50%|█████     | 13/26 [00:04<00:02,  6.25it/s]\u001b[A\n",
      "Training Batches:  54%|█████▍    | 14/26 [00:04<00:01,  6.32it/s]\u001b[A\n",
      "Training Batches:  58%|█████▊    | 15/26 [00:04<00:01,  6.56it/s]\u001b[A\n",
      "Training Batches:  62%|██████▏   | 16/26 [00:04<00:01,  6.81it/s]\u001b[A\n",
      "Training Batches:  65%|██████▌   | 17/26 [00:04<00:01,  6.94it/s]\u001b[A\n",
      "Training Batches:  69%|██████▉   | 18/26 [00:05<00:01,  7.02it/s]\u001b[A\n",
      "Training Batches:  73%|███████▎  | 19/26 [00:05<00:00,  7.07it/s]\u001b[A\n",
      "Training Batches:  77%|███████▋  | 20/26 [00:05<00:00,  7.06it/s]\u001b[A\n",
      "Training Batches: 100%|██████████| 26/26 [00:05<00:00,  4.65it/s]\u001b[A\n",
      "\n",
      "Eval Batches:   0%|          | 0/7 [00:00<?, ?it/s]\u001b[A\n",
      "Eval Batches:  14%|█▍        | 1/7 [00:00<00:05,  1.07it/s]\u001b[A\n",
      "Eval Batches:  29%|██▊       | 2/7 [00:01<00:02,  2.10it/s]\u001b[A\n",
      "Eval Batches:  57%|█████▋    | 4/7 [00:01<00:00,  4.53it/s]\u001b[A\n",
      "Eval Batches: 100%|██████████| 7/7 [00:01<00:00,  4.66it/s]\u001b[A\n",
      "\n",
      "Training Batches:   0%|          | 0/26 [00:00<?, ?it/s]\u001b[A\n",
      "Training Batches:   4%|▍         | 1/26 [00:02<00:55,  2.21s/it]\u001b[A\n",
      "Training Batches:   8%|▊         | 2/26 [00:02<00:25,  1.05s/it]\u001b[A\n",
      "Training Batches:  12%|█▏        | 3/26 [00:02<00:14,  1.56it/s]\u001b[A\n",
      "Training Batches:  15%|█▌        | 4/26 [00:02<00:10,  2.07it/s]\u001b[A\n",
      "Training Batches:  19%|█▉        | 5/26 [00:03<00:08,  2.57it/s]\u001b[A\n",
      "Training Batches:  23%|██▎       | 6/26 [00:03<00:07,  2.82it/s]\u001b[A\n",
      "Training Batches:  27%|██▋       | 7/26 [00:03<00:05,  3.33it/s]\u001b[A\n",
      "Training Batches:  31%|███       | 8/26 [00:03<00:04,  4.03it/s]\u001b[A\n",
      "Training Batches:  35%|███▍      | 9/26 [00:03<00:03,  4.76it/s]\u001b[A\n",
      "Training Batches:  38%|███▊      | 10/26 [00:03<00:03,  5.29it/s]\u001b[A\n",
      "Training Batches:  42%|████▏     | 11/26 [00:04<00:02,  5.83it/s]\u001b[A\n",
      "Training Batches:  46%|████▌     | 12/26 [00:04<00:02,  6.04it/s]\u001b[A\n",
      "Training Batches:  50%|█████     | 13/26 [00:04<00:02,  6.38it/s]\u001b[A\n",
      "Training Batches:  54%|█████▍    | 14/26 [00:04<00:01,  6.72it/s]\u001b[A\n",
      "Training Batches:  58%|█████▊    | 15/26 [00:04<00:01,  6.61it/s]\u001b[A\n",
      "Training Batches:  62%|██████▏   | 16/26 [00:04<00:01,  6.74it/s]\u001b[A\n",
      "Training Batches:  65%|██████▌   | 17/26 [00:04<00:01,  6.74it/s]\u001b[A\n",
      "Training Batches:  69%|██████▉   | 18/26 [00:05<00:01,  6.85it/s]\u001b[A\n",
      "Training Batches:  73%|███████▎  | 19/26 [00:05<00:01,  5.81it/s]\u001b[A\n",
      "Training Batches:  77%|███████▋  | 20/26 [00:05<00:00,  6.18it/s]\u001b[A\n",
      "Training Batches: 100%|██████████| 26/26 [00:05<00:00,  4.61it/s]\u001b[A\n",
      "\n",
      "Eval Batches:   0%|          | 0/7 [00:00<?, ?it/s]\u001b[A\n",
      "Eval Batches:  14%|█▍        | 1/7 [00:00<00:05,  1.15it/s]\u001b[A\n",
      "Eval Batches:  29%|██▊       | 2/7 [00:00<00:02,  2.32it/s]\u001b[A\n",
      "Eval Batches:  43%|████▎     | 3/7 [00:01<00:01,  3.36it/s]\u001b[A\n",
      "Eval Batches:  57%|█████▋    | 4/7 [00:01<00:00,  4.52it/s]\u001b[A\n",
      "Eval Batches: 100%|██████████| 7/7 [00:01<00:00,  4.89it/s]\u001b[A\n",
      "\n",
      "Training Batches:   0%|          | 0/26 [00:00<?, ?it/s]\u001b[A\n",
      "Training Batches:   4%|▍         | 1/26 [00:02<00:57,  2.31s/it]\u001b[A\n",
      "Training Batches:   8%|▊         | 2/26 [00:02<00:27,  1.16s/it]\u001b[A\n",
      "Training Batches:  12%|█▏        | 3/26 [00:02<00:16,  1.43it/s]\u001b[A\n",
      "Training Batches:  15%|█▌        | 4/26 [00:03<00:11,  1.91it/s]\u001b[A\n",
      "Training Batches:  19%|█▉        | 5/26 [00:03<00:08,  2.37it/s]\u001b[A\n",
      "Training Batches:  23%|██▎       | 6/26 [00:03<00:06,  3.06it/s]\u001b[A\n",
      "Training Batches:  27%|██▋       | 7/26 [00:03<00:05,  3.52it/s]\u001b[A\n",
      "Training Batches:  31%|███       | 8/26 [00:03<00:04,  4.14it/s]\u001b[A\n",
      "Training Batches:  35%|███▍      | 9/26 [00:03<00:03,  4.70it/s]\u001b[A\n",
      "Training Batches:  38%|███▊      | 10/26 [00:04<00:03,  5.26it/s]\u001b[A\n",
      "Training Batches:  42%|████▏     | 11/26 [00:04<00:03,  4.80it/s]\u001b[A\n",
      "Training Batches:  54%|█████▍    | 14/26 [00:04<00:01,  7.46it/s]\u001b[A\n",
      "Training Batches:  58%|█████▊    | 15/26 [00:04<00:01,  6.34it/s]\u001b[A\n",
      "Training Batches:  62%|██████▏   | 16/26 [00:05<00:01,  5.92it/s]\u001b[A\n",
      "Training Batches:  65%|██████▌   | 17/26 [00:05<00:01,  6.17it/s]\u001b[A\n",
      "Training Batches:  69%|██████▉   | 18/26 [00:05<00:01,  6.32it/s]\u001b[A\n",
      "Training Batches:  73%|███████▎  | 19/26 [00:05<00:01,  6.51it/s]\u001b[A\n",
      "Training Batches:  77%|███████▋  | 20/26 [00:05<00:00,  6.75it/s]\u001b[A\n",
      "Training Batches: 100%|██████████| 26/26 [00:05<00:00,  4.52it/s]\u001b[A\n",
      "\n",
      "Eval Batches:   0%|          | 0/7 [00:00<?, ?it/s]\u001b[A\n",
      "Eval Batches:  14%|█▍        | 1/7 [00:00<00:04,  1.27it/s]\u001b[A\n",
      "Eval Batches:  29%|██▊       | 2/7 [00:00<00:02,  2.38it/s]\u001b[A\n",
      "Eval Batches:  43%|████▎     | 3/7 [00:01<00:01,  2.95it/s]\u001b[A\n",
      "Eval Batches:  57%|█████▋    | 4/7 [00:01<00:00,  3.96it/s]\u001b[A\n",
      "Eval Batches: 100%|██████████| 7/7 [00:01<00:00,  4.66it/s]\u001b[A\n"
     ]
    }
   ],
   "source": [
    "gs.fit(train_loader, valid_loader, number_epochs=10)"
   ]
  },
  {
   "cell_type": "code",
   "execution_count": null,
   "id": "94690a70",
   "metadata": {},
   "outputs": [],
   "source": [
    "final_metrics = gs.trainer.get_eval_metrics()"
   ]
  },
  {
   "cell_type": "markdown",
   "id": "61b65881",
   "metadata": {},
   "source": [
    "### Model Evaluation\n",
    "The final evaluation metrics of the trained Graph Attention Network (GAN) are obtained and presented as a dictionary. The evaluation results include an **accuracy of 96.62%**, precision of 54.68%, and recall of 63.07%. Additionally, the confusion matrix showcases the number of true positive (152), false positive (126), true negative (5996), and false negative (89) instances. The calculated loss for the GAN is 26.59. These metrics provide insights into the GAN's performance in accurately classifying vertices in the graph and highlight the effectiveness of the model in handling imbalanced class distributions."
   ]
  },
  {
   "cell_type": "code",
   "execution_count": null,
   "id": "9934ab2e",
   "metadata": {},
   "outputs": [
    {
     "data": {
      "text/plain": [
       "{'accuracy': 0.965815931941222,\n",
       " 'precision': 0.5034965034965035,\n",
       " 'recall': 0.6457399103139013,\n",
       " 'confusion_matrix':          predicted_0  predicted_1\n",
       " label_0       6100.0        142.0\n",
       " label_1         79.0        144.0,\n",
       " 'loss': 86.12905139582497}"
      ]
     },
     "execution_count": 34,
     "metadata": {},
     "output_type": "execute_result"
    }
   ],
   "source": [
    "final_metrics"
   ]
  },
  {
   "cell_type": "markdown",
   "id": "5ed9e841",
   "metadata": {},
   "source": [
    "Let's print the final evaluation metrics (accuracy, precision, and recall) for the Graph Attention Network (GNN) model, providing a clear and concise summary of its performance in vertex classification."
   ]
  },
  {
   "cell_type": "code",
   "execution_count": null,
   "id": "da6f3e12",
   "metadata": {},
   "outputs": [
    {
     "name": "stdout",
     "output_type": "stream",
     "text": [
      "Accuracy 0.9658, Precision 0.5035, Recall 0.6457\n"
     ]
    }
   ],
   "source": [
    "# Print the final performance metric for the GNN model\n",
    "print(\"Accuracy {:.4f}, Precision {:.4f}, Recall {:.4f}\".format(\n",
    "    final_metrics[\"accuracy\"], final_metrics[\"precision\"], final_metrics[\"recall\"]))"
   ]
  },
  {
   "cell_type": "markdown",
   "id": "c6627357",
   "metadata": {},
   "source": [
    "### Visualize Results with Confusion Matrix\n",
    "\n",
    "We will create visual representation of the confusion matrix based on the evaluation metrics. The confusion matrix is displayed as a heatmap using the \"matshow\" function from Matplotlib, where different colors represent the number of true positive, false positive, true negative, and false negative instances. The values within the heatmap are annotated using \"text\" to show the exact counts of each class prediction. The plot is accompanied by labeled axes, and the title \"Confusion Matrix\" is added to provide a clear understanding of the model's performance in distinguishing between actual and predicted classes. The visualization of the confusion matrix aids in assessing the model's classification accuracy and identifying any potential misclassifications."
   ]
  },
  {
   "cell_type": "code",
   "execution_count": null,
   "id": "eb808e12-3b6b-438a-9979-9edff9604f74",
   "metadata": {},
   "outputs": [
    {
     "data": {
      "image/png": "[encoded data removed]",
      "text/plain": [
       "<Figure size 750x750 with 1 Axes>"
      ]
     },
     "metadata": {},
     "output_type": "display_data"
    }
   ],
   "source": [
    "import matplotlib.pyplot as plt\n",
    "\n",
    "fig, ax = plt.subplots(figsize=(7.5, 7.5))\n",
    "ax.matshow(final_metrics[\"confusion_matrix\"], cmap=plt.cm.Blues, alpha=0.8)\n",
    "\n",
    "for i in range(final_metrics[\"confusion_matrix\"].shape[0]):\n",
    "    for j in range(final_metrics[\"confusion_matrix\"].shape[1]):\n",
    "        ax.text(x=j, y=i,s=final_metrics[\"confusion_matrix\"].values[i, j], va='center', ha='center', size='xx-large')\n",
    " \n",
    "plt.xlabel('Predictions', fontsize=18)\n",
    "plt.ylabel('Actuals', fontsize=18)\n",
    "plt.title('Confusion Matrix', fontsize=18)\n",
    "plt.show()"
   ]
  },
  {
   "cell_type": "markdown",
   "id": "ca51b8a6-d9d9-42a3-a0ca-e2d768106ef0",
   "metadata": {},
   "source": [
    "### Explain Model"
   ]
  },
  {
   "cell_type": "markdown",
   "id": "50c74381-2354-4521-8c62-2ac212c7806d",
   "metadata": {},
   "source": [
    "Let's sample a random vertex that the model predicts to be fraudulent and retrieve the data representing the subgraph surrounding that vertex. The data is fetched from the \"train_loader\" using the \"fetch\" method with specific attributes, such as the vertex type \"Account\" and the primary ID \"0x5093c4029acab3aff80140023099f5ec6ca7d52f.\" This process allows for a closer examination of the subgraph and gaining insights into the model's predictions and the underlying patterns associated with fraudulent vertices."
   ]
  },
  {
   "cell_type": "code",
   "execution_count": null,
   "id": "f30d0260",
   "metadata": {},
   "outputs": [],
   "source": [
    "from torch_geometric.explain import Explainer, GNNExplainer\n",
    "\n",
    "data = train_loader.fetch([{\"type\": \"Account\", \"primary_id\": \"0x5093c4029acab3aff80140023099f5ec6ca7d52f\"}])\n",
    "\n",
    "explainer = Explainer(\n",
    "    model=gs.model,\n",
    "    algorithm=GNNExplainer(epochs=200),\n",
    "    explanation_type='model',\n",
    "    node_mask_type='attributes',\n",
    "    edge_mask_type='object',\n",
    "    model_config=dict(\n",
    "        mode='binary_classification',\n",
    "        task_level='node',\n",
    "        return_type='raw',  # Model returns log probabilities.\n",
    "    ),\n",
    ")"
   ]
  },
  {
   "cell_type": "code",
   "execution_count": null,
   "id": "c5d43b55",
   "metadata": {},
   "outputs": [
    {
     "data": {
      "text/plain": [
       "Data(edge_index=[2, 16], x=[17, 8], y=[17], is_training=[17], is_validation=[17], is_seed=[17], primary_id=[17])"
      ]
     },
     "execution_count": 38,
     "metadata": {},
     "output_type": "execute_result"
    }
   ],
   "source": [
    "data"
   ]
  },
  {
   "cell_type": "markdown",
   "id": "6a4454f0",
   "metadata": {},
   "source": [
    "Next let's us an \"explainer\" object to generate explanations for a Graph Attention Network (GAN) model's predictions in vertex classification. It visualizes the feature importance scores of the input features and creates a graphical representation of the subgraph around a sampled vertex to gain insights into the model's decision-making process. The explanations help in understanding critical features and validating the model's performance."
   ]
  },
  {
   "cell_type": "code",
   "execution_count": null,
   "id": "ca99a6f0",
   "metadata": {},
   "outputs": [
    {
     "data": {
      "image/png": "[encoded data removed]",
      "text/plain": [
       "<Figure size 1000x700 with 1 Axes>"
      ]
     },
     "metadata": {},
     "output_type": "display_data"
    },
    {
     "data": {
      "image/png": "[encoded data removed]",
      "text/plain": [
       "<Figure size 640x480 with 1 Axes>"
      ]
     },
     "metadata": {},
     "output_type": "display_data"
    }
   ],
   "source": [
    "explanation = explainer(data.x.float(), data.edge_index)\n",
    "\n",
    "explanation.visualize_feature_importance(top_k=len(train_loader.v_in_feats), feat_labels=train_loader.v_in_feats)\n",
    "\n",
    "explanation.visualize_graph()"
   ]
  },
  {
   "cell_type": "markdown",
   "id": "7d8427d8-2d10-427c-aaea-fc8c602d54a5",
   "metadata": {},
   "source": [
    "## Conclusion"
   ]
  },
  {
   "cell_type": "markdown",
   "id": "2066e580-428f-4f80-a7ef-cd06f5c226b5",
   "metadata": {},
   "source": [
    "* Graph features significantly enhance the performance of traditional ML models, as observed in the XGBoost example, where PageRank and the size of the connected components emerge as important features for classification.\n",
    "* The Graph Attention Network (GAT) outperforms XGBoost in terms of accuracy and precision, demonstrating its superiority in vertex classification tasks.\n",
    "* Although GAT achieves slightly lower recall compared to XGBoost, it still maintains a good level of performance, making it a promising choice for various graph-related applications, particularly in scenarios with imbalanced class distributions.\n",
    "\n",
    "### Accuracy Improvement\n",
    "The machine learning model performance shows significant improvements when incorporating graph features and advanced techniques. Comparing the different models, the XGBoost model with graph features demonstrates a notable accuracy increase from 0.7737 **(77.37% accuracy)** to 0.9145 **(91.45% accuracy)**, while the addition of FastRP embeddings further boosts the accuracy to 0.9426 **(94.26% accuracy)**. However, the Graph Neural Network (GNN) model with GraphSAGE surpasses all XGBoost variations, achieving an impressive accuracy of 0.9658 **(96.58% accuracy)**. Although the GNN model shows slightly lower recall compared to some XGBoost variants, its overall performance, especially in accuracy and precision, makes it a superior choice for vertex classification tasks involving complex graph data. The results underscore the benefits of leveraging graph features and GNNs to achieve more accurate and sophisticated predictions in graph-based machine learning tasks."
   ]
  },
  {
   "cell_type": "code",
   "execution_count": null,
   "id": "f799aeb3-5799-432d-a9b8-e19ccaddc42f",
   "metadata": {},
   "outputs": [
    {
     "data": {
      "text/plain": [
       "Text(0.5, 0, 'Metric value')"
      ]
     },
     "execution_count": 40,
     "metadata": {},
     "output_type": "execute_result"
    },
    {
     "data": {
      "image/png": "[encoded data removed]",
      "text/plain": [
       "<Figure size 640x480 with 1 Axes>"
      ]
     },
     "metadata": {},
     "output_type": "display_data"
    }
   ],
   "source": [
    "tick_labels = [\"Accuracy\", \"Precision\", \"Recall\"]\n",
    "x_tree_base = [metrics['acc_tree_base'][-1], metrics['prec_tree_base'][-1], metrics['rec_tree_base'][-1]]\n",
    "x_tree_graph = [metrics['acc_tree_graph'][-1], metrics['prec_tree_graph'][-1], metrics['rec_tree_graph'][-1]]\n",
    "x_gat = [final_metrics['accuracy'], final_metrics['precision'], final_metrics['recall']]\n",
    "x_fastrp_tree = [metrics['acc_fastrp_tree'][-1], metrics['prec_fastrp_tree'][-1], metrics['rec_fastrp_tree'][-1]]\n",
    "y = np.arange(len(tick_labels))\n",
    "bar_width = 0.2\n",
    "plt.barh(y-bar_width*1.5, x_tree_base, bar_width, label=\"Baseline\")\n",
    "plt.barh(y-bar_width/2, x_tree_graph, bar_width, label=\"+Graph features\")\n",
    "plt.barh(y+bar_width/2, x_fastrp_tree, bar_width, label=\"+FastRP\")\n",
    "plt.barh(y+bar_width*1.5, x_gat, bar_width, label=\"GAT\")\n",
    "plt.yticks(y, tick_labels)\n",
    "plt.legend()\n",
    "plt.gca().invert_yaxis()\n",
    "plt.xlabel(\"Metric value\")"
   ]
  },
  {
   "cell_type": "code",
   "execution_count": null,
   "id": "077cd5d6-e8e8-4b21-997c-9afc82db096f",
   "metadata": {},
   "outputs": [],
   "source": []
  }
 ],
 "metadata": {
  "kernelspec": {
   "display_name": ".venv",
   "language": "python",
   "name": "python3"
  },
  "language_info": {
   "codemirror_mode": {
    "name": "ipython",
    "version": 3
   },
   "file_extension": ".py",
   "mimetype": "text/x-python",
   "name": "python",
   "nbconvert_exporter": "python",
   "pygments_lexer": "ipython3",
   "version": "3.8.18"
  }
 },
 "nbformat": 4,
 "nbformat_minor": 5
}
