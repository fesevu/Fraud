{
 "cells": [
  {
   "cell_type": "code",
   "execution_count": 10,
   "id": "c2ab3cf7",
   "metadata": {},
   "outputs": [
    {
     "name": "stdout",
     "output_type": "stream",
     "text": [
      "Found existing installation: torch 2.3.0\n",
      "Uninstalling torch-2.3.0:\n",
      "  Successfully uninstalled torch-2.3.0\n",
      "Found existing installation: torch-geometric 2.6.1\n",
      "Uninstalling torch-geometric-2.6.1:\n",
      "  Successfully uninstalled torch-geometric-2.6.1\n",
      "\u001b[33mWARNING: Skipping torch_scatter as it is not installed.\u001b[0m\u001b[33m\n",
      "\u001b[0m\u001b[33mWARNING: Skipping torch_sparse as it is not installed.\u001b[0m\u001b[33m\n",
      "\u001b[0m\u001b[33mWARNING: Skipping pyg_lib as it is not installed.\u001b[0m\u001b[33m\n",
      "\u001b[0m\u001b[33mWARNING: Skipping torch_cluster as it is not installed.\u001b[0m\u001b[33m\n",
      "\u001b[0m\u001b[33mWARNING: Skipping torch_spline_conv as it is not installed.\u001b[0m\u001b[33m\n",
      "\u001b[0mNote: you may need to restart the kernel to use updated packages.\n",
      "Collecting torch==2.3.0\n",
      "  Using cached torch-2.3.0-cp39-none-macosx_11_0_arm64.whl.metadata (26 kB)\n",
      "Requirement already satisfied: filelock in /Users/a1234/Fraud/.venv/lib/python3.9/site-packages (from torch==2.3.0) (3.18.0)\n",
      "Requirement already satisfied: typing-extensions>=4.8.0 in /Users/a1234/Fraud/.venv/lib/python3.9/site-packages (from torch==2.3.0) (4.13.2)\n",
      "Requirement already satisfied: sympy in /Users/a1234/Fraud/.venv/lib/python3.9/site-packages (from torch==2.3.0) (1.14.0)\n",
      "Requirement already satisfied: networkx in /Users/a1234/Fraud/.venv/lib/python3.9/site-packages (from torch==2.3.0) (3.2.1)\n",
      "Requirement already satisfied: jinja2 in /Users/a1234/Fraud/.venv/lib/python3.9/site-packages (from torch==2.3.0) (3.1.6)\n",
      "Requirement already satisfied: fsspec in /Users/a1234/Fraud/.venv/lib/python3.9/site-packages (from torch==2.3.0) (2025.3.2)\n",
      "Requirement already satisfied: MarkupSafe>=2.0 in /Users/a1234/Fraud/.venv/lib/python3.9/site-packages (from jinja2->torch==2.3.0) (3.0.2)\n",
      "Requirement already satisfied: mpmath<1.4,>=1.1.0 in /Users/a1234/Fraud/.venv/lib/python3.9/site-packages (from sympy->torch==2.3.0) (1.3.0)\n",
      "Using cached torch-2.3.0-cp39-none-macosx_11_0_arm64.whl (61.0 MB)\n",
      "Installing collected packages: torch\n",
      "Successfully installed torch-2.3.0\n",
      "Note: you may need to restart the kernel to use updated packages.\n",
      "Collecting torch_geometric\n",
      "  Using cached torch_geometric-2.6.1-py3-none-any.whl.metadata (63 kB)\n",
      "Requirement already satisfied: aiohttp in /Users/a1234/Fraud/.venv/lib/python3.9/site-packages (from torch_geometric) (3.11.18)\n",
      "Requirement already satisfied: fsspec in /Users/a1234/Fraud/.venv/lib/python3.9/site-packages (from torch_geometric) (2025.3.2)\n",
      "Requirement already satisfied: jinja2 in /Users/a1234/Fraud/.venv/lib/python3.9/site-packages (from torch_geometric) (3.1.6)\n",
      "Requirement already satisfied: numpy in /Users/a1234/Fraud/.venv/lib/python3.9/site-packages (from torch_geometric) (2.0.2)\n",
      "Requirement already satisfied: psutil>=5.8.0 in /Users/a1234/Fraud/.venv/lib/python3.9/site-packages (from torch_geometric) (7.0.0)\n",
      "Requirement already satisfied: pyparsing in /Users/a1234/Fraud/.venv/lib/python3.9/site-packages (from torch_geometric) (3.2.3)\n",
      "Requirement already satisfied: requests in /Users/a1234/Fraud/.venv/lib/python3.9/site-packages (from torch_geometric) (2.32.3)\n",
      "Requirement already satisfied: tqdm in /Users/a1234/Fraud/.venv/lib/python3.9/site-packages (from torch_geometric) (4.67.1)\n",
      "Requirement already satisfied: aiohappyeyeballs>=2.3.0 in /Users/a1234/Fraud/.venv/lib/python3.9/site-packages (from aiohttp->torch_geometric) (2.6.1)\n",
      "Requirement already satisfied: aiosignal>=1.1.2 in /Users/a1234/Fraud/.venv/lib/python3.9/site-packages (from aiohttp->torch_geometric) (1.3.2)\n",
      "Requirement already satisfied: async-timeout<6.0,>=4.0 in /Users/a1234/Fraud/.venv/lib/python3.9/site-packages (from aiohttp->torch_geometric) (5.0.1)\n",
      "Requirement already satisfied: attrs>=17.3.0 in /Users/a1234/Fraud/.venv/lib/python3.9/site-packages (from aiohttp->torch_geometric) (25.3.0)\n",
      "Requirement already satisfied: frozenlist>=1.1.1 in /Users/a1234/Fraud/.venv/lib/python3.9/site-packages (from aiohttp->torch_geometric) (1.6.0)\n",
      "Requirement already satisfied: multidict<7.0,>=4.5 in /Users/a1234/Fraud/.venv/lib/python3.9/site-packages (from aiohttp->torch_geometric) (6.4.3)\n",
      "Requirement already satisfied: propcache>=0.2.0 in /Users/a1234/Fraud/.venv/lib/python3.9/site-packages (from aiohttp->torch_geometric) (0.3.1)\n",
      "Requirement already satisfied: yarl<2.0,>=1.17.0 in /Users/a1234/Fraud/.venv/lib/python3.9/site-packages (from aiohttp->torch_geometric) (1.20.0)\n",
      "Requirement already satisfied: typing-extensions>=4.1.0 in /Users/a1234/Fraud/.venv/lib/python3.9/site-packages (from multidict<7.0,>=4.5->aiohttp->torch_geometric) (4.13.2)\n",
      "Requirement already satisfied: idna>=2.0 in /Users/a1234/Fraud/.venv/lib/python3.9/site-packages (from yarl<2.0,>=1.17.0->aiohttp->torch_geometric) (3.10)\n",
      "Requirement already satisfied: MarkupSafe>=2.0 in /Users/a1234/Fraud/.venv/lib/python3.9/site-packages (from jinja2->torch_geometric) (3.0.2)\n",
      "Requirement already satisfied: charset-normalizer<4,>=2 in /Users/a1234/Fraud/.venv/lib/python3.9/site-packages (from requests->torch_geometric) (3.4.2)\n",
      "Requirement already satisfied: urllib3<3,>=1.21.1 in /Users/a1234/Fraud/.venv/lib/python3.9/site-packages (from requests->torch_geometric) (2.4.0)\n",
      "Requirement already satisfied: certifi>=2017.4.17 in /Users/a1234/Fraud/.venv/lib/python3.9/site-packages (from requests->torch_geometric) (2025.4.26)\n",
      "Using cached torch_geometric-2.6.1-py3-none-any.whl (1.1 MB)\n",
      "Installing collected packages: torch_geometric\n",
      "Successfully installed torch_geometric-2.6.1\n",
      "Note: you may need to restart the kernel to use updated packages.\n",
      "Looking in links: https://data.pyg.org/whl/torch-2.3.0+cpu.html\n",
      "Collecting torch_scatter\n",
      "  Using cached https://data.pyg.org/whl/torch-2.3.0%2Bcpu/torch_scatter-2.1.2-cp39-cp39-macosx_10_9_universal2.whl (555 kB)\n",
      "Collecting torch_sparse\n",
      "  Using cached https://data.pyg.org/whl/torch-2.3.0%2Bcpu/torch_sparse-0.6.18-cp39-cp39-macosx_11_0_universal2.whl (556 kB)\n",
      "Collecting torch_cluster\n",
      "  Using cached https://data.pyg.org/whl/torch-2.3.0%2Bcpu/torch_cluster-1.6.3-cp39-cp39-macosx_10_9_universal2.whl (600 kB)\n",
      "Collecting torch_spline_conv\n",
      "  Using cached https://data.pyg.org/whl/torch-2.3.0%2Bcpu/torch_spline_conv-1.2.2-cp39-cp39-macosx_10_9_universal2.whl (206 kB)\n",
      "Requirement already satisfied: scipy in /Users/a1234/Fraud/.venv/lib/python3.9/site-packages (from torch_sparse) (1.13.1)\n",
      "Requirement already satisfied: numpy<2.3,>=1.22.4 in /Users/a1234/Fraud/.venv/lib/python3.9/site-packages (from scipy->torch_sparse) (2.0.2)\n",
      "Installing collected packages: torch_spline_conv, torch_scatter, torch_sparse, torch_cluster\n",
      "\u001b[2K   \u001b[90m━━━━━━━━━━━━━━━━━━━━━━━━━━━━━━━━━━━━━━━━\u001b[0m \u001b[32m4/4\u001b[0m [torch_cluster]\n",
      "\u001b[1A\u001b[2KSuccessfully installed torch_cluster-1.6.3 torch_scatter-2.1.2 torch_sparse-0.6.18 torch_spline_conv-1.2.2\n",
      "Note: you may need to restart the kernel to use updated packages.\n",
      "Requirement already satisfied: xgboost in /Users/a1234/Fraud/.venv/lib/python3.9/site-packages (2.1.4)\n",
      "Requirement already satisfied: pandas in /Users/a1234/Fraud/.venv/lib/python3.9/site-packages (2.2.3)\n",
      "Requirement already satisfied: matplotlib in /Users/a1234/Fraud/.venv/lib/python3.9/site-packages (3.9.4)\n",
      "Requirement already satisfied: graphviz in /Users/a1234/Fraud/.venv/lib/python3.9/site-packages (0.20.3)\n",
      "Requirement already satisfied: scikit-learn in /Users/a1234/Fraud/.venv/lib/python3.9/site-packages (1.6.1)\n",
      "Requirement already satisfied: tqdm in /Users/a1234/Fraud/.venv/lib/python3.9/site-packages (4.67.1)\n",
      "Requirement already satisfied: numpy in /Users/a1234/Fraud/.venv/lib/python3.9/site-packages (2.0.2)\n",
      "Requirement already satisfied: networkx in /Users/a1234/Fraud/.venv/lib/python3.9/site-packages (3.2.1)\n",
      "Requirement already satisfied: seaborn in /Users/a1234/Fraud/.venv/lib/python3.9/site-packages (0.13.2)\n",
      "Requirement already satisfied: scipy in /Users/a1234/Fraud/.venv/lib/python3.9/site-packages (from xgboost) (1.13.1)\n",
      "Requirement already satisfied: python-dateutil>=2.8.2 in /Users/a1234/Fraud/.venv/lib/python3.9/site-packages (from pandas) (2.9.0.post0)\n",
      "Requirement already satisfied: pytz>=2020.1 in /Users/a1234/Fraud/.venv/lib/python3.9/site-packages (from pandas) (2025.2)\n",
      "Requirement already satisfied: tzdata>=2022.7 in /Users/a1234/Fraud/.venv/lib/python3.9/site-packages (from pandas) (2025.2)\n",
      "Requirement already satisfied: contourpy>=1.0.1 in /Users/a1234/Fraud/.venv/lib/python3.9/site-packages (from matplotlib) (1.3.0)\n",
      "Requirement already satisfied: cycler>=0.10 in /Users/a1234/Fraud/.venv/lib/python3.9/site-packages (from matplotlib) (0.12.1)\n",
      "Requirement already satisfied: fonttools>=4.22.0 in /Users/a1234/Fraud/.venv/lib/python3.9/site-packages (from matplotlib) (4.57.0)\n",
      "Requirement already satisfied: kiwisolver>=1.3.1 in /Users/a1234/Fraud/.venv/lib/python3.9/site-packages (from matplotlib) (1.4.7)\n",
      "Requirement already satisfied: packaging>=20.0 in /Users/a1234/Fraud/.venv/lib/python3.9/site-packages (from matplotlib) (25.0)\n",
      "Requirement already satisfied: pillow>=8 in /Users/a1234/Fraud/.venv/lib/python3.9/site-packages (from matplotlib) (11.2.1)\n",
      "Requirement already satisfied: pyparsing>=2.3.1 in /Users/a1234/Fraud/.venv/lib/python3.9/site-packages (from matplotlib) (3.2.3)\n",
      "Requirement already satisfied: importlib-resources>=3.2.0 in /Users/a1234/Fraud/.venv/lib/python3.9/site-packages (from matplotlib) (6.5.2)\n",
      "Requirement already satisfied: joblib>=1.2.0 in /Users/a1234/Fraud/.venv/lib/python3.9/site-packages (from scikit-learn) (1.5.0)\n",
      "Requirement already satisfied: threadpoolctl>=3.1.0 in /Users/a1234/Fraud/.venv/lib/python3.9/site-packages (from scikit-learn) (3.6.0)\n",
      "Requirement already satisfied: zipp>=3.1.0 in /Users/a1234/Fraud/.venv/lib/python3.9/site-packages (from importlib-resources>=3.2.0->matplotlib) (3.21.0)\n",
      "Requirement already satisfied: six>=1.5 in /Users/a1234/Fraud/.venv/lib/python3.9/site-packages (from python-dateutil>=2.8.2->pandas) (1.17.0)\n",
      "Note: you may need to restart the kernel to use updated packages.\n"
     ]
    }
   ],
   "source": [
    "%pip uninstall torch torch_geometric torch_scatter torch_sparse pyg_lib torch_cluster torch_spline_conv -y\n",
    "# 2.1 PyTorch (CPU) – подмените индекс, если нужна CUDA\n",
    "%pip install torch==2.3.0\n",
    "\n",
    "# 2.2 PyG: с 2.3+ внешних библиотек почти нет, ставим одной строкой\n",
    "%pip install torch_geometric\n",
    "%pip install torch_scatter torch_sparse torch_cluster torch_spline_conv -f https://data.pyg.org/whl/torch-2.3.0+cpu.html\n",
    "\n",
    "\n",
    "# 2.4 остальное\n",
    "%pip install xgboost pandas matplotlib graphviz scikit-learn tqdm numpy networkx seaborn\n"
   ]
  },
  {
   "cell_type": "code",
   "execution_count": 2,
   "id": "f797bd6f",
   "metadata": {},
   "outputs": [
    {
     "name": "stdout",
     "output_type": "stream",
     "text": [
      "2.3.0\n"
     ]
    }
   ],
   "source": [
    "from pathlib import Path\n",
    "import networkx as nx\n",
    "import pandas as pd\n",
    "import numpy as np\n",
    "import torch\n",
    "from torch_geometric.data import Data\n",
    "from torch_geometric.utils import from_networkx\n",
    "from torch_geometric.nn import Node2Vec\n",
    "from torch_geometric.utils import to_undirected\n",
    "import math\n",
    "import torch_cluster\n",
    "\n",
    "print(torch.__version__)"
   ]
  },
  {
   "cell_type": "code",
   "execution_count": 3,
   "id": "eb6648b2",
   "metadata": {},
   "outputs": [],
   "source": [
    "device = torch.device(\"cuda\" if torch.cuda.is_available() else \"cpu\")\n"
   ]
  },
  {
   "cell_type": "markdown",
   "id": "36105035",
   "metadata": {},
   "source": [
    "# Чтение датасета"
   ]
  },
  {
   "cell_type": "code",
   "execution_count": 4,
   "id": "7636f4d1",
   "metadata": {},
   "outputs": [],
   "source": [
    "from pathlib import Path\n",
    "ACCOUNTS_CSV = Path('./tmp/Ethereum/account.csv')      # обновите при необходимости\n",
    "TXS_CSV      = Path('./tmp/Ethereum/transaction.csv')   # обновите при необходимости\n",
    "\n",
    "assert ACCOUNTS_CSV.exists(), f'{ACCOUNTS_CSV} not found'\n",
    "assert TXS_CSV.exists(), f'{TXS_CSV} not found'"
   ]
  },
  {
   "cell_type": "code",
   "execution_count": 5,
   "id": "f88c6572",
   "metadata": {},
   "outputs": [
    {
     "data": {
      "text/html": [
       "<div>\n",
       "<style scoped>\n",
       "    .dataframe tbody tr th:only-of-type {\n",
       "        vertical-align: middle;\n",
       "    }\n",
       "\n",
       "    .dataframe tbody tr th {\n",
       "        vertical-align: top;\n",
       "    }\n",
       "\n",
       "    .dataframe thead th {\n",
       "        text-align: right;\n",
       "    }\n",
       "</style>\n",
       "<table border=\"1\" class=\"dataframe\">\n",
       "  <thead>\n",
       "    <tr style=\"text-align: right;\">\n",
       "      <th></th>\n",
       "      <th>id</th>\n",
       "      <th>label</th>\n",
       "    </tr>\n",
       "  </thead>\n",
       "  <tbody>\n",
       "    <tr>\n",
       "      <th>0</th>\n",
       "      <td>0x8335392fe1b236296c5d5f653264396de165e46c</td>\n",
       "      <td>True</td>\n",
       "    </tr>\n",
       "    <tr>\n",
       "      <th>1</th>\n",
       "      <td>0x9d4b62503b4b7993182323effe6245f6d77e4413</td>\n",
       "      <td>True</td>\n",
       "    </tr>\n",
       "    <tr>\n",
       "      <th>2</th>\n",
       "      <td>0xc91293245b669da19a96cd85d40bb9c203359657</td>\n",
       "      <td>True</td>\n",
       "    </tr>\n",
       "    <tr>\n",
       "      <th>3</th>\n",
       "      <td>0x1056d8d9ebb0e0d8710a0e2a1852d4a09d56464a</td>\n",
       "      <td>True</td>\n",
       "    </tr>\n",
       "    <tr>\n",
       "      <th>4</th>\n",
       "      <td>0x4f1872383be22878af5d4795b69be61b35ec5d10</td>\n",
       "      <td>True</td>\n",
       "    </tr>\n",
       "  </tbody>\n",
       "</table>\n",
       "</div>"
      ],
      "text/plain": [
       "                                           id  label\n",
       "0  0x8335392fe1b236296c5d5f653264396de165e46c   True\n",
       "1  0x9d4b62503b4b7993182323effe6245f6d77e4413   True\n",
       "2  0xc91293245b669da19a96cd85d40bb9c203359657   True\n",
       "3  0x1056d8d9ebb0e0d8710a0e2a1852d4a09d56464a   True\n",
       "4  0x4f1872383be22878af5d4795b69be61b35ec5d10   True"
      ]
     },
     "metadata": {},
     "output_type": "display_data"
    },
    {
     "data": {
      "text/html": [
       "<div>\n",
       "<style scoped>\n",
       "    .dataframe tbody tr th:only-of-type {\n",
       "        vertical-align: middle;\n",
       "    }\n",
       "\n",
       "    .dataframe tbody tr th {\n",
       "        vertical-align: top;\n",
       "    }\n",
       "\n",
       "    .dataframe thead th {\n",
       "        text-align: right;\n",
       "    }\n",
       "</style>\n",
       "<table border=\"1\" class=\"dataframe\">\n",
       "  <thead>\n",
       "    <tr style=\"text-align: right;\">\n",
       "      <th></th>\n",
       "      <th>src</th>\n",
       "      <th>dst</th>\n",
       "      <th>amount</th>\n",
       "      <th>timestamp</th>\n",
       "    </tr>\n",
       "  </thead>\n",
       "  <tbody>\n",
       "    <tr>\n",
       "      <th>0</th>\n",
       "      <td>0x21f74c6bbc1e3ab9f0205e12de3a9daa14351aed</td>\n",
       "      <td>0x46f1c0481803cb34a7860d614b5430c5db51bfb7</td>\n",
       "      <td>5.00000</td>\n",
       "      <td>1.502740e+09</td>\n",
       "    </tr>\n",
       "    <tr>\n",
       "      <th>1</th>\n",
       "      <td>0x54008c2684d96c44a094dc127842ec144b157e96</td>\n",
       "      <td>0x1acee83486b6671b005eed45c9fb9277e7eeb63d</td>\n",
       "      <td>2.34758</td>\n",
       "      <td>1.518731e+09</td>\n",
       "    </tr>\n",
       "    <tr>\n",
       "      <th>2</th>\n",
       "      <td>0x97aeb9b292c00405e145d9c7a8429bc970fa0e65</td>\n",
       "      <td>0x4f00b95c625c6d6ef72748d78c750fd6c84a8b85</td>\n",
       "      <td>0.01003</td>\n",
       "      <td>1.516224e+09</td>\n",
       "    </tr>\n",
       "    <tr>\n",
       "      <th>3</th>\n",
       "      <td>0x2dfdf31bbc29468d487591f292872a14c1f8d1f0</td>\n",
       "      <td>0x474057adf42f9f955e86aa1142740f9d7763e41e</td>\n",
       "      <td>0.51587</td>\n",
       "      <td>1.522422e+09</td>\n",
       "    </tr>\n",
       "    <tr>\n",
       "      <th>4</th>\n",
       "      <td>0x5b39067ee0309856edd13f23c9c1793f9fda1b4f</td>\n",
       "      <td>0x6376baf58c4c5d70ba8fca9565b6955f07c584a9</td>\n",
       "      <td>6.67000</td>\n",
       "      <td>1.514817e+09</td>\n",
       "    </tr>\n",
       "  </tbody>\n",
       "</table>\n",
       "</div>"
      ],
      "text/plain": [
       "                                          src  \\\n",
       "0  0x21f74c6bbc1e3ab9f0205e12de3a9daa14351aed   \n",
       "1  0x54008c2684d96c44a094dc127842ec144b157e96   \n",
       "2  0x97aeb9b292c00405e145d9c7a8429bc970fa0e65   \n",
       "3  0x2dfdf31bbc29468d487591f292872a14c1f8d1f0   \n",
       "4  0x5b39067ee0309856edd13f23c9c1793f9fda1b4f   \n",
       "\n",
       "                                          dst   amount     timestamp  \n",
       "0  0x46f1c0481803cb34a7860d614b5430c5db51bfb7  5.00000  1.502740e+09  \n",
       "1  0x1acee83486b6671b005eed45c9fb9277e7eeb63d  2.34758  1.518731e+09  \n",
       "2  0x4f00b95c625c6d6ef72748d78c750fd6c84a8b85  0.01003  1.516224e+09  \n",
       "3  0x474057adf42f9f955e86aa1142740f9d7763e41e  0.51587  1.522422e+09  \n",
       "4  0x6376baf58c4c5d70ba8fca9565b6955f07c584a9  6.67000  1.514817e+09  "
      ]
     },
     "metadata": {},
     "output_type": "display_data"
    }
   ],
   "source": [
    "acc_df = pd.read_csv(ACCOUNTS_CSV, header=None, names=['id', 'label'])\n",
    "tx_df  = pd.read_csv(TXS_CSV, header=None, names=['src', 'dst', 'amount', 'timestamp'])\n",
    "\n",
    "display(acc_df.head())\n",
    "display(tx_df.head())"
   ]
  },
  {
   "cell_type": "markdown",
   "id": "66514556",
   "metadata": {},
   "source": [
    "## 🏗️ Сборка графа"
   ]
  },
  {
   "cell_type": "code",
   "execution_count": 6,
   "id": "48b4cfe2",
   "metadata": {},
   "outputs": [
    {
     "name": "stdout",
     "output_type": "stream",
     "text": [
      "Граф содержит 32,168 узлов и 42,044 рёбер\n"
     ]
    }
   ],
   "source": [
    "G = nx.DiGraph()\n",
    "\n",
    "# add nodes\n",
    "for _, row in acc_df.iterrows():\n",
    "    G.add_node(row.id, label=int(bool(row.label)))\n",
    "\n",
    "# add edges\n",
    "for _, row in tx_df.iterrows():\n",
    "    G.add_edge(row.src, row.dst, amount=float(row.amount), ts=float(row.timestamp))\n",
    "\n",
    "print(f'Граф содержит {G.number_of_nodes():,} узлов и {G.number_of_edges():,} рёбер')"
   ]
  },
  {
   "cell_type": "code",
   "execution_count": 7,
   "id": "d2df1bdb",
   "metadata": {},
   "outputs": [
    {
     "name": "stdout",
     "output_type": "stream",
     "text": [
      "⏳ Calculating extra graph features…\n"
     ]
    }
   ],
   "source": [
    "# Структурные признаки\n",
    "in_deg  = dict(G.in_degree())\n",
    "out_deg = dict(G.out_degree())\n",
    "\n",
    "# Финансовые суммы\n",
    "sent_sum = {n: 0.0 for n in G.nodes()}\n",
    "recv_sum = {n: 0.0 for n in G.nodes()}\n",
    "for u, v, d in G.edges(data=True):\n",
    "    amt = d['amount']\n",
    "    sent_sum[u] += amt\n",
    "    recv_sum[v] += amt\n",
    "\n",
    "# PageRank и кластерный коэффициент\n",
    "pr = nx.pagerank(G, alpha=0.85)\n",
    "clust = nx.clustering(G.to_undirected())\n",
    "\n",
    "# Записываем фичи в граф\n",
    "for n in G.nodes():\n",
    "    G.nodes[n].update({\n",
    "        'in_deg':      in_deg.get(n, 0),\n",
    "        'out_deg':     out_deg.get(n, 0),\n",
    "        'sent_sum':    sent_sum[n],\n",
    "        'recv_sum':    recv_sum[n],\n",
    "        'net_sum':     sent_sum[n] - recv_sum[n],\n",
    "        'pagerank':    pr[n],\n",
    "        'clustering':  clust[n],\n",
    "    })\n",
    "\n",
    "# --- после расчёта pr и clust --------------------------------------------\n",
    "print('⏳ Calculating extra graph features…')\n",
    "\n",
    "# 1) Betweenness (approx)\n",
    "btw = nx.betweenness_centrality(G, k=10_000, seed=42, normalized=True)\n",
    "\n",
    "# 2) Weakly-connected component size\n",
    "G_u = G.to_undirected()\n",
    "wcc = {n: 0 for n in G}\n",
    "for comp in nx.connected_components(G_u):\n",
    "    size = len(comp)\n",
    "    for n in comp:\n",
    "        wcc[n] = size\n",
    "\n",
    "# 3) Min amounts\n",
    "send_min = {n: math.inf for n in G}\n",
    "recv_min = {n: math.inf for n in G}\n",
    "for u, v, d in G.edges(data=True):\n",
    "    amt = d['amount']\n",
    "    send_min[u] = min(send_min[u], amt)\n",
    "    recv_min[v] = min(recv_min[v], amt)\n",
    "# заменяем inf → 0.0 (узлы без операций)\n",
    "send_min = {n: 0.0 if math.isinf(v) else v for n, v in send_min.items()}\n",
    "recv_min = {n: 0.0 if math.isinf(v) else v for n, v in recv_min.items()}\n",
    "\n",
    "# --- записываем все новые фичи в вершины ----------------------------------\n",
    "for n in G.nodes():\n",
    "    G.nodes[n].update({\n",
    "        'btw_centr':   btw[n],\n",
    "        'wcc_size':    wcc[n],\n",
    "        'send_min':    send_min[n],\n",
    "        'recv_min':    recv_min[n],\n",
    "    })"
   ]
  },
  {
   "cell_type": "code",
   "execution_count": 8,
   "id": "44ebfeca",
   "metadata": {},
   "outputs": [
    {
     "name": "stdout",
     "output_type": "stream",
     "text": [
      "⏳ Training Node2Vec…\n",
      "Epoch 1, Loss 246.4281\n"
     ]
    }
   ],
   "source": [
    " # --- перед обучением Node2Vec: создаём маппинг id → idx -------------------\n",
    "id2idx = {n: i for i, n in enumerate(G.nodes())}\n",
    "\n",
    "# --- строим edge_index по числовым индексам ------------------------------\n",
    "edges = list(G.edges())\n",
    "row = [id2idx[u] for u, v in edges]\n",
    "col = [id2idx[v] for u, v in edges]\n",
    "edge_index = torch.tensor([row, col], dtype=torch.long)\n",
    "edge_index = to_undirected(edge_index).contiguous()\n",
    "\n",
    "# --- теперь обучаем Node2Vec на неориентированном графе --------------------\n",
    "print('⏳ Training Node2Vec…')\n",
    "n2v = Node2Vec(\n",
    "    edge_index=edge_index,\n",
    "    num_nodes=G.number_of_nodes(),\n",
    "    embedding_dim=128,\n",
    "    walk_length=20,\n",
    "    context_size=10,\n",
    "    walks_per_node=5,\n",
    "    num_negative_samples=1,\n",
    "    sparse=True,\n",
    "    p=1, q=1\n",
    ").to(device)\n",
    "\n",
    "loader = n2v.loader(batch_size=1024, shuffle=True)\n",
    "opt = torch.optim.SparseAdam(list(n2v.parameters()), lr=0.01)\n",
    "\n",
    "n2v.train()\n",
    "for epoch in range(1):  # можете увеличить число эпох\n",
    "    total_loss = 0\n",
    "    for pos_rw, neg_rw in loader:\n",
    "        opt.zero_grad()\n",
    "        loss = n2v.loss(pos_rw.to(device), neg_rw.to(device))\n",
    "        loss.backward()\n",
    "        opt.step()\n",
    "        total_loss += loss.item()\n",
    "    print(f'Epoch {epoch+1}, Loss {total_loss:.4f}')"
   ]
  },
  {
   "cell_type": "code",
   "execution_count": 9,
   "id": "8c44daf7",
   "metadata": {},
   "outputs": [
    {
     "name": "stdout",
     "output_type": "stream",
     "text": [
      "Пример фич узла: ('0x8335392fe1b236296c5d5f653264396de165e46c', {'label': 1, 'in_deg': 4, 'out_deg': 1, 'sent_sum': 3.49954, 'recv_sum': 3.4999599999999997, 'net_sum': -0.0004199999999996429, 'pagerank': 4.475874254314406e-05, 'clustering': 0, 'btw_centr': 0.0, 'wcc_size': 30701, 'send_min': 3.49954, 'recv_min': 0.5, 'n2v': tensor([-0.7055, -1.8348,  0.5210, -0.5199,  0.9074,  0.0161,  0.1782, -0.0773,\n",
      "         0.3125, -0.5413, -0.3924, -0.7872, -1.0956, -0.7259,  0.9137,  0.9409,\n",
      "        -1.4430,  1.6137,  1.0490,  0.7731,  1.2260, -0.1466,  0.5929,  0.6124,\n",
      "         1.1355,  0.9144, -0.1208,  0.7392,  0.0603,  0.9226, -0.5586,  0.2556,\n",
      "         0.9195, -0.3839, -0.2103, -1.1251, -0.0560, -1.3032,  0.2039, -0.8291,\n",
      "         0.2192, -0.8013,  0.2848, -2.9623,  0.0747, -0.6092, -0.9350,  0.6065,\n",
      "        -0.5865, -1.0103, -1.2691, -1.5896, -0.9347,  0.3809, -0.4521, -0.2445,\n",
      "         0.3694, -0.9211,  0.7962,  0.5215, -1.9059, -0.9818, -1.3024, -0.5749,\n",
      "         1.0199,  0.4637,  0.2359, -2.3167,  0.4872,  0.2241, -1.0861,  2.1150,\n",
      "         0.8226, -0.4728, -0.4588,  0.2716, -0.7199,  0.8698,  0.1945,  0.1606,\n",
      "        -0.5915,  0.6525,  0.8431,  0.3493, -0.2094, -0.0759,  0.9605,  1.0760,\n",
      "         0.9154, -0.5811,  0.5398,  0.3983, -0.4642,  0.0672,  0.0144, -0.9167,\n",
      "         0.8596,  0.5483, -0.0762,  0.4179,  1.0662,  0.5283,  2.5536,  0.7143,\n",
      "         1.6625,  0.9465, -0.6658,  0.7400, -0.1041,  0.0356,  0.6628, -0.7662,\n",
      "        -1.1904, -1.3319, -0.0820,  1.4590,  0.4672, -0.7006, -0.4515, -0.1661,\n",
      "         0.2112,  0.4259,  0.6443, -1.1581, -0.9342, -0.3174,  0.2869, -0.6449]), 'x': tensor([ 4.0000e+00,  1.0000e+00,  3.4995e+00,  3.5000e+00, -4.2000e-04,\n",
      "         4.4759e-05,  0.0000e+00,  0.0000e+00,  3.0701e+04,  3.4995e+00,\n",
      "         5.0000e-01, -7.0548e-01, -1.8348e+00,  5.2100e-01, -5.1993e-01,\n",
      "         9.0743e-01,  1.6071e-02,  1.7822e-01, -7.7310e-02,  3.1251e-01,\n",
      "        -5.4129e-01, -3.9237e-01, -7.8719e-01, -1.0956e+00, -7.2589e-01,\n",
      "         9.1373e-01,  9.4093e-01, -1.4430e+00,  1.6137e+00,  1.0490e+00,\n",
      "         7.7308e-01,  1.2260e+00, -1.4660e-01,  5.9295e-01,  6.1243e-01,\n",
      "         1.1355e+00,  9.1444e-01, -1.2077e-01,  7.3924e-01,  6.0269e-02,\n",
      "         9.2259e-01, -5.5862e-01,  2.5555e-01,  9.1950e-01, -3.8388e-01,\n",
      "        -2.1035e-01, -1.1251e+00, -5.6045e-02, -1.3032e+00,  2.0394e-01,\n",
      "        -8.2910e-01,  2.1923e-01, -8.0134e-01,  2.8477e-01, -2.9623e+00,\n",
      "         7.4689e-02, -6.0919e-01, -9.3503e-01,  6.0653e-01, -5.8651e-01,\n",
      "        -1.0103e+00, -1.2691e+00, -1.5896e+00, -9.3474e-01,  3.8091e-01,\n",
      "        -4.5215e-01, -2.4450e-01,  3.6937e-01, -9.2107e-01,  7.9617e-01,\n",
      "         5.2154e-01, -1.9059e+00, -9.8183e-01, -1.3024e+00, -5.7490e-01,\n",
      "         1.0199e+00,  4.6374e-01,  2.3589e-01, -2.3167e+00,  4.8718e-01,\n",
      "         2.2411e-01, -1.0861e+00,  2.1150e+00,  8.2257e-01, -4.7280e-01,\n",
      "        -4.5884e-01,  2.7155e-01, -7.1987e-01,  8.6977e-01,  1.9450e-01,\n",
      "         1.6060e-01, -5.9148e-01,  6.5253e-01,  8.4310e-01,  3.4929e-01,\n",
      "        -2.0940e-01, -7.5942e-02,  9.6049e-01,  1.0760e+00,  9.1545e-01,\n",
      "        -5.8107e-01,  5.3975e-01,  3.9834e-01, -4.6420e-01,  6.7216e-02,\n",
      "         1.4382e-02, -9.1667e-01,  8.5955e-01,  5.4833e-01, -7.6154e-02,\n",
      "         4.1787e-01,  1.0662e+00,  5.2832e-01,  2.5536e+00,  7.1432e-01,\n",
      "         1.6625e+00,  9.4648e-01, -6.6581e-01,  7.3999e-01, -1.0414e-01,\n",
      "         3.5594e-02,  6.6278e-01, -7.6624e-01, -1.1904e+00, -1.3319e+00,\n",
      "        -8.1981e-02,  1.4590e+00,  4.6725e-01, -7.0062e-01, -4.5148e-01,\n",
      "        -1.6611e-01,  2.1122e-01,  4.2593e-01,  6.4429e-01, -1.1581e+00,\n",
      "        -9.3424e-01, -3.1738e-01,  2.8688e-01, -6.4492e-01])})\n"
     ]
    }
   ],
   "source": [
    "# --- извлекаем эмбеддинги и записываем обратно в G ------------------------\n",
    "z = n2v.embedding.weight.detach().cpu()\n",
    "for n, idx in id2idx.items():\n",
    "    G.nodes[n]['n2v'] = z[idx]\n",
    "\n",
    "# --- при формировании data.x ---------------------------------------------\n",
    "num_attr_keys = [\n",
    "    'in_deg','out_deg','sent_sum','recv_sum','net_sum',\n",
    "    'pagerank','clustering',\n",
    "    'btw_centr','wcc_size','send_min','recv_min'\n",
    "]\n",
    "\n",
    "for n in G.nodes():\n",
    "    base = [float(G.nodes[n][k]) for k in num_attr_keys]\n",
    "    emb  = G.nodes[n]['n2v'].tolist()           # 128-мерный\n",
    "    G.nodes[n]['x'] = torch.tensor(base + emb, dtype=torch.float)\n",
    "\n",
    "print('Пример фич узла:', list(G.nodes(data=True))[0])"
   ]
  },
  {
   "cell_type": "code",
   "execution_count": 10,
   "id": "5433d52f",
   "metadata": {},
   "outputs": [],
   "source": [
    "# 🔧 Делаем так, чтобы у всех узлов была метка\n",
    "nx.set_node_attributes(G, -1, \"label\")        # сначала всем ставим -1\n",
    "for _, row in acc_df.iterrows():              # затем переопределяем тем, что есть в accounts.csv\n",
    "    G.nodes[row.id][\"label\"] = int(bool(row.label))   "
   ]
  },
  {
   "cell_type": "code",
   "execution_count": 11,
   "id": "6cd60dd4",
   "metadata": {},
   "outputs": [],
   "source": [
    "# после формирования всех численных признаков, до отправки в PyG\n",
    "from sklearn.preprocessing import StandardScaler\n",
    "X = np.stack([G.nodes[n]['x'].numpy() for n in G.nodes()])\n",
    "scaler = StandardScaler()\n",
    "X = scaler.fit_transform(X)\n",
    "for n, vec in zip(G.nodes(), X):\n",
    "    G.nodes[n]['x'] = torch.tensor(vec, dtype=torch.float)"
   ]
  },
  {
   "cell_type": "markdown",
   "id": "c6b4c1f2",
   "metadata": {},
   "source": [
    "## 🔄 Конвертация в `torch_geometric.data.Data`"
   ]
  },
  {
   "cell_type": "code",
   "execution_count": 12,
   "id": "a2a06745",
   "metadata": {},
   "outputs": [
    {
     "name": "stdout",
     "output_type": "stream",
     "text": [
      "Data(edge_index=[2, 42044], label=[32168], in_deg=[32168], out_deg=[32168], sent_sum=[32168], recv_sum=[32168], net_sum=[32168], pagerank=[32168], clustering=[32168], btw_centr=[32168], wcc_size=[32168], send_min=[32168], recv_min=[32168], n2v=[32168, 128], amount=[42044], ts=[42044], x=[32168, 7], y=[32168])\n"
     ]
    }
   ],
   "source": [
    "num_attr_keys = ['in_deg','out_deg','sent_sum','recv_sum','net_sum','pagerank','clustering']\n",
    "\n",
    "for n in G.nodes():\n",
    "    G.nodes[n]['x'] = torch.tensor([float(G.nodes[n][k]) for k in num_attr_keys], dtype=torch.float)\n",
    "\n",
    "data = from_networkx(G, group_node_attrs=['x'])\n",
    "data.y = torch.tensor([G.nodes[n].get('label', -1) for n in G.nodes()], dtype=torch.long)\n",
    "\n",
    "print(data)"
   ]
  },
  {
   "cell_type": "markdown",
   "id": "866cd688",
   "metadata": {},
   "source": [
    "## ✂️ Train / Val / Test сплит"
   ]
  },
  {
   "cell_type": "code",
   "execution_count": 13,
   "id": "3f9609b9",
   "metadata": {},
   "outputs": [
    {
     "name": "stdout",
     "output_type": "stream",
     "text": [
      "Train: 19300, Val: 6433, Test: 6435\n"
     ]
    }
   ],
   "source": [
    "from torch_geometric.nn import SAGEConv\n",
    "from torch_geometric.loader import NeighborLoader\n",
    "import torch.nn.functional as F\n",
    "\n",
    "torch.manual_seed(42)\n",
    "N = data.num_nodes\n",
    "perm = torch.randperm(N)\n",
    "n_train = int(0.6 * N)\n",
    "n_val   = int(0.2 * N)\n",
    "\n",
    "data.train_mask = torch.zeros(N, dtype=torch.bool)\n",
    "data.val_mask   = torch.zeros(N, dtype=torch.bool)\n",
    "data.test_mask  = torch.zeros(N, dtype=torch.bool)\n",
    "\n",
    "data.train_mask[perm[:n_train]]           = True\n",
    "data.val_mask[perm[n_train:n_train+n_val]] = True\n",
    "data.test_mask[perm[n_train+n_val:]]      = True\n",
    "\n",
    "print(f'Train: {data.train_mask.sum().item()}, Val: {data.val_mask.sum().item()}, Test: {data.test_mask.sum().item()}')\n",
    "\n",
    "train_loader = NeighborLoader(\n",
    "    data,\n",
    "    input_nodes=data.train_mask,        # корневые узлы для train\n",
    "    num_neighbors=[25, 15],             # сколько соседей на каждом слое\n",
    "    batch_size=1024,\n",
    "    shuffle=True,\n",
    ")\n",
    "val_loader = NeighborLoader(\n",
    "    data,\n",
    "    input_nodes=data.val_mask,\n",
    "    num_neighbors=[25, 15],\n",
    "    batch_size=1024,\n",
    "    shuffle=False,\n",
    ")\n",
    "test_loader = NeighborLoader(\n",
    "    data,\n",
    "    input_nodes=data.test_mask,\n",
    "    num_neighbors=[25, 15],\n",
    "    batch_size=1024,\n",
    "    shuffle=False,\n",
    ")"
   ]
  },
  {
   "cell_type": "code",
   "execution_count": 14,
   "id": "1143320a",
   "metadata": {},
   "outputs": [
    {
     "name": "stdout",
     "output_type": "stream",
     "text": [
      "Сериализовано в /Users/a1234/Fraud/gnn/artifacts/eth_graph.pt\n"
     ]
    }
   ],
   "source": [
    "OUT_PATH = Path('./artifacts/eth_graph.pt')\n",
    "OUT_PATH.parent.mkdir(parents=True, exist_ok=True)\n",
    "torch.save(data, OUT_PATH)\n",
    "print(f'Сериализовано в {OUT_PATH.resolve()}')"
   ]
  },
  {
   "cell_type": "markdown",
   "id": "0a7e9339",
   "metadata": {},
   "source": [
    "## 🧠 Определение GNN‑модели (GCN)"
   ]
  },
  {
   "cell_type": "code",
   "execution_count": 15,
   "id": "e7823c30",
   "metadata": {},
   "outputs": [],
   "source": [
    "import torch.nn.functional as F\n",
    "from torch_geometric.nn import SAGEConv\n",
    "\n",
    "\n",
    "# 1) Определяем GraphSAGE\n",
    "class GraphSAGE(torch.nn.Module):\n",
    "    def __init__(self, in_channels, hidden_channels, num_classes):\n",
    "        super().__init__()\n",
    "        self.conv1 = SAGEConv(in_channels, hidden_channels)\n",
    "        self.conv2 = SAGEConv(hidden_channels, num_classes)\n",
    "\n",
    "    def forward(self, x, edge_index):\n",
    "        x = self.conv1(x, edge_index)\n",
    "        x = F.relu(x)\n",
    "        x = self.conv2(x, edge_index)\n",
    "        return x"
   ]
  },
  {
   "cell_type": "markdown",
   "id": "ffee4b5e",
   "metadata": {},
   "source": [
    "## 🏃‍♂️ Обучение и валидация"
   ]
  },
  {
   "cell_type": "code",
   "execution_count": 16,
   "id": "3bc6b4a1",
   "metadata": {},
   "outputs": [
    {
     "name": "stdout",
     "output_type": "stream",
     "text": [
      "Class weights: normal=1.00, fraud=1.72\n"
     ]
    },
    {
     "ename": "IndexError",
     "evalue": "Target -1 is out of bounds.",
     "output_type": "error",
     "traceback": [
      "\u001b[0;31m---------------------------------------------------------------------------\u001b[0m",
      "\u001b[0;31mIndexError\u001b[0m                                Traceback (most recent call last)",
      "Cell \u001b[0;32mIn[16], line 43\u001b[0m\n\u001b[1;32m     40\u001b[0m     \u001b[38;5;28;01mreturn\u001b[39;00m correct \u001b[38;5;241m/\u001b[39m total\n\u001b[1;32m     42\u001b[0m \u001b[38;5;28;01mfor\u001b[39;00m epoch \u001b[38;5;129;01min\u001b[39;00m \u001b[38;5;28mrange\u001b[39m(\u001b[38;5;241m1\u001b[39m, \u001b[38;5;241m51\u001b[39m):\n\u001b[0;32m---> 43\u001b[0m     loss \u001b[38;5;241m=\u001b[39m \u001b[43mtrain_epoch\u001b[49m\u001b[43m(\u001b[49m\u001b[43m)\u001b[49m\n\u001b[1;32m     44\u001b[0m     train_acc \u001b[38;5;241m=\u001b[39m eval_loader(train_loader)\n\u001b[1;32m     45\u001b[0m     val_acc   \u001b[38;5;241m=\u001b[39m eval_loader(val_loader)\n",
      "Cell \u001b[0;32mIn[16], line 23\u001b[0m, in \u001b[0;36mtrain_epoch\u001b[0;34m()\u001b[0m\n\u001b[1;32m     21\u001b[0m out \u001b[38;5;241m=\u001b[39m model(batch\u001b[38;5;241m.\u001b[39mx, batch\u001b[38;5;241m.\u001b[39medge_index)\n\u001b[1;32m     22\u001b[0m \u001b[38;5;66;03m# только первые batch.batch_size предсказаний — для корневых узлов\u001b[39;00m\n\u001b[0;32m---> 23\u001b[0m loss \u001b[38;5;241m=\u001b[39m \u001b[43mcriterion\u001b[49m\u001b[43m(\u001b[49m\u001b[43mout\u001b[49m\u001b[43m[\u001b[49m\u001b[43m:\u001b[49m\u001b[43mbatch\u001b[49m\u001b[38;5;241;43m.\u001b[39;49m\u001b[43mbatch_size\u001b[49m\u001b[43m]\u001b[49m\u001b[43m,\u001b[49m\u001b[43m \u001b[49m\u001b[43mbatch\u001b[49m\u001b[38;5;241;43m.\u001b[39;49m\u001b[43my\u001b[49m\u001b[43m[\u001b[49m\u001b[43m:\u001b[49m\u001b[43mbatch\u001b[49m\u001b[38;5;241;43m.\u001b[39;49m\u001b[43mbatch_size\u001b[49m\u001b[43m]\u001b[49m\u001b[43m)\u001b[49m\n\u001b[1;32m     24\u001b[0m loss\u001b[38;5;241m.\u001b[39mbackward()\n\u001b[1;32m     25\u001b[0m optimizer\u001b[38;5;241m.\u001b[39mstep()\n",
      "File \u001b[0;32m~/Fraud/.venv/lib/python3.9/site-packages/torch/nn/modules/module.py:1532\u001b[0m, in \u001b[0;36mModule._wrapped_call_impl\u001b[0;34m(self, *args, **kwargs)\u001b[0m\n\u001b[1;32m   1530\u001b[0m     \u001b[38;5;28;01mreturn\u001b[39;00m \u001b[38;5;28mself\u001b[39m\u001b[38;5;241m.\u001b[39m_compiled_call_impl(\u001b[38;5;241m*\u001b[39margs, \u001b[38;5;241m*\u001b[39m\u001b[38;5;241m*\u001b[39mkwargs)  \u001b[38;5;66;03m# type: ignore[misc]\u001b[39;00m\n\u001b[1;32m   1531\u001b[0m \u001b[38;5;28;01melse\u001b[39;00m:\n\u001b[0;32m-> 1532\u001b[0m     \u001b[38;5;28;01mreturn\u001b[39;00m \u001b[38;5;28;43mself\u001b[39;49m\u001b[38;5;241;43m.\u001b[39;49m\u001b[43m_call_impl\u001b[49m\u001b[43m(\u001b[49m\u001b[38;5;241;43m*\u001b[39;49m\u001b[43margs\u001b[49m\u001b[43m,\u001b[49m\u001b[43m \u001b[49m\u001b[38;5;241;43m*\u001b[39;49m\u001b[38;5;241;43m*\u001b[39;49m\u001b[43mkwargs\u001b[49m\u001b[43m)\u001b[49m\n",
      "File \u001b[0;32m~/Fraud/.venv/lib/python3.9/site-packages/torch/nn/modules/module.py:1541\u001b[0m, in \u001b[0;36mModule._call_impl\u001b[0;34m(self, *args, **kwargs)\u001b[0m\n\u001b[1;32m   1536\u001b[0m \u001b[38;5;66;03m# If we don't have any hooks, we want to skip the rest of the logic in\u001b[39;00m\n\u001b[1;32m   1537\u001b[0m \u001b[38;5;66;03m# this function, and just call forward.\u001b[39;00m\n\u001b[1;32m   1538\u001b[0m \u001b[38;5;28;01mif\u001b[39;00m \u001b[38;5;129;01mnot\u001b[39;00m (\u001b[38;5;28mself\u001b[39m\u001b[38;5;241m.\u001b[39m_backward_hooks \u001b[38;5;129;01mor\u001b[39;00m \u001b[38;5;28mself\u001b[39m\u001b[38;5;241m.\u001b[39m_backward_pre_hooks \u001b[38;5;129;01mor\u001b[39;00m \u001b[38;5;28mself\u001b[39m\u001b[38;5;241m.\u001b[39m_forward_hooks \u001b[38;5;129;01mor\u001b[39;00m \u001b[38;5;28mself\u001b[39m\u001b[38;5;241m.\u001b[39m_forward_pre_hooks\n\u001b[1;32m   1539\u001b[0m         \u001b[38;5;129;01mor\u001b[39;00m _global_backward_pre_hooks \u001b[38;5;129;01mor\u001b[39;00m _global_backward_hooks\n\u001b[1;32m   1540\u001b[0m         \u001b[38;5;129;01mor\u001b[39;00m _global_forward_hooks \u001b[38;5;129;01mor\u001b[39;00m _global_forward_pre_hooks):\n\u001b[0;32m-> 1541\u001b[0m     \u001b[38;5;28;01mreturn\u001b[39;00m \u001b[43mforward_call\u001b[49m\u001b[43m(\u001b[49m\u001b[38;5;241;43m*\u001b[39;49m\u001b[43margs\u001b[49m\u001b[43m,\u001b[49m\u001b[43m \u001b[49m\u001b[38;5;241;43m*\u001b[39;49m\u001b[38;5;241;43m*\u001b[39;49m\u001b[43mkwargs\u001b[49m\u001b[43m)\u001b[49m\n\u001b[1;32m   1543\u001b[0m \u001b[38;5;28;01mtry\u001b[39;00m:\n\u001b[1;32m   1544\u001b[0m     result \u001b[38;5;241m=\u001b[39m \u001b[38;5;28;01mNone\u001b[39;00m\n",
      "File \u001b[0;32m~/Fraud/.venv/lib/python3.9/site-packages/torch/nn/modules/loss.py:1185\u001b[0m, in \u001b[0;36mCrossEntropyLoss.forward\u001b[0;34m(self, input, target)\u001b[0m\n\u001b[1;32m   1184\u001b[0m \u001b[38;5;28;01mdef\u001b[39;00m\u001b[38;5;250m \u001b[39m\u001b[38;5;21mforward\u001b[39m(\u001b[38;5;28mself\u001b[39m, \u001b[38;5;28minput\u001b[39m: Tensor, target: Tensor) \u001b[38;5;241m-\u001b[39m\u001b[38;5;241m>\u001b[39m Tensor:\n\u001b[0;32m-> 1185\u001b[0m     \u001b[38;5;28;01mreturn\u001b[39;00m \u001b[43mF\u001b[49m\u001b[38;5;241;43m.\u001b[39;49m\u001b[43mcross_entropy\u001b[49m\u001b[43m(\u001b[49m\u001b[38;5;28;43minput\u001b[39;49m\u001b[43m,\u001b[49m\u001b[43m \u001b[49m\u001b[43mtarget\u001b[49m\u001b[43m,\u001b[49m\u001b[43m \u001b[49m\u001b[43mweight\u001b[49m\u001b[38;5;241;43m=\u001b[39;49m\u001b[38;5;28;43mself\u001b[39;49m\u001b[38;5;241;43m.\u001b[39;49m\u001b[43mweight\u001b[49m\u001b[43m,\u001b[49m\n\u001b[1;32m   1186\u001b[0m \u001b[43m                           \u001b[49m\u001b[43mignore_index\u001b[49m\u001b[38;5;241;43m=\u001b[39;49m\u001b[38;5;28;43mself\u001b[39;49m\u001b[38;5;241;43m.\u001b[39;49m\u001b[43mignore_index\u001b[49m\u001b[43m,\u001b[49m\u001b[43m \u001b[49m\u001b[43mreduction\u001b[49m\u001b[38;5;241;43m=\u001b[39;49m\u001b[38;5;28;43mself\u001b[39;49m\u001b[38;5;241;43m.\u001b[39;49m\u001b[43mreduction\u001b[49m\u001b[43m,\u001b[49m\n\u001b[1;32m   1187\u001b[0m \u001b[43m                           \u001b[49m\u001b[43mlabel_smoothing\u001b[49m\u001b[38;5;241;43m=\u001b[39;49m\u001b[38;5;28;43mself\u001b[39;49m\u001b[38;5;241;43m.\u001b[39;49m\u001b[43mlabel_smoothing\u001b[49m\u001b[43m)\u001b[49m\n",
      "File \u001b[0;32m~/Fraud/.venv/lib/python3.9/site-packages/torch/nn/functional.py:3086\u001b[0m, in \u001b[0;36mcross_entropy\u001b[0;34m(input, target, weight, size_average, ignore_index, reduce, reduction, label_smoothing)\u001b[0m\n\u001b[1;32m   3084\u001b[0m \u001b[38;5;28;01mif\u001b[39;00m size_average \u001b[38;5;129;01mis\u001b[39;00m \u001b[38;5;129;01mnot\u001b[39;00m \u001b[38;5;28;01mNone\u001b[39;00m \u001b[38;5;129;01mor\u001b[39;00m reduce \u001b[38;5;129;01mis\u001b[39;00m \u001b[38;5;129;01mnot\u001b[39;00m \u001b[38;5;28;01mNone\u001b[39;00m:\n\u001b[1;32m   3085\u001b[0m     reduction \u001b[38;5;241m=\u001b[39m _Reduction\u001b[38;5;241m.\u001b[39mlegacy_get_string(size_average, reduce)\n\u001b[0;32m-> 3086\u001b[0m \u001b[38;5;28;01mreturn\u001b[39;00m \u001b[43mtorch\u001b[49m\u001b[38;5;241;43m.\u001b[39;49m\u001b[43m_C\u001b[49m\u001b[38;5;241;43m.\u001b[39;49m\u001b[43m_nn\u001b[49m\u001b[38;5;241;43m.\u001b[39;49m\u001b[43mcross_entropy_loss\u001b[49m\u001b[43m(\u001b[49m\u001b[38;5;28;43minput\u001b[39;49m\u001b[43m,\u001b[49m\u001b[43m \u001b[49m\u001b[43mtarget\u001b[49m\u001b[43m,\u001b[49m\u001b[43m \u001b[49m\u001b[43mweight\u001b[49m\u001b[43m,\u001b[49m\u001b[43m \u001b[49m\u001b[43m_Reduction\u001b[49m\u001b[38;5;241;43m.\u001b[39;49m\u001b[43mget_enum\u001b[49m\u001b[43m(\u001b[49m\u001b[43mreduction\u001b[49m\u001b[43m)\u001b[49m\u001b[43m,\u001b[49m\u001b[43m \u001b[49m\u001b[43mignore_index\u001b[49m\u001b[43m,\u001b[49m\u001b[43m \u001b[49m\u001b[43mlabel_smoothing\u001b[49m\u001b[43m)\u001b[49m\n",
      "\u001b[0;31mIndexError\u001b[0m: Target -1 is out of bounds."
     ]
    }
   ],
   "source": [
    "device = torch.device('cuda' if torch.cuda.is_available() else 'cpu')\n",
    "data = data.to(device)\n",
    "\n",
    "labels = data.y[data.y != -1]\n",
    "counts = torch.bincount(labels)\n",
    "weight = torch.tensor([1.0, counts[0].float() / counts[1].float()], device=device)\n",
    "print(f\"Class weights: normal={weight[0]:.2f}, fraud={weight[1]:.2f}\")\n",
    "\n",
    "# 3) Инициализируем модель, optimizer, criterion (с весами из шага 2)\n",
    "model = GraphSAGE(data.num_node_features, 64, int(data.y.max().item())+1).to(device)\n",
    "optimizer = torch.optim.Adam(model.parameters(), lr=0.01, weight_decay=5e-4)\n",
    "criterion = torch.nn.CrossEntropyLoss(weight=weight)\n",
    "\n",
    "# 4) Цикл обучения\n",
    "def train_epoch():\n",
    "    model.train()\n",
    "    total_loss = 0\n",
    "    for batch in train_loader:\n",
    "        batch = batch.to(device)\n",
    "        optimizer.zero_grad()\n",
    "        out = model(batch.x, batch.edge_index)\n",
    "        # только первые batch.batch_size предсказаний — для корневых узлов\n",
    "        loss = criterion(out[:batch.batch_size], batch.y[:batch.batch_size])\n",
    "        loss.backward()\n",
    "        optimizer.step()\n",
    "        total_loss += loss.item() * batch.batch_size\n",
    "    return total_loss / int(data.train_mask.sum())\n",
    "\n",
    "@torch.no_grad()\n",
    "def eval_loader(loader):\n",
    "    model.eval()\n",
    "    correct = total = 0\n",
    "    for batch in loader:\n",
    "        batch = batch.to(device)\n",
    "        out = model(batch.x, batch.edge_index)\n",
    "        preds = out[:batch.batch_size].argmax(dim=1)\n",
    "        y = batch.y[:batch.batch_size]\n",
    "        correct += int((preds == y).sum())\n",
    "        total   += batch.batch_size\n",
    "    return correct / total\n",
    "\n",
    "for epoch in range(1, 51):\n",
    "    loss = train_epoch()\n",
    "    train_acc = eval_loader(train_loader)\n",
    "    val_acc   = eval_loader(val_loader)\n",
    "    print(f'Epoch {epoch:02d} | Loss {loss:.4f} | Train Acc {train_acc:.3f} | Val Acc {val_acc:.3f}')\n",
    "\n",
    "test_acc = eval_loader(test_loader)\n",
    "print(f'✅ Test Accuracy: {test_acc:.3f}')"
   ]
  },
  {
   "cell_type": "markdown",
   "id": "2115f6d0",
   "metadata": {},
   "source": [
    "## 📊 Визуализация результатов\n",
    "Вычислим метрики на тестовой выборке и отобразим матрицу ошибок."
   ]
  },
  {
   "cell_type": "code",
   "execution_count": null,
   "id": "1091d932",
   "metadata": {},
   "outputs": [
    {
     "name": "stdout",
     "output_type": "stream",
     "text": [
      "              precision    recall  f1-score   support\n",
      "\n",
      "           0      0.894     0.839     0.865       410\n",
      "           1      0.735     0.817     0.774       224\n",
      "\n",
      "    accuracy                          0.831       634\n",
      "   macro avg      0.814     0.828     0.820       634\n",
      "weighted avg      0.837     0.831     0.833       634\n",
      "\n"
     ]
    },
    {
     "data": {
      "image/png": "[encoded data removed]",
      "text/plain": [
       "<Figure size 500x400 with 2 Axes>"
      ]
     },
     "metadata": {},
     "output_type": "display_data"
    }
   ],
   "source": [
    "from sklearn.metrics import classification_report, confusion_matrix\n",
    "import seaborn as sns\n",
    "import matplotlib.pyplot as plt\n",
    "\n",
    "model.eval()\n",
    "logits = model(data.x, data.edge_index)\n",
    "preds  = logits.argmax(dim=1)\n",
    "\n",
    "mask = (data.test_mask) & (data.y != -1)\n",
    "y_true, y_pred = data.y[mask].cpu(), preds[mask].cpu()\n",
    "\n",
    "print(classification_report(y_true, y_pred, digits=3))\n",
    "\n",
    "cm = confusion_matrix(y_true, y_pred)\n",
    "plt.figure(figsize=(5,4))\n",
    "sns.heatmap(cm, annot=True, fmt='d')\n",
    "plt.title('Confusion Matrix (Test)')\n",
    "plt.xlabel('Predicted')\n",
    "plt.ylabel('True')\n",
    "plt.show()"
   ]
  },
  {
   "cell_type": "markdown",
   "id": "043f0a29",
   "metadata": {},
   "source": [
    "## 🕵️‍♂️ Интерпретация предсказаний с **GNNExplainer**\n",
    "Выберем произвольный корректно классифицированный узел из тестовой выборки и посмотрим, какие рёбра и признаки были наиболее важны для модели."
   ]
  },
  {
   "cell_type": "markdown",
   "id": "e62e96cf",
   "metadata": {},
   "source": [
    "## 💾 Сохранение обученной модели"
   ]
  },
  {
   "cell_type": "code",
   "execution_count": null,
   "id": "9b195ef3",
   "metadata": {},
   "outputs": [
    {
     "name": "stdout",
     "output_type": "stream",
     "text": [
      "Модель сохранена в /Users/a1234/Fraud/gnn/checkpoints/gcn_model.pt\n"
     ]
    }
   ],
   "source": [
    "MODEL_PATH = Path('./checkpoints/gcn_model.pt')\n",
    "MODEL_PATH.parent.mkdir(parents=True, exist_ok=True)\n",
    "torch.save(model.state_dict(), MODEL_PATH)\n",
    "print(f'Модель сохранена в {MODEL_PATH.resolve()}')"
   ]
  }
 ],
 "metadata": {
  "kernelspec": {
   "display_name": ".venv",
   "language": "python",
   "name": "python3"
  },
  "language_info": {
   "codemirror_mode": {
    "name": "ipython",
    "version": 3
   },
   "file_extension": ".py",
   "mimetype": "text/x-python",
   "name": "python",
   "nbconvert_exporter": "python",
   "pygments_lexer": "ipython3",
   "version": "3.13.3"
  }
 },
 "nbformat": 4,
 "nbformat_minor": 5
}
